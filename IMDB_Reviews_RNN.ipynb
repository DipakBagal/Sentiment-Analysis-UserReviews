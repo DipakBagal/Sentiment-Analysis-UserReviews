{
  "nbformat": 4,
  "nbformat_minor": 0,
  "metadata": {
    "colab": {
      "name": "IMDB_Reviews_RNN.ipynb",
      "provenance": [],
      "collapsed_sections": [],
      "authorship_tag": "ABX9TyO8AhG91kNIlMjjBE4YyiCD",
      "include_colab_link": true
    },
    "kernelspec": {
      "name": "python3",
      "display_name": "Python 3"
    },
    "accelerator": "GPU"
  },
  "cells": [
    {
      "cell_type": "markdown",
      "metadata": {
        "id": "view-in-github",
        "colab_type": "text"
      },
      "source": [
        "<a href=\"https://colab.research.google.com/github/raamav/Sentiment-Analysis-UserReviews/blob/master/IMDB_Reviews_RNN.ipynb\" target=\"_parent\"><img src=\"https://colab.research.google.com/assets/colab-badge.svg\" alt=\"Open In Colab\"/></a>"
      ]
    },
    {
      "cell_type": "markdown",
      "metadata": {
        "id": "uWc6DG_g66-k",
        "colab_type": "text"
      },
      "source": [
        "# IMDB Reviews Using RNN\n",
        "\n",
        "as covered in deeplearning.ai course"
      ]
    },
    {
      "cell_type": "code",
      "metadata": {
        "id": "1hAmWY2F6pPG",
        "colab_type": "code",
        "colab": {}
      },
      "source": [
        "import tensorflow as tf\n",
        "from tensorflow import keras"
      ],
      "execution_count": 0,
      "outputs": []
    },
    {
      "cell_type": "code",
      "metadata": {
        "id": "MRi7gLR465MP",
        "colab_type": "code",
        "outputId": "3c840411-89dc-481d-b1be-5e942dd53705",
        "colab": {
          "base_uri": "https://localhost:8080/",
          "height": 34
        }
      },
      "source": [
        "tf.__version__"
      ],
      "execution_count": 0,
      "outputs": [
        {
          "output_type": "execute_result",
          "data": {
            "text/plain": [
              "'2.2.0-rc2'"
            ]
          },
          "metadata": {
            "tags": []
          },
          "execution_count": 81
        }
      ]
    },
    {
      "cell_type": "code",
      "metadata": {
        "id": "dvLobTuW7FkZ",
        "colab_type": "code",
        "colab": {}
      },
      "source": [
        "import tensorflow_datasets as tfds"
      ],
      "execution_count": 0,
      "outputs": []
    },
    {
      "cell_type": "code",
      "metadata": {
        "id": "Hsl1ve_b7SGm",
        "colab_type": "code",
        "colab": {}
      },
      "source": [
        "imdb, info = tfds.load(\"imdb_reviews\", with_info = True, as_supervised = True)"
      ],
      "execution_count": 0,
      "outputs": []
    },
    {
      "cell_type": "code",
      "metadata": {
        "id": "pOEZ5sPo7cTe",
        "colab_type": "code",
        "colab": {}
      },
      "source": [
        "import numpy as np"
      ],
      "execution_count": 0,
      "outputs": []
    },
    {
      "cell_type": "code",
      "metadata": {
        "id": "mQLA5Srf7qEQ",
        "colab_type": "code",
        "colab": {}
      },
      "source": [
        "train_data, test_data = imdb['train'],imdb['test']"
      ],
      "execution_count": 0,
      "outputs": []
    },
    {
      "cell_type": "markdown",
      "metadata": {
        "id": "68QBjBHQ70LP",
        "colab_type": "text"
      },
      "source": [
        "**IMP** The train and the test sets are iterables, each having 25,000 values of sentences and labels"
      ]
    },
    {
      "cell_type": "code",
      "metadata": {
        "id": "agcO1vVC8JOD",
        "colab_type": "code",
        "colab": {}
      },
      "source": [
        "# GETTING SENTENCES AND LABELS FOR TRAINING DATA\n",
        "\n",
        "training_sentences = []\n",
        "training_labels = []\n",
        "\n",
        "for s,l in train_data:\n",
        "  training_sentences.append(str(s.numpy()))\n",
        "  training_labels.append(l.numpy())"
      ],
      "execution_count": 0,
      "outputs": []
    },
    {
      "cell_type": "code",
      "metadata": {
        "id": "lbq2WUjs8JXP",
        "colab_type": "code",
        "outputId": "0dd44740-b874-4884-d7dd-56fe4b7a58e6",
        "colab": {
          "base_uri": "https://localhost:8080/",
          "height": 71
        }
      },
      "source": [
        "print(training_sentences[2])\n",
        "print(training_labels[2])"
      ],
      "execution_count": 0,
      "outputs": [
        {
          "output_type": "stream",
          "text": [
            "b'Mann photographs the Alberta Rocky Mountains in a superb fashion, and Jimmy Stewart and Walter Brennan give enjoyable performances as they always seem to do. <br /><br />But come on Hollywood - a Mountie telling the people of Dawson City, Yukon to elect themselves a marshal (yes a marshal!) and to enforce the law themselves, then gunfighters battling it out on the streets for control of the town? <br /><br />Nothing even remotely resembling that happened on the Canadian side of the border during the Klondike gold rush. Mr. Mann and company appear to have mistaken Dawson City for Deadwood, the Canadian North for the American Wild West.<br /><br />Canadian viewers be prepared for a Reefer Madness type of enjoyable howl with this ludicrous plot, or, to shake your head in disgust.'\n",
            "0\n"
          ],
          "name": "stdout"
        }
      ]
    },
    {
      "cell_type": "code",
      "metadata": {
        "id": "pVPCVDQk8JbL",
        "colab_type": "code",
        "colab": {}
      },
      "source": [
        "# GETTING SENTENCES AND LABELS FOR TRAINING DATA\n",
        "\n",
        "testing_sentences = []\n",
        "testing_labels = []\n",
        "\n",
        "for s,l in test_data:\n",
        "  testing_sentences.append(str(s.numpy()))\n",
        "  testing_labels.append(l.numpy())"
      ],
      "execution_count": 0,
      "outputs": []
    },
    {
      "cell_type": "code",
      "metadata": {
        "id": "PMMI7rhv8JeU",
        "colab_type": "code",
        "outputId": "d5354700-1689-43d9-f573-6892a0d8dd06",
        "colab": {
          "base_uri": "https://localhost:8080/",
          "height": 71
        }
      },
      "source": [
        "print(testing_sentences[3])\n",
        "print(testing_labels[3])"
      ],
      "execution_count": 0,
      "outputs": [
        {
          "output_type": "stream",
          "text": [
            "b'Poor Shirley MacLaine tries hard to lend some gravitas to this mawkish, gag-inducing \"feel-good\" movie, but she\\'s trampled by the run-away sentimentality of a film that\\'s not the least bit grounded in reality.<br /><br />This was directed by Curtis Hanson? Did he have a lobotomy since we last heard from him? Hanson can do effective drama sprinkled with comedy, as evidenced by \"Wonder Boys.\" So I don\\'t know what happened to him here. This is the kind of movie that doesn\\'t want to accept that life is messy and fussy, and that neat, tidy endings (however implausible they might be) might make for a nice closing shot, but come across as utterly phony if the people watching the film have been through anything remotely like what the characters in the film go through.<br /><br />My wife and I made a game of calling out the plot points before they occurred -- e.g. \"the old man\\'s going to teach her to read and then drop dead.\" Bingo! This is one of those movies where the characters give little speeches summarizing their emotional problems, making you wonder why they still have emotional problems if they\\'re that aware of what\\'s causing them. Toni Collette (a fine actress, by the way, and one of my favorites if not given a lot to work with here), gives a speech early on about why she buys so many shoes and never wears them, spelling out in flashing neon the film\\'s awkward connecting motif. At that moment, I knew what I was in for, and the film was a downward spiral from there.<br /><br />Grade: C-'\n",
            "0\n"
          ],
          "name": "stdout"
        }
      ]
    },
    {
      "cell_type": "code",
      "metadata": {
        "id": "eVha-tXxA8XS",
        "colab_type": "code",
        "outputId": "f1dc2ba8-42c4-4289-df2a-4f9724c610a3",
        "colab": {
          "base_uri": "https://localhost:8080/",
          "height": 136
        }
      },
      "source": [
        "print(\"type(training_sentences) :\", type(training_sentences))\n",
        "print(\" \\n type(training_labels) :\", type(training_labels))\n",
        "\n",
        "print(\" \\n shape of training_sentences :\", len(training_sentences))\n",
        "print(\" \\n shape of training_labels :\", len(training_labels))"
      ],
      "execution_count": 0,
      "outputs": [
        {
          "output_type": "stream",
          "text": [
            "type(training_sentences) : <class 'list'>\n",
            " \n",
            " type(training_labels) : <class 'list'>\n",
            " \n",
            " shape of training_sentences : 25000\n",
            " \n",
            " shape of training_labels : 25000\n"
          ],
          "name": "stdout"
        }
      ]
    },
    {
      "cell_type": "markdown",
      "metadata": {
        "id": "cfeotMqO8Jhd",
        "colab_type": "text"
      },
      "source": [
        "**IMP** We have successfuly converted the predictors and the labels into lists"
      ]
    },
    {
      "cell_type": "code",
      "metadata": {
        "id": "rMBEk9008Jsg",
        "colab_type": "code",
        "colab": {}
      },
      "source": [
        "# COVERTING THE LABELS TO NUMPY ARRAYS\n",
        "\n",
        "training_labels_final = np.array(training_labels)\n",
        "testing_labels_final = np.array(testing_labels)"
      ],
      "execution_count": 0,
      "outputs": []
    },
    {
      "cell_type": "code",
      "metadata": {
        "id": "ptNipaQNCbTo",
        "colab_type": "code",
        "outputId": "4c3a614e-e699-47e4-af96-5a577fe291c8",
        "colab": {
          "base_uri": "https://localhost:8080/",
          "height": 34
        }
      },
      "source": [
        "print(training_labels_final.shape)"
      ],
      "execution_count": 0,
      "outputs": [
        {
          "output_type": "stream",
          "text": [
            "(25000,)\n"
          ],
          "name": "stdout"
        }
      ]
    },
    {
      "cell_type": "code",
      "metadata": {
        "id": "umIcWIJ_CfFs",
        "colab_type": "code",
        "colab": {}
      },
      "source": [
        "# TOKENIZING THE CODE \n",
        "# THREE THINGS: ENCODE SEQUENCE AND PAD SEQUENCE. GET WORD_INDEX\n",
        "\n",
        "vocab_index = 10000\n",
        "embedding_dim = 16\n",
        "max_length = 120\n",
        "trunc_type = 'post'\n",
        "oov_tok = \"<OOV>\"\n",
        "\n",
        "\n",
        "from keras.preprocessing.text import Tokenizer\n",
        "from keras.preprocessing.sequence import pad_sequences\n",
        "\n",
        "tokenizer = Tokenizer(num_words = vocab_index, oov_token = oov_tok)\n",
        "\n",
        "tokenizer.fit_on_texts(training_sentences)\n",
        "\n",
        "word_index = tokenizer.word_index"
      ],
      "execution_count": 0,
      "outputs": []
    },
    {
      "cell_type": "code",
      "metadata": {
        "id": "txVaeXRyE0bB",
        "colab_type": "code",
        "outputId": "83fd2849-90da-4f34-ba86-13e4696d57d5",
        "colab": {
          "base_uri": "https://localhost:8080/",
          "height": 34
        }
      },
      "source": [
        "print(\"length of the unfiltered vocabulary : \", len(word_index))"
      ],
      "execution_count": 0,
      "outputs": [
        {
          "output_type": "stream",
          "text": [
            "length of the unfiltered vocabulary :  86539\n"
          ],
          "name": "stdout"
        }
      ]
    },
    {
      "cell_type": "code",
      "metadata": {
        "id": "sMq1DW_hFDUt",
        "colab_type": "code",
        "colab": {}
      },
      "source": [
        "training_sequence = tokenizer.texts_to_sequences(training_sentences)\n",
        "\n",
        "training_padded = pad_sequences(training_sequence, maxlen = max_length,padding = \"post\", truncating = trunc_type)\n"
      ],
      "execution_count": 0,
      "outputs": []
    },
    {
      "cell_type": "code",
      "metadata": {
        "id": "UvgXMAx3GjI7",
        "colab_type": "code",
        "outputId": "66b80235-087c-4475-94f9-2fcfbd89e6a6",
        "colab": {
          "base_uri": "https://localhost:8080/",
          "height": 85
        }
      },
      "source": [
        "print(\"\\n shape of training sequence\", len(training_sequence))\n",
        "print(\"\\n shape of padding sequence\", training_padded.shape)"
      ],
      "execution_count": 0,
      "outputs": [
        {
          "output_type": "stream",
          "text": [
            "\n",
            " shape of training sequence 25000\n",
            "\n",
            " shape of padding sequence (25000, 120)\n"
          ],
          "name": "stdout"
        }
      ]
    },
    {
      "cell_type": "code",
      "metadata": {
        "id": "o_QFBkBVGzS4",
        "colab_type": "code",
        "colab": {}
      },
      "source": [
        "# IMPLEMENTING SEQUENCE ENCODING AND PADDING ON THE TESTING SET\n",
        "\n",
        "testing_sequence = tokenizer.texts_to_sequences(testing_sentences)\n",
        "\n",
        "testing_padded = pad_sequences(testing_sequence, maxlen = max_length, padding = \"post\", truncating = trunc_type)"
      ],
      "execution_count": 0,
      "outputs": []
    },
    {
      "cell_type": "code",
      "metadata": {
        "id": "MrcCXUzbH3eI",
        "colab_type": "code",
        "outputId": "644a03fa-6632-410b-f59a-d07d4b394033",
        "colab": {
          "base_uri": "https://localhost:8080/",
          "height": 34
        }
      },
      "source": [
        "print(\"shape of testing padding sequence\", testing_padded.shape)"
      ],
      "execution_count": 0,
      "outputs": [
        {
          "output_type": "stream",
          "text": [
            "shape of testing padding sequence (25000, 120)\n"
          ],
          "name": "stdout"
        }
      ]
    },
    {
      "cell_type": "markdown",
      "metadata": {
        "id": "amJ8X2uRIMA8",
        "colab_type": "text"
      },
      "source": [
        "**We now have the encoded and padded sentences (as numpy arrays) for both the training and test datasets.** \n",
        "**Additionally, the labels have been converted to numpy arrays**"
      ]
    },
    {
      "cell_type": "markdown",
      "metadata": {
        "id": "4FkMd_qiWU1u",
        "colab_type": "text"
      },
      "source": [
        "## Dense Model with `Flatten` Layer()\n",
        "\n",
        "**Summary**: "
      ]
    },
    {
      "cell_type": "code",
      "metadata": {
        "id": "7e0RaJRNUjy3",
        "colab_type": "code",
        "colab": {}
      },
      "source": [
        "keras.backend.clear_session()\n",
        "np.random.seed(42)\n",
        "tf.random.set_seed(42)"
      ],
      "execution_count": 0,
      "outputs": []
    },
    {
      "cell_type": "code",
      "metadata": {
        "id": "y0frGqKmIXQX",
        "colab_type": "code",
        "colab": {}
      },
      "source": [
        "# CREATE A DENSE NEURAL NETWORK IN KERAS\n",
        "\n",
        "vocab_size = vocab_index + 1   # NUMBER OF UNIQUE WORDS IN VOCAB = 10,000 + 1 \n",
        "embedding_dimensions = embedding_dim # =16\n",
        "sentence_length = max_length  # LENGTH OF EACH PADDED SENTENCE = 120\n",
        "\n",
        "dense_model = keras.models.Sequential([\n",
        "                                          \n",
        "                  keras.layers.Embedding(input_dim = vocab_size,\n",
        "                                         output_dim = embedding_dimensions,\n",
        "                                         input_length = sentence_length),\n",
        "                                          \n",
        "                  keras.layers.Flatten(),\n",
        "\n",
        "                  keras.layers.Dense(50, activation = \"elu\",kernel_initializer = 'he_normal'),\n",
        "                  keras.layers.BatchNormalization(),\n",
        "                  keras.layers.Dropout(rate = 0.2),\n",
        "\n",
        "                  keras.layers.Dense(30, activation = \"elu\",kernel_initializer = 'he_normal'),\n",
        "                  keras.layers.BatchNormalization(),\n",
        "                  keras.layers.Dropout(rate = 0.1),\n",
        "\n",
        "\n",
        "\n",
        "                  keras.layers.Dense(1, activation = \"sigmoid\")\n",
        "\n",
        "\n",
        "])\n",
        "\n",
        "\n",
        "dense_model.compile(optimizer = \"adam\", loss = \"binary_crossentropy\", metrics = ['accuracy'])"
      ],
      "execution_count": 0,
      "outputs": []
    },
    {
      "cell_type": "code",
      "metadata": {
        "id": "0O9m7_SBWQTK",
        "colab_type": "code",
        "outputId": "89895cb6-df34-4fd6-aa7a-631209937f9b",
        "colab": {
          "base_uri": "https://localhost:8080/",
          "height": 459
        }
      },
      "source": [
        "dense_model.summary()"
      ],
      "execution_count": 0,
      "outputs": [
        {
          "output_type": "stream",
          "text": [
            "Model: \"sequential\"\n",
            "_________________________________________________________________\n",
            "Layer (type)                 Output Shape              Param #   \n",
            "=================================================================\n",
            "embedding (Embedding)        (None, 120, 16)           160016    \n",
            "_________________________________________________________________\n",
            "flatten (Flatten)            (None, 1920)              0         \n",
            "_________________________________________________________________\n",
            "dense (Dense)                (None, 50)                96050     \n",
            "_________________________________________________________________\n",
            "batch_normalization (BatchNo (None, 50)                200       \n",
            "_________________________________________________________________\n",
            "dropout (Dropout)            (None, 50)                0         \n",
            "_________________________________________________________________\n",
            "dense_1 (Dense)              (None, 30)                1530      \n",
            "_________________________________________________________________\n",
            "batch_normalization_1 (Batch (None, 30)                120       \n",
            "_________________________________________________________________\n",
            "dropout_1 (Dropout)          (None, 30)                0         \n",
            "_________________________________________________________________\n",
            "dense_2 (Dense)              (None, 1)                 31        \n",
            "=================================================================\n",
            "Total params: 257,947\n",
            "Trainable params: 257,787\n",
            "Non-trainable params: 160\n",
            "_________________________________________________________________\n"
          ],
          "name": "stdout"
        }
      ]
    },
    {
      "cell_type": "code",
      "metadata": {
        "id": "CQ6cAMf36erZ",
        "colab_type": "code",
        "colab": {}
      },
      "source": [
        "# IMPLEMENT CALLBACKS\n",
        "\n",
        "checkpoint_cb = keras.callbacks.ModelCheckpoint(\"imdb_dense_best.h5\",save_best_only = True)\n",
        "\n",
        "early_stopping_cb = keras.callbacks.EarlyStopping(patience = 5, restore_best_weights = True)\n"
      ],
      "execution_count": 0,
      "outputs": []
    },
    {
      "cell_type": "code",
      "metadata": {
        "id": "4KE-tnpfIXU9",
        "colab_type": "code",
        "outputId": "5119e19f-38c3-4e7c-c859-29e8d7ee6382",
        "colab": {
          "base_uri": "https://localhost:8080/",
          "height": 241
        }
      },
      "source": [
        "history = dense_model.fit(training_padded, training_labels_final, epochs = 20,\n",
        "                          validation_data = (testing_padded, testing_labels_final),\n",
        "                          callbacks = [checkpoint_cb, early_stopping_cb])"
      ],
      "execution_count": 0,
      "outputs": [
        {
          "output_type": "stream",
          "text": [
            "Epoch 1/20\n",
            "782/782 [==============================] - 6s 8ms/step - loss: 0.5435 - accuracy: 0.7074 - val_loss: 0.4145 - val_accuracy: 0.8080\n",
            "Epoch 2/20\n",
            "782/782 [==============================] - 6s 7ms/step - loss: 0.2745 - accuracy: 0.8861 - val_loss: 0.4686 - val_accuracy: 0.7945\n",
            "Epoch 3/20\n",
            "782/782 [==============================] - 6s 7ms/step - loss: 0.1196 - accuracy: 0.9576 - val_loss: 0.6376 - val_accuracy: 0.7866\n",
            "Epoch 4/20\n",
            "782/782 [==============================] - 6s 7ms/step - loss: 0.0672 - accuracy: 0.9764 - val_loss: 0.8098 - val_accuracy: 0.7799\n",
            "Epoch 5/20\n",
            "782/782 [==============================] - 6s 7ms/step - loss: 0.0480 - accuracy: 0.9832 - val_loss: 0.8871 - val_accuracy: 0.7772\n",
            "Epoch 6/20\n",
            "782/782 [==============================] - 6s 7ms/step - loss: 0.0410 - accuracy: 0.9845 - val_loss: 0.9796 - val_accuracy: 0.7783\n"
          ],
          "name": "stdout"
        }
      ]
    },
    {
      "cell_type": "code",
      "metadata": {
        "id": "ufiyXIUh67n5",
        "colab_type": "code",
        "outputId": "09482148-ca7d-4885-910b-9d11967844a9",
        "colab": {
          "base_uri": "https://localhost:8080/",
          "height": 367
        }
      },
      "source": [
        "# BETTER LOOKING PLOTS FOR ACCURACY AND LOSS\n",
        "\n",
        "import matplotlib.pyplot as plt\n",
        "\n",
        "fig,axes = plt.subplots(nrows = 1, ncols = 2, figsize = (12,5))\n",
        "\n",
        "axes[0].plot(history.history['accuracy'])\n",
        "axes[0].plot(history.history['val_accuracy'])\n",
        "axes[0].set_ylim([0.5,1])\n",
        "axes[0].set_title('Model Accuracy')\n",
        "axes[0].set_ylabel('Accuracy')\n",
        "axes[0].set_xlabel('Epoch')\n",
        "axes[0].legend(['Training', 'Validation'], loc='lower right')\n",
        "\n",
        "axes[1].plot(history.history['loss'])\n",
        "axes[1].plot(history.history['val_loss'])\n",
        "axes[1].set_title('Model Loss')\n",
        "axes[1].set_ylabel('Loss')\n",
        "axes[1].set_xlabel('Epoch')\n",
        "axes[1].legend(['Training', 'Validation'], loc='upper left')"
      ],
      "execution_count": 0,
      "outputs": [
        {
          "output_type": "execute_result",
          "data": {
            "text/plain": [
              "<matplotlib.legend.Legend at 0x7f71dd7a3e48>"
            ]
          },
          "metadata": {
            "tags": []
          },
          "execution_count": 104
        },
        {
          "output_type": "display_data",
          "data": {
            "image/png": "[encoded data removed]",
            "text/plain": [
              "<Figure size 864x360 with 2 Axes>"
            ]
          },
          "metadata": {
            "tags": [],
            "needs_background": "light"
          }
        }
      ]
    },
    {
      "cell_type": "code",
      "metadata": {
        "id": "aHYA4me97oFR",
        "colab_type": "code",
        "outputId": "ec47d0ed-18e6-4a78-f946-8673cfba2cc6",
        "colab": {
          "base_uri": "https://localhost:8080/",
          "height": 105
        }
      },
      "source": [
        "# LOADING THE BEST MODEL\n",
        "best_model = keras.models.load_model('imdb_dense_best.h5')\n",
        "\n",
        "best_model.evaluate(testing_padded, testing_labels_final)"
      ],
      "execution_count": 0,
      "outputs": [
        {
          "output_type": "stream",
          "text": [
            "WARNING:tensorflow:Error in loading the saved optimizer state. As a result, your model is starting with a freshly initialized optimizer.\n"
          ],
          "name": "stdout"
        },
        {
          "output_type": "stream",
          "text": [
            "WARNING:tensorflow:Error in loading the saved optimizer state. As a result, your model is starting with a freshly initialized optimizer.\n"
          ],
          "name": "stderr"
        },
        {
          "output_type": "stream",
          "text": [
            "782/782 [==============================] - 2s 2ms/step - loss: 0.4145 - accuracy: 0.8080\n"
          ],
          "name": "stdout"
        },
        {
          "output_type": "execute_result",
          "data": {
            "text/plain": [
              "[0.4144747853279114, 0.8080400228500366]"
            ]
          },
          "metadata": {
            "tags": []
          },
          "execution_count": 105
        }
      ]
    },
    {
      "cell_type": "markdown",
      "metadata": {
        "id": "3J0mNKLFVSZ5",
        "colab_type": "text"
      },
      "source": [
        "## Dense Model with `GlobalAveragePooling1D` layer\n",
        "\n",
        "**SUMMARY** Slightly less number of parameters"
      ]
    },
    {
      "cell_type": "code",
      "metadata": {
        "id": "7U9rnSh7WrOd",
        "colab_type": "code",
        "outputId": "fe35ed7d-db53-46b5-f099-69105f841632",
        "colab": {
          "base_uri": "https://localhost:8080/",
          "height": 289
        }
      },
      "source": [
        "# CLEAR BACKEND DATA\n",
        "\n",
        "keras.backend.clear_session()\n",
        "np.random.seed(42)\n",
        "tf.random.set_seed(42)\n",
        "\n",
        "\n",
        "# CREATE A DENSE NEURAL NETWORK IN KERAS\n",
        "\n",
        "vocab_size = vocab_index + 1   # NUMBER OF UNIQUE WORDS IN VOCAB = 10,000 + 1 \n",
        "embedding_dimensions = 16\n",
        "sentence_length = max_length  # LENGTH OF EACH PADDED SENTENCE = 120\n",
        "\n",
        "\n",
        "dense_model_pooling = keras.models.Sequential([\n",
        "                                          \n",
        "                  keras.layers.Embedding(input_dim = vocab_size,\n",
        "                                         output_dim = embedding_dimensions,\n",
        "                                         input_length = sentence_length),\n",
        "                                          \n",
        "                  keras.layers.GlobalAveragePooling1D(),\n",
        "\n",
        "                  keras.layers.Dense(6, activation = \"relu\"),\n",
        "                  keras.layers.Dense(1, activation = \"sigmoid\")\n",
        "\n",
        "\n",
        "])\n",
        "\n",
        "\n",
        "# VIEW MODEL ARCHITECTURE\n",
        "dense_model_pooling.summary()\n"
      ],
      "execution_count": 0,
      "outputs": [
        {
          "output_type": "stream",
          "text": [
            "Model: \"sequential\"\n",
            "_________________________________________________________________\n",
            "Layer (type)                 Output Shape              Param #   \n",
            "=================================================================\n",
            "embedding (Embedding)        (None, 120, 16)           160016    \n",
            "_________________________________________________________________\n",
            "global_average_pooling1d (Gl (None, 16)                0         \n",
            "_________________________________________________________________\n",
            "dense (Dense)                (None, 6)                 102       \n",
            "_________________________________________________________________\n",
            "dense_1 (Dense)              (None, 1)                 7         \n",
            "=================================================================\n",
            "Total params: 160,125\n",
            "Trainable params: 160,125\n",
            "Non-trainable params: 0\n",
            "_________________________________________________________________\n"
          ],
          "name": "stdout"
        }
      ]
    },
    {
      "cell_type": "code",
      "metadata": {
        "id": "KzgZk2YhWrSt",
        "colab_type": "code",
        "outputId": "380650ed-4610-4478-a231-828e2df29cd0",
        "colab": {
          "base_uri": "https://localhost:8080/",
          "height": 377
        }
      },
      "source": [
        "# COMPILE AND FIT MODEL\n",
        "\n",
        "dense_model_pooling.compile(optimizer = \"adam\", loss = \"binary_crossentropy\", metrics = ['accuracy'])\n",
        "\n",
        "history = dense_model_pooling.fit(training_padded, training_labels_final, epochs = 10,\n",
        "                          validation_data = (testing_padded, testing_labels_final))\n"
      ],
      "execution_count": 0,
      "outputs": [
        {
          "output_type": "stream",
          "text": [
            "Epoch 1/10\n",
            "782/782 [==============================] - 5s 6ms/step - loss: 0.5506 - accuracy: 0.7550 - val_loss: 0.4174 - val_accuracy: 0.8147\n",
            "Epoch 2/10\n",
            "782/782 [==============================] - 5s 6ms/step - loss: 0.3327 - accuracy: 0.8605 - val_loss: 0.3678 - val_accuracy: 0.8359\n",
            "Epoch 3/10\n",
            "782/782 [==============================] - 5s 6ms/step - loss: 0.2710 - accuracy: 0.8899 - val_loss: 0.3737 - val_accuracy: 0.8353\n",
            "Epoch 4/10\n",
            "782/782 [==============================] - 5s 6ms/step - loss: 0.2360 - accuracy: 0.9068 - val_loss: 0.3873 - val_accuracy: 0.8346\n",
            "Epoch 5/10\n",
            "782/782 [==============================] - 5s 6ms/step - loss: 0.2087 - accuracy: 0.9215 - val_loss: 0.4146 - val_accuracy: 0.8289\n",
            "Epoch 6/10\n",
            "782/782 [==============================] - 5s 6ms/step - loss: 0.1882 - accuracy: 0.9292 - val_loss: 0.4698 - val_accuracy: 0.8120\n",
            "Epoch 7/10\n",
            "782/782 [==============================] - 5s 6ms/step - loss: 0.1702 - accuracy: 0.9405 - val_loss: 0.4783 - val_accuracy: 0.8175\n",
            "Epoch 8/10\n",
            "782/782 [==============================] - 5s 6ms/step - loss: 0.1545 - accuracy: 0.9452 - val_loss: 0.5184 - val_accuracy: 0.8126\n",
            "Epoch 9/10\n",
            "782/782 [==============================] - 5s 6ms/step - loss: 0.1417 - accuracy: 0.9507 - val_loss: 0.5674 - val_accuracy: 0.8054\n",
            "Epoch 10/10\n",
            "782/782 [==============================] - 5s 6ms/step - loss: 0.1300 - accuracy: 0.9562 - val_loss: 0.5973 - val_accuracy: 0.8034\n"
          ],
          "name": "stdout"
        }
      ]
    },
    {
      "cell_type": "code",
      "metadata": {
        "id": "u1-2eLp7WrWE",
        "colab_type": "code",
        "outputId": "07676dc1-491f-4e77-aa43-2b9fed2e6609",
        "colab": {
          "base_uri": "https://localhost:8080/",
          "height": 51
        }
      },
      "source": [
        "# GETTING WEIGHTS OF THE LAYERS\n",
        "# VERY USEFUL TO GET A SENSE OF WHATS HAPPENING IN THE LAYERS\n",
        "\n",
        "\n",
        "# EMBEDDING LAYER\n",
        "a = dense_model.layers[0] \n",
        "weights = a.get_weights() \n",
        "print(\"\\n weights[0].shape :\",weights[0].shape) # Emb. layer has 16,016 param\n",
        "\n"
      ],
      "execution_count": 0,
      "outputs": [
        {
          "output_type": "stream",
          "text": [
            "\n",
            " weights[0].shape : (10001, 16)\n"
          ],
          "name": "stdout"
        }
      ]
    },
    {
      "cell_type": "markdown",
      "metadata": {
        "id": "d1ffEBFjtFAn",
        "colab_type": "text"
      },
      "source": [
        "##### QUICK SUMMARY\n",
        "The best I have got so far is 80%.\n",
        "\n",
        "I'll be attempting the following THREE approaces to try and incease the accuracy ( **Target = 85%** )\n",
        "1. Using Sequence Models (LSTMs/GRUs)\n",
        "2. Using Pre-Trained Embeddings (GloVe - Global Vectors for Word Representation)\n",
        "3. Using Text Preprocessing Techniques (e.g. Lemmatization, Stop Words etc)\n",
        "\n",
        "<BR>\n",
        "\n",
        "## LSTM Based Model "
      ]
    },
    {
      "cell_type": "code",
      "metadata": {
        "id": "mCIthrScE1RP",
        "colab_type": "code",
        "outputId": "0d274480-12d1-42f3-f6da-247db942f6ae",
        "colab": {
          "base_uri": "https://localhost:8080/",
          "height": 493
        }
      },
      "source": [
        "# CLEAR BACKEND DATA\n",
        "\n",
        "keras.backend.clear_session()\n",
        "np.random.seed(42)\n",
        "tf.random.set_seed(42)\n",
        "\n",
        "\n",
        "# CREATE A DENSE NEURAL NETWORK IN KERAS\n",
        "\n",
        "vocab_size = vocab_index + 1   # NUMBER OF UNIQUE WORDS IN VOCAB = 10,000 + 1 \n",
        "embedding_dimensions = 16\n",
        "sentence_length = max_length  # LENGTH OF EACH PADDED SENTENCE = 120\n",
        "\n",
        "\n",
        "lstm_model = keras.models.Sequential([\n",
        "                                          \n",
        "                  keras.layers.Embedding(input_dim = vocab_size,\n",
        "                                         output_dim = embedding_dimensions,\n",
        "                                         input_length = sentence_length),\n",
        "                          \n",
        "                  keras.layers.Bidirectional(keras.layers.LSTM(64, return_sequences= True)),\n",
        "                  keras.layers.Bidirectional(keras.layers.LSTM(32)),\n",
        "\n",
        "                  keras.layers.Dense(64, activation = \"elu\"),\n",
        "                  keras.layers.Dropout(rate = 0.1),\n",
        "                  keras.layers.BatchNormalization(),\n",
        "                  keras.layers.Dense(32, activation = \"elu\"),\n",
        "                  keras.layers.Dropout(rate = 0.1),\n",
        "                  keras.layers.BatchNormalization(),\n",
        "\n",
        "                  keras.layers.Dense(1, activation = \"sigmoid\")\n",
        "                  \n",
        "])\n",
        "\n",
        "\n",
        "# VIEW MODEL ARCHITECTURE\n",
        "lstm_model.summary()\n"
      ],
      "execution_count": 0,
      "outputs": [
        {
          "output_type": "stream",
          "text": [
            "Model: \"sequential\"\n",
            "_________________________________________________________________\n",
            "Layer (type)                 Output Shape              Param #   \n",
            "=================================================================\n",
            "embedding (Embedding)        (None, 120, 16)           160016    \n",
            "_________________________________________________________________\n",
            "bidirectional (Bidirectional (None, 120, 128)          41472     \n",
            "_________________________________________________________________\n",
            "bidirectional_1 (Bidirection (None, 64)                41216     \n",
            "_________________________________________________________________\n",
            "dense (Dense)                (None, 64)                4160      \n",
            "_________________________________________________________________\n",
            "dropout (Dropout)            (None, 64)                0         \n",
            "_________________________________________________________________\n",
            "batch_normalization (BatchNo (None, 64)                256       \n",
            "_________________________________________________________________\n",
            "dense_1 (Dense)              (None, 32)                2080      \n",
            "_________________________________________________________________\n",
            "dropout_1 (Dropout)          (None, 32)                0         \n",
            "_________________________________________________________________\n",
            "batch_normalization_1 (Batch (None, 32)                128       \n",
            "_________________________________________________________________\n",
            "dense_2 (Dense)              (None, 1)                 33        \n",
            "=================================================================\n",
            "Total params: 249,361\n",
            "Trainable params: 249,169\n",
            "Non-trainable params: 192\n",
            "_________________________________________________________________\n"
          ],
          "name": "stdout"
        }
      ]
    },
    {
      "cell_type": "code",
      "metadata": {
        "id": "OkWC_5cWE1do",
        "colab_type": "code",
        "outputId": "1af2645f-04ee-41e0-dbfa-c14e4b60d209",
        "colab": {
          "base_uri": "https://localhost:8080/",
          "height": 241
        }
      },
      "source": [
        "# IMPLEMENT CALLBACKS\n",
        "\n",
        "checkpoint_cb = keras.callbacks.ModelCheckpoint(\"imdb_lstm_best.h5\",save_best_only = True)\n",
        "\n",
        "early_stopping_cb = keras.callbacks.EarlyStopping(patience = 4, restore_best_weights = True)\n",
        "\n",
        "\n",
        "\n",
        "\n",
        "# COMPILE AND FIT MODEL\n",
        "\n",
        "lstm_model.compile(optimizer = \"adam\", loss = \"binary_crossentropy\", metrics = ['accuracy'])\n",
        "\n",
        "history_2 = lstm_model.fit(training_padded, training_labels_final, epochs = 20,\n",
        "                          validation_data = (testing_padded, testing_labels_final), \n",
        "                           callbacks = [checkpoint_cb, early_stopping_cb]\n",
        "                           )\n"
      ],
      "execution_count": 0,
      "outputs": [
        {
          "output_type": "stream",
          "text": [
            "Epoch 1/20\n",
            "782/782 [==============================] - 26s 33ms/step - loss: 0.4806 - accuracy: 0.7658 - val_loss: 0.5587 - val_accuracy: 0.8102\n",
            "Epoch 2/20\n",
            "782/782 [==============================] - 25s 32ms/step - loss: 0.3183 - accuracy: 0.8648 - val_loss: 0.4186 - val_accuracy: 0.8171\n",
            "Epoch 3/20\n",
            "782/782 [==============================] - 25s 32ms/step - loss: 0.2572 - accuracy: 0.8973 - val_loss: 0.5383 - val_accuracy: 0.8099\n",
            "Epoch 4/20\n",
            "782/782 [==============================] - 25s 32ms/step - loss: 0.2022 - accuracy: 0.9208 - val_loss: 0.4875 - val_accuracy: 0.8090\n",
            "Epoch 5/20\n",
            "782/782 [==============================] - 25s 32ms/step - loss: 0.1423 - accuracy: 0.9481 - val_loss: 0.5936 - val_accuracy: 0.7958\n",
            "Epoch 6/20\n",
            "782/782 [==============================] - 25s 32ms/step - loss: 0.0970 - accuracy: 0.9652 - val_loss: 0.8612 - val_accuracy: 0.7941\n"
          ],
          "name": "stdout"
        }
      ]
    },
    {
      "cell_type": "code",
      "metadata": {
        "id": "tbtx-0jWE1m-",
        "colab_type": "code",
        "outputId": "d84f258c-e1ef-4370-dc98-5ca709ebc4d1",
        "colab": {
          "base_uri": "https://localhost:8080/",
          "height": 367
        }
      },
      "source": [
        "history = history_2\n",
        "\n",
        "\n",
        "# BETTER LOOKING PLOTS FOR ACCURACY AND LOSS\n",
        "\n",
        "import matplotlib.pyplot as plt\n",
        "\n",
        "fig,axes = plt.subplots(nrows = 1, ncols = 2, figsize = (12,5))\n",
        "\n",
        "axes[0].plot(history.history['accuracy'])\n",
        "axes[0].plot(history.history['val_accuracy'])\n",
        "axes[0].set_ylim([0.5,1])\n",
        "axes[0].set_title('Model Accuracy')\n",
        "axes[0].set_ylabel('Accuracy')\n",
        "axes[0].set_xlabel('Epoch')\n",
        "axes[0].legend(['Training', 'Validation'], loc='lower right')\n",
        "\n",
        "axes[1].plot(history.history['loss'])\n",
        "axes[1].plot(history.history['val_loss'])\n",
        "axes[1].set_title('Model Loss')\n",
        "axes[1].set_ylabel('Loss')\n",
        "axes[1].set_xlabel('Epoch')\n",
        "axes[1].legend(['Training', 'Validation'], loc='upper left')\n"
      ],
      "execution_count": 0,
      "outputs": [
        {
          "output_type": "execute_result",
          "data": {
            "text/plain": [
              "<matplotlib.legend.Legend at 0x7f717cb457f0>"
            ]
          },
          "metadata": {
            "tags": []
          },
          "execution_count": 111
        },
        {
          "output_type": "display_data",
          "data": {
            "image/png": "[encoded data removed]",
            "text/plain": [
              "<Figure size 864x360 with 2 Axes>"
            ]
          },
          "metadata": {
            "tags": [],
            "needs_background": "light"
          }
        }
      ]
    },
    {
      "cell_type": "code",
      "metadata": {
        "id": "H3KV95KoE1vm",
        "colab_type": "code",
        "outputId": "a244cbb9-697c-4161-ebb1-d0e868b9e6a3",
        "colab": {
          "base_uri": "https://localhost:8080/",
          "height": 105
        }
      },
      "source": [
        "# LOAD THE BEST PERFORMING MODEL (SO FAR.)\n",
        "best_model = keras.models.load_model('imdb_lstm_best.h5')\n",
        "\n",
        "best_model.evaluate(testing_padded, testing_labels_final)"
      ],
      "execution_count": 0,
      "outputs": [
        {
          "output_type": "stream",
          "text": [
            "WARNING:tensorflow:Error in loading the saved optimizer state. As a result, your model is starting with a freshly initialized optimizer.\n"
          ],
          "name": "stdout"
        },
        {
          "output_type": "stream",
          "text": [
            "WARNING:tensorflow:Error in loading the saved optimizer state. As a result, your model is starting with a freshly initialized optimizer.\n"
          ],
          "name": "stderr"
        },
        {
          "output_type": "stream",
          "text": [
            "782/782 [==============================] - 7s 9ms/step - loss: 0.4186 - accuracy: 0.8171\n"
          ],
          "name": "stdout"
        },
        {
          "output_type": "execute_result",
          "data": {
            "text/plain": [
              "[0.4185641407966614, 0.817080020904541]"
            ]
          },
          "metadata": {
            "tags": []
          },
          "execution_count": 112
        }
      ]
    },
    {
      "cell_type": "markdown",
      "metadata": {
        "id": "I4rYQF_pE130",
        "colab_type": "text"
      },
      "source": [
        "##### QUICK SUMMARY\n",
        "The first tactic yielded a performance improvement of ~2%. The accuracy stands at 82%\n",
        "\n",
        "I'll be attempting the following TWO approaces to try and incease the accuracy ( Target = 85% )\n",
        "\n",
        "1. *Using Sequence Models (LSTMs/GRUs)* **Got an accuracy boost of ~2%**\n",
        "2. Using Pre-Trained Embeddings (GloVe - Global Vectors for Word Representation)\n",
        "3. Using Text Preprocessing Techniques (e.g. Lemmatization, Stop Words etc)\n",
        "\n",
        "Over to attempting **Pre Trained Embeddings**\n",
        "\n",
        "<BR>\n",
        "\n",
        "## LSTM with Pre-Trained Embeddings\n",
        "\n",
        "Using the GloVe 100 dimensional matrix"
      ]
    },
    {
      "cell_type": "code",
      "metadata": {
        "id": "s9TanUjAE2Ac",
        "colab_type": "code",
        "outputId": "0eec1ad0-01ae-4716-9d3c-87fcbafa9324",
        "colab": {
          "base_uri": "https://localhost:8080/",
          "height": 224
        }
      },
      "source": [
        "# GETTING THE EMBEDDING FILE\n",
        "!wget --no-check-certificate \\\n",
        "    https://storage.googleapis.com/laurencemoroney-blog.appspot.com/glove.6B.100d.txt \\\n",
        "    -O /tmp/glove.6B.100d.txt"
      ],
      "execution_count": 0,
      "outputs": [
        {
          "output_type": "stream",
          "text": [
            "--2020-04-12 10:15:23--  https://storage.googleapis.com/laurencemoroney-blog.appspot.com/glove.6B.100d.txt\n",
            "Resolving storage.googleapis.com (storage.googleapis.com)... 74.125.197.128, 2607:f8b0:400e:c03::80\n",
            "Connecting to storage.googleapis.com (storage.googleapis.com)|74.125.197.128|:443... connected.\n",
            "HTTP request sent, awaiting response... 200 OK\n",
            "Length: 347116733 (331M) [text/plain]\n",
            "Saving to: ‘/tmp/glove.6B.100d.txt’\n",
            "\n",
            "/tmp/glove.6B.100d. 100%[===================>] 331.04M  96.6MB/s    in 3.4s    \n",
            "\n",
            "2020-04-12 10:15:27 (96.6 MB/s) - ‘/tmp/glove.6B.100d.txt’ saved [347116733/347116733]\n",
            "\n"
          ],
          "name": "stdout"
        }
      ]
    },
    {
      "cell_type": "code",
      "metadata": {
        "id": "4x5fb8HXZrfn",
        "colab_type": "code",
        "outputId": "bf32c977-98fb-4b85-a798-80128ceafb49",
        "colab": {
          "base_uri": "https://localhost:8080/",
          "height": 34
        }
      },
      "source": [
        "print(\"Length of word_index : \",len(word_index))"
      ],
      "execution_count": 0,
      "outputs": [
        {
          "output_type": "stream",
          "text": [
            "Length of word_index :  86539\n"
          ],
          "name": "stdout"
        }
      ]
    },
    {
      "cell_type": "code",
      "metadata": {
        "id": "gCZ6wcJiE2Ja",
        "colab_type": "code",
        "colab": {}
      },
      "source": [
        "\n",
        "# SET EMBEDDING DIMENSIONS TO 100 (CORRESPONDING TO GLOVE)\n",
        "embedding_dim = 100\n",
        "vocab_size = len(word_index) \n",
        "\n",
        "# USING THE EMBEDDING FILE TO BUILD THE EMBDEDDING MATRIX\n",
        "\n",
        "embeddings_index = {};\n",
        "with open('/tmp/glove.6B.100d.txt') as f:\n",
        "    for line in f:\n",
        "        values = line.split();\n",
        "        word = values[0];\n",
        "        coefs = np.asarray(values[1:], dtype='float32');\n",
        "        embeddings_index[word] = coefs;\n",
        "\n",
        "embeddings_matrix = np.zeros((vocab_size + 1, embedding_dim));\n",
        "\n",
        "for word, i in word_index.items():\n",
        "    embedding_vector = embeddings_index.get(word);\n",
        "    if embedding_vector is not None:\n",
        "        embeddings_matrix[i] = embedding_vector;"
      ],
      "execution_count": 0,
      "outputs": []
    },
    {
      "cell_type": "code",
      "metadata": {
        "id": "4JTRly7VbiEU",
        "colab_type": "code",
        "outputId": "59dad834-7106-472e-9ae7-1c3fd2c96fb3",
        "colab": {
          "base_uri": "https://localhost:8080/",
          "height": 34
        }
      },
      "source": [
        "print(\"Vocab Size: \", vocab_size)"
      ],
      "execution_count": 0,
      "outputs": [
        {
          "output_type": "stream",
          "text": [
            "Vocab Size:  86539\n"
          ],
          "name": "stdout"
        }
      ]
    },
    {
      "cell_type": "code",
      "metadata": {
        "id": "KNdAZiUlWuGF",
        "colab_type": "code",
        "outputId": "b4cab841-9620-413d-d633-3d6b18fcfa1a",
        "colab": {
          "base_uri": "https://localhost:8080/",
          "height": 561
        }
      },
      "source": [
        "# CLEAR BACKEND DATA\n",
        "\n",
        "keras.backend.clear_session()\n",
        "np.random.seed(42)\n",
        "tf.random.set_seed(42)\n",
        "\n",
        "\n",
        "# CREATE A DENSE NEURAL NETWORK IN KERAS\n",
        "\n",
        "#vocab_size = vocab_index + 1   # NUMBER OF UNIQUE WORDS IN VOCAB = 10,000 + 1 \n",
        "#embedding_dimensions = 16\n",
        "sentence_length = max_length  # LENGTH OF EACH PADDED SENTENCE = 120\n",
        "\n",
        "\n",
        "lstm_model_exp = keras.models.Sequential([\n",
        "                                          \n",
        "                  keras.layers.Embedding(input_dim = vocab_size + 1,\n",
        "                                         output_dim = embedding_dim,\n",
        "                                         input_length = sentence_length,\n",
        "                                         weights = [embeddings_matrix],\n",
        "                                         trainable = False\n",
        "                                         ),\n",
        "                          \n",
        "                  keras.layers.Bidirectional(keras.layers.LSTM(64, return_sequences= True)),\n",
        "                  keras.layers.LayerNormalization(),\n",
        "\n",
        "                  keras.layers.Bidirectional(keras.layers.LSTM(64)),\n",
        "                  keras.layers.LayerNormalization(),\n",
        "\n",
        "                  keras.layers.Dense(64, activation = \"elu\"),\n",
        "                  keras.layers.Dropout(rate = 0.1),\n",
        "                  keras.layers.BatchNormalization(),\n",
        "                  \n",
        "                  keras.layers.Dense(32, activation = \"elu\"),\n",
        "                  keras.layers.Dropout(rate = 0.1),\n",
        "                  keras.layers.BatchNormalization(),\n",
        "\n",
        "                  keras.layers.Dense(1, activation = \"sigmoid\")\n",
        "                  \n",
        "])\n",
        "\n",
        "\n",
        "# VIEW MODEL ARCHITECTURE\n",
        "lstm_model_exp.summary()\n"
      ],
      "execution_count": 0,
      "outputs": [
        {
          "output_type": "stream",
          "text": [
            "Model: \"sequential\"\n",
            "_________________________________________________________________\n",
            "Layer (type)                 Output Shape              Param #   \n",
            "=================================================================\n",
            "embedding (Embedding)        (None, 120, 100)          8654000   \n",
            "_________________________________________________________________\n",
            "bidirectional (Bidirectional (None, 120, 128)          84480     \n",
            "_________________________________________________________________\n",
            "layer_normalization (LayerNo (None, 120, 128)          256       \n",
            "_________________________________________________________________\n",
            "bidirectional_1 (Bidirection (None, 128)               98816     \n",
            "_________________________________________________________________\n",
            "layer_normalization_1 (Layer (None, 128)               256       \n",
            "_________________________________________________________________\n",
            "dense (Dense)                (None, 64)                8256      \n",
            "_________________________________________________________________\n",
            "dropout (Dropout)            (None, 64)                0         \n",
            "_________________________________________________________________\n",
            "batch_normalization (BatchNo (None, 64)                256       \n",
            "_________________________________________________________________\n",
            "dense_1 (Dense)              (None, 32)                2080      \n",
            "_________________________________________________________________\n",
            "dropout_1 (Dropout)          (None, 32)                0         \n",
            "_________________________________________________________________\n",
            "batch_normalization_1 (Batch (None, 32)                128       \n",
            "_________________________________________________________________\n",
            "dense_2 (Dense)              (None, 1)                 33        \n",
            "=================================================================\n",
            "Total params: 8,848,561\n",
            "Trainable params: 194,369\n",
            "Non-trainable params: 8,654,192\n",
            "_________________________________________________________________\n"
          ],
          "name": "stdout"
        }
      ]
    },
    {
      "cell_type": "code",
      "metadata": {
        "id": "uRfk3IsTd9RG",
        "colab_type": "code",
        "outputId": "d1e2f45d-acba-4b89-a4fa-6de02601fce7",
        "colab": {
          "base_uri": "https://localhost:8080/",
          "height": 85
        }
      },
      "source": [
        "print(\"\\n Shape of training data\", training_padded.shape)\n",
        "print(\"\\n Shape of training labels\", training_labels_final.shape)\n"
      ],
      "execution_count": 0,
      "outputs": [
        {
          "output_type": "stream",
          "text": [
            "\n",
            " Shape of training data (25000, 120)\n",
            "\n",
            " Shape of training labels (25000,)\n"
          ],
          "name": "stdout"
        }
      ]
    },
    {
      "cell_type": "code",
      "metadata": {
        "id": "IlxrsvH6bQab",
        "colab_type": "code",
        "outputId": "5afc5363-d844-4c43-c51d-9caa9015c953",
        "colab": {
          "base_uri": "https://localhost:8080/",
          "height": 445
        }
      },
      "source": [
        "# IMPLEMENT CALLBACKS\n",
        "\n",
        "checkpoint_cb = keras.callbacks.ModelCheckpoint(\"imdb_lstm__exp_best.h5\",save_best_only = True)\n",
        "\n",
        "early_stopping_cb = keras.callbacks.EarlyStopping(patience = 4, restore_best_weights = True)\n",
        "\n",
        "\n",
        "\n",
        "\n",
        "# COMPILE AND FIT MODEL\n",
        "\n",
        "lstm_model_exp.compile(optimizer = \"adam\", loss = \"binary_crossentropy\", metrics = ['accuracy'])\n",
        "\n",
        "history_3 = lstm_model_exp.fit(training_padded, training_labels_final, epochs = 20,\n",
        "                          validation_data = (testing_padded, testing_labels_final), \n",
        "                           callbacks = [checkpoint_cb, early_stopping_cb]\n",
        "                           )\n"
      ],
      "execution_count": 0,
      "outputs": [
        {
          "output_type": "stream",
          "text": [
            "Epoch 1/20\n",
            "782/782 [==============================] - 27s 35ms/step - loss: 0.6588 - accuracy: 0.6270 - val_loss: 0.5240 - val_accuracy: 0.7444\n",
            "Epoch 2/20\n",
            "782/782 [==============================] - 26s 33ms/step - loss: 0.4742 - accuracy: 0.7754 - val_loss: 0.4383 - val_accuracy: 0.7950\n",
            "Epoch 3/20\n",
            "782/782 [==============================] - 26s 33ms/step - loss: 0.4354 - accuracy: 0.8008 - val_loss: 0.4277 - val_accuracy: 0.8026\n",
            "Epoch 4/20\n",
            "782/782 [==============================] - 26s 33ms/step - loss: 0.4151 - accuracy: 0.8091 - val_loss: 0.4425 - val_accuracy: 0.7935\n",
            "Epoch 5/20\n",
            "782/782 [==============================] - 26s 33ms/step - loss: 0.3947 - accuracy: 0.8235 - val_loss: 0.3956 - val_accuracy: 0.8146\n",
            "Epoch 6/20\n",
            "782/782 [==============================] - 25s 33ms/step - loss: 0.3719 - accuracy: 0.8348 - val_loss: 0.3963 - val_accuracy: 0.8182\n",
            "Epoch 7/20\n",
            "782/782 [==============================] - 26s 33ms/step - loss: 0.3542 - accuracy: 0.8439 - val_loss: 0.3839 - val_accuracy: 0.8252\n",
            "Epoch 8/20\n",
            "782/782 [==============================] - 26s 33ms/step - loss: 0.3345 - accuracy: 0.8519 - val_loss: 0.3838 - val_accuracy: 0.8268\n",
            "Epoch 9/20\n",
            "782/782 [==============================] - 26s 33ms/step - loss: 0.3120 - accuracy: 0.8668 - val_loss: 0.3943 - val_accuracy: 0.8196\n",
            "Epoch 10/20\n",
            "782/782 [==============================] - 25s 33ms/step - loss: 0.2842 - accuracy: 0.8805 - val_loss: 0.4579 - val_accuracy: 0.7978\n",
            "Epoch 11/20\n",
            "782/782 [==============================] - 26s 33ms/step - loss: 0.2625 - accuracy: 0.8928 - val_loss: 0.4298 - val_accuracy: 0.8179\n",
            "Epoch 12/20\n",
            "782/782 [==============================] - 26s 33ms/step - loss: 0.2332 - accuracy: 0.9065 - val_loss: 0.5030 - val_accuracy: 0.8050\n"
          ],
          "name": "stdout"
        }
      ]
    },
    {
      "cell_type": "code",
      "metadata": {
        "id": "lAr3d24Qdc7C",
        "colab_type": "code",
        "outputId": "bb989530-9882-457a-fbc3-63aa0874fad7",
        "colab": {
          "base_uri": "https://localhost:8080/",
          "height": 367
        }
      },
      "source": [
        "history = history_3\n",
        "\n",
        "\n",
        "# BETTER LOOKING PLOTS FOR ACCURACY AND LOSS\n",
        "\n",
        "import matplotlib.pyplot as plt\n",
        "\n",
        "fig,axes = plt.subplots(nrows = 1, ncols = 2, figsize = (12,5))\n",
        "\n",
        "axes[0].plot(history.history['accuracy'])\n",
        "axes[0].plot(history.history['val_accuracy'])\n",
        "axes[0].set_ylim([0.5,1])\n",
        "axes[0].set_title('Model Accuracy')\n",
        "axes[0].set_ylabel('Accuracy')\n",
        "axes[0].set_xlabel('Epoch')\n",
        "axes[0].legend(['Training', 'Validation'], loc='lower right')\n",
        "\n",
        "axes[1].plot(history.history['loss'])\n",
        "axes[1].plot(history.history['val_loss'])\n",
        "axes[1].set_title('Model Loss')\n",
        "axes[1].set_ylabel('Loss')\n",
        "axes[1].set_xlabel('Epoch')\n",
        "axes[1].legend(['Training', 'Validation'], loc='upper left')\n"
      ],
      "execution_count": 0,
      "outputs": [
        {
          "output_type": "execute_result",
          "data": {
            "text/plain": [
              "<matplotlib.legend.Legend at 0x7f719c18a7b8>"
            ]
          },
          "metadata": {
            "tags": []
          },
          "execution_count": 120
        },
        {
          "output_type": "display_data",
          "data": {
            "image/png": "[encoded data removed]",
            "text/plain": [
              "<Figure size 864x360 with 2 Axes>"
            ]
          },
          "metadata": {
            "tags": [],
            "needs_background": "light"
          }
        }
      ]
    },
    {
      "cell_type": "code",
      "metadata": {
        "id": "OThBvmIqdlGc",
        "colab_type": "code",
        "outputId": "70505802-1d33-4389-c2a4-58d516b847da",
        "colab": {
          "base_uri": "https://localhost:8080/",
          "height": 105
        }
      },
      "source": [
        "# LOAD THE BEST PERFORMING MODEL (SO FAR.)\n",
        "best_model = keras.models.load_model('imdb_lstm__exp_best.h5')\n",
        "\n",
        "best_model.evaluate(testing_padded, testing_labels_final)"
      ],
      "execution_count": 0,
      "outputs": [
        {
          "output_type": "stream",
          "text": [
            "WARNING:tensorflow:Error in loading the saved optimizer state. As a result, your model is starting with a freshly initialized optimizer.\n"
          ],
          "name": "stdout"
        },
        {
          "output_type": "stream",
          "text": [
            "WARNING:tensorflow:Error in loading the saved optimizer state. As a result, your model is starting with a freshly initialized optimizer.\n"
          ],
          "name": "stderr"
        },
        {
          "output_type": "stream",
          "text": [
            "782/782 [==============================] - 8s 10ms/step - loss: 0.3838 - accuracy: 0.8268\n"
          ],
          "name": "stdout"
        },
        {
          "output_type": "execute_result",
          "data": {
            "text/plain": [
              "[0.38382962346076965, 0.8267999887466431]"
            ]
          },
          "metadata": {
            "tags": []
          },
          "execution_count": 121
        }
      ]
    },
    {
      "cell_type": "markdown",
      "metadata": {
        "id": "rGcgqddufbVK",
        "colab_type": "text"
      },
      "source": [
        "##### QUICK SUMMARY\n",
        "The second tactic yielded a performance improvement of ~1%. The accuracy stands at 83%\n",
        "\n",
        "I'll be attempting the 3rd approach to try and incease the accuracy ( Target = 85% )\n",
        "\n",
        "1. *Using Sequence Models (LSTMs/GRUs)* **Got an accuracy boost of ~2%**\n",
        "2. *Using Pre-Trained Embeddings (GloVe - Global Vectors for Word Representation)* **Got an accuracy boost of ~1%**\n",
        "3. Using Text Preprocessing Techniques (e.g. Lemmatization, Stop Words etc)\n",
        "\n",
        "\n",
        "Over to attempting **Text Preprocessing Techniques**\n",
        "\n",
        "<BR>\n",
        "\n",
        "\n",
        "# Final Model with `Text Preprocessing` & `Pre-Trained Embeddings` (`LSTM` Based)\n",
        "\n",
        "The target accuracy is 85%.\n",
        "\n",
        "I'll be building this model ***from scratch***"
      ]
    },
    {
      "cell_type": "code",
      "metadata": {
        "id": "eSJsWKpXfoap",
        "colab_type": "code",
        "colab": {}
      },
      "source": [
        ""
      ],
      "execution_count": 0,
      "outputs": []
    },
    {
      "cell_type": "code",
      "metadata": {
        "id": "Ey-VWGYHfon3",
        "colab_type": "code",
        "colab": {}
      },
      "source": [
        ""
      ],
      "execution_count": 0,
      "outputs": []
    },
    {
      "cell_type": "code",
      "metadata": {
        "id": "J7QBk0rbfoxP",
        "colab_type": "code",
        "colab": {}
      },
      "source": [
        ""
      ],
      "execution_count": 0,
      "outputs": []
    },
    {
      "cell_type": "code",
      "metadata": {
        "id": "QSFuADyvfo3V",
        "colab_type": "code",
        "colab": {}
      },
      "source": [
        ""
      ],
      "execution_count": 0,
      "outputs": []
    },
    {
      "cell_type": "code",
      "metadata": {
        "id": "rBTzDe3bfo70",
        "colab_type": "code",
        "colab": {}
      },
      "source": [
        ""
      ],
      "execution_count": 0,
      "outputs": []
    },
    {
      "cell_type": "code",
      "metadata": {
        "id": "TcCCJZNCfo_y",
        "colab_type": "code",
        "colab": {}
      },
      "source": [
        ""
      ],
      "execution_count": 0,
      "outputs": []
    },
    {
      "cell_type": "code",
      "metadata": {
        "id": "tEFkMrI1fpEp",
        "colab_type": "code",
        "colab": {}
      },
      "source": [
        ""
      ],
      "execution_count": 0,
      "outputs": []
    }
  ]
}