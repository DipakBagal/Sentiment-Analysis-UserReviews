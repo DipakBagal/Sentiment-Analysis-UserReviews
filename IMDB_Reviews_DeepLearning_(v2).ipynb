{
  "nbformat": 4,
  "nbformat_minor": 0,
  "metadata": {
    "colab": {
      "name": "IMDB_Reviews_DeepLearning_(v2).ipynb",
      "provenance": [],
      "collapsed_sections": [],
      "authorship_tag": "ABX9TyNC9vZlDCVB0Sgn14XC+k9O",
      "include_colab_link": true
    },
    "kernelspec": {
      "name": "python3",
      "display_name": "Python 3"
    },
    "accelerator": "GPU"
  },
  "cells": [
    {
      "cell_type": "markdown",
      "metadata": {
        "id": "view-in-github",
        "colab_type": "text"
      },
      "source": [
        "<a href=\"https://colab.research.google.com/github/raamav/Sentiment-Analysis-UserReviews/blob/master/IMDB_Reviews_DeepLearning_(v2).ipynb\" target=\"_parent\"><img src=\"https://colab.research.google.com/assets/colab-badge.svg\" alt=\"Open In Colab\"/></a>"
      ]
    },
    {
      "cell_type": "markdown",
      "metadata": {
        "id": "t8EjVJsSeQeq",
        "colab_type": "text"
      },
      "source": [
        "# IMDB Reviews\n",
        "\n",
        "**IMDB Reviews** is one of the best known datasets for sentiment analysis. It comprises a set of 50,000 highly polarized reviews of movies which are tagged with *positive* and *negative* sentiment labels.\n",
        "\n",
        "The 50,000 reviews are categorized into training and test sets (25,000 reviews each). These reviews are full-length and some of them are several paragraphs long.\n",
        "\n",
        "I've worked on this dataset previously and have got a validation accuracy of 80%.\n",
        "\n",
        "**In this attempt, the objective is to get an accuracy of 85% or better.**"
      ]
    },
    {
      "cell_type": "code",
      "metadata": {
        "id": "eQGSWdIrqLsI",
        "colab_type": "code",
        "colab": {
          "base_uri": "https://localhost:8080/",
          "height": 34
        },
        "outputId": "4cb2b8e1-a24e-4c47-a0a9-605f6ff1b997"
      },
      "source": [
        "# STANDARD IMPORTS\n",
        "\n",
        "import tensorflow as tf\n",
        "from tensorflow import keras\n",
        "import numpy as np\n",
        "\n",
        "\n",
        "tf.__version__\n"
      ],
      "execution_count": 225,
      "outputs": [
        {
          "output_type": "execute_result",
          "data": {
            "text/plain": [
              "'2.2.0-rc2'"
            ]
          },
          "metadata": {
            "tags": []
          },
          "execution_count": 225
        }
      ]
    },
    {
      "cell_type": "code",
      "metadata": {
        "id": "47Ho7L0AsOaK",
        "colab_type": "code",
        "colab": {}
      },
      "source": [
        "import tensorflow_datasets as tfds\n",
        "\n",
        "imdb,info = tfds.load(\"imdb_reviews\", with_info = True, as_supervised = True)"
      ],
      "execution_count": 0,
      "outputs": []
    },
    {
      "cell_type": "code",
      "metadata": {
        "id": "Pi59oZWttDT5",
        "colab_type": "code",
        "colab": {}
      },
      "source": [
        "train_data = imdb['train']\n",
        "test_data = imdb['test']\n"
      ],
      "execution_count": 0,
      "outputs": []
    },
    {
      "cell_type": "code",
      "metadata": {
        "id": "DcavicnbtYrL",
        "colab_type": "code",
        "colab": {
          "base_uri": "https://localhost:8080/",
          "height": 34
        },
        "outputId": "4e00d05c-cbcb-4dd8-f595-d601af83c606"
      },
      "source": [
        "print(type(train_data))"
      ],
      "execution_count": 228,
      "outputs": [
        {
          "output_type": "stream",
          "text": [
            "<class 'tensorflow.python.data.ops.dataset_ops.DatasetV1Adapter'>\n"
          ],
          "name": "stdout"
        }
      ]
    },
    {
      "cell_type": "code",
      "metadata": {
        "id": "jqW10Qurtaz3",
        "colab_type": "code",
        "colab": {}
      },
      "source": [
        "# GETTING FEATURES AND LABELS FOR TRAINING AND TEST DATASETS\n",
        "\n",
        "X_train_l = [] # sentences\n",
        "y_train_l = [] # sentiment \n",
        "\n",
        "X_test_l = []\n",
        "y_test_l = []\n",
        "\n",
        "for s,l in train_data:\n",
        "  X_train_l.append(str(s.numpy()))\n",
        "  y_train_l.append(l.numpy())\n",
        "\n",
        "\n",
        "for s,l in test_data:\n",
        "  X_test_l.append(str(s.numpy()))\n",
        "  y_test_l.append(l.numpy())\n",
        "\n"
      ],
      "execution_count": 0,
      "outputs": []
    },
    {
      "cell_type": "code",
      "metadata": {
        "id": "aYKfi_cqwiis",
        "colab_type": "code",
        "colab": {
          "base_uri": "https://localhost:8080/",
          "height": 51
        },
        "outputId": "7ba6f090-7c94-4d85-f7e8-17d66f4e5758"
      },
      "source": [
        "# DATATYPES AND SIZES OF THE DATASETS\n",
        "\n",
        "\n",
        "print('/n Training Data and Label, Type {} : {}' .format(type(X_train_l) , type(y_train_l)))\n",
        "print('/n Training Data and Label, Sizes {} : {}' .format(len(X_train_l) , len(y_train_l)))"
      ],
      "execution_count": 230,
      "outputs": [
        {
          "output_type": "stream",
          "text": [
            "/n Training Data and Label, Type <class 'list'> : <class 'list'>\n",
            "/n Training Data and Label, Sizes 25000 : 25000\n"
          ],
          "name": "stdout"
        }
      ]
    },
    {
      "cell_type": "code",
      "metadata": {
        "id": "5zZKTSEuxJEE",
        "colab_type": "code",
        "colab": {}
      },
      "source": [
        "# CONVERTING EVERYTHING TO NUMPY ARRAYS\n",
        "# MAJOR RELIEF POINT AS ITS TRICKY WORKING WITH TENSORS\n",
        "\n",
        "import numpy as np\n",
        "\n",
        "X_train = np.array(X_train_l)\n",
        "y_train = np.array(y_train_l)\n",
        "\n",
        "X_test = np.array(X_test_l)\n",
        "y_test = np.array(y_test_l)"
      ],
      "execution_count": 0,
      "outputs": []
    },
    {
      "cell_type": "code",
      "metadata": {
        "id": "KBJjPRUeynjC",
        "colab_type": "code",
        "colab": {
          "base_uri": "https://localhost:8080/",
          "height": 51
        },
        "outputId": "853d2256-d9f0-4da8-d873-6e71f7567ccd"
      },
      "source": [
        "print('/n Training Data and Label, Type {} : {}' .format(type(X_train) , type(y_train)))\n",
        "print('/n Training Data and Label, Sizes {} : {}' .format((X_train.shape) , (y_train.shape)))"
      ],
      "execution_count": 232,
      "outputs": [
        {
          "output_type": "stream",
          "text": [
            "/n Training Data and Label, Type <class 'numpy.ndarray'> : <class 'numpy.ndarray'>\n",
            "/n Training Data and Label, Sizes (25000,) : (25000,)\n"
          ],
          "name": "stdout"
        }
      ]
    },
    {
      "cell_type": "markdown",
      "metadata": {
        "id": "o4hUjsEqzdwE",
        "colab_type": "text"
      },
      "source": [
        "### Exploratory Analysis on the Text Reviews\n",
        "\n"
      ]
    },
    {
      "cell_type": "code",
      "metadata": {
        "id": "3tW5lU43GLSN",
        "colab_type": "code",
        "colab": {}
      },
      "source": [
        "# HOW LONG ARE THE REVIEWS, TYPCALLY (WORDCOUNT)\n",
        "\n",
        "import pandas as pd\n",
        "\n",
        "X_train_copy = X_train.copy() # copy of the training set for exploratory work\n",
        "\n",
        "X_train_pd = pd.DataFrame(data = X_train_copy, columns = [\"review_text\"])\n",
        "\n",
        "# LANBDA FUNCTION TO CALCULATE APPROXIMATE WORD COUNT\n",
        "\n",
        "X_train_pd['word_count'] = X_train_pd.apply(lambda x: (x['review_text'].count (' ') + 1),axis=1)"
      ],
      "execution_count": 0,
      "outputs": []
    },
    {
      "cell_type": "code",
      "metadata": {
        "id": "PV_xqa6EWowp",
        "colab_type": "code",
        "colab": {
          "base_uri": "https://localhost:8080/",
          "height": 204
        },
        "outputId": "22872ea3-eb2a-4e81-b9ed-331d592d3539"
      },
      "source": [
        "X_train_pd.head()"
      ],
      "execution_count": 234,
      "outputs": [
        {
          "output_type": "execute_result",
          "data": {
            "text/html": [
              "<div>\n",
              "<style scoped>\n",
              "    .dataframe tbody tr th:only-of-type {\n",
              "        vertical-align: middle;\n",
              "    }\n",
              "\n",
              "    .dataframe tbody tr th {\n",
              "        vertical-align: top;\n",
              "    }\n",
              "\n",
              "    .dataframe thead th {\n",
              "        text-align: right;\n",
              "    }\n",
              "</style>\n",
              "<table border=\"1\" class=\"dataframe\">\n",
              "  <thead>\n",
              "    <tr style=\"text-align: right;\">\n",
              "      <th></th>\n",
              "      <th>review_text</th>\n",
              "      <th>word_count</th>\n",
              "    </tr>\n",
              "  </thead>\n",
              "  <tbody>\n",
              "    <tr>\n",
              "      <th>0</th>\n",
              "      <td>b\"This was an absolutely terrible movie. Don't...</td>\n",
              "      <td>116</td>\n",
              "    </tr>\n",
              "    <tr>\n",
              "      <th>1</th>\n",
              "      <td>b'I have been known to fall asleep during film...</td>\n",
              "      <td>112</td>\n",
              "    </tr>\n",
              "    <tr>\n",
              "      <th>2</th>\n",
              "      <td>b'Mann photographs the Alberta Rocky Mountains...</td>\n",
              "      <td>132</td>\n",
              "    </tr>\n",
              "    <tr>\n",
              "      <th>3</th>\n",
              "      <td>b'This is the kind of film for a snowy Sunday ...</td>\n",
              "      <td>88</td>\n",
              "    </tr>\n",
              "    <tr>\n",
              "      <th>4</th>\n",
              "      <td>b'As others have mentioned, all the women that...</td>\n",
              "      <td>81</td>\n",
              "    </tr>\n",
              "  </tbody>\n",
              "</table>\n",
              "</div>"
            ],
            "text/plain": [
              "                                         review_text  word_count\n",
              "0  b\"This was an absolutely terrible movie. Don't...         116\n",
              "1  b'I have been known to fall asleep during film...         112\n",
              "2  b'Mann photographs the Alberta Rocky Mountains...         132\n",
              "3  b'This is the kind of film for a snowy Sunday ...          88\n",
              "4  b'As others have mentioned, all the women that...          81"
            ]
          },
          "metadata": {
            "tags": []
          },
          "execution_count": 234
        }
      ]
    },
    {
      "cell_type": "code",
      "metadata": {
        "id": "-sUlfilXWzb1",
        "colab_type": "code",
        "colab": {
          "base_uri": "https://localhost:8080/",
          "height": 320
        },
        "outputId": "ef8aecc4-957f-4540-845b-30e8efd01307"
      },
      "source": [
        "import matplotlib.pyplot as plt\n",
        "\n",
        "plt.figure(figsize = (8,5))\n",
        "plt.hist(X_train_pd['word_count'], bins = 20)\n",
        "plt.show()"
      ],
      "execution_count": 235,
      "outputs": [
        {
          "output_type": "display_data",
          "data": {
            "image/png": "[encoded data removed]",
            "text/plain": [
              "<Figure size 576x360 with 1 Axes>"
            ]
          },
          "metadata": {
            "tags": [],
            "needs_background": "light"
          }
        }
      ]
    },
    {
      "cell_type": "code",
      "metadata": {
        "id": "AgQQwxSrXBA0",
        "colab_type": "code",
        "colab": {
          "base_uri": "https://localhost:8080/",
          "height": 170
        },
        "outputId": "9b82d88d-1c63-4b10-93a6-3dd7994ace04"
      },
      "source": [
        "# DISTRIBUTION OF word_count VARIABLE TO UNDERSTAND THE OPTIMAL LENGTH OF REVIEW\n",
        "X_train_pd['word_count'].describe()"
      ],
      "execution_count": 236,
      "outputs": [
        {
          "output_type": "execute_result",
          "data": {
            "text/plain": [
              "count    25000.000000\n",
              "mean       233.776720\n",
              "std        173.715418\n",
              "min         10.000000\n",
              "25%        127.000000\n",
              "50%        174.000000\n",
              "75%        284.000000\n",
              "max       2470.000000\n",
              "Name: word_count, dtype: float64"
            ]
          },
          "metadata": {
            "tags": []
          },
          "execution_count": 236
        }
      ]
    },
    {
      "cell_type": "markdown",
      "metadata": {
        "id": "YbnEejKyYJta",
        "colab_type": "text"
      },
      "source": [
        "N_words = 175 seems like a good optimal choice for the review length\n",
        "\n",
        "\n",
        "### Basic Text Preproessing\n",
        "\n",
        "Entails \n",
        "1. Converting text to lower case, \n",
        "2. Removing punctuations/numeric fields, \n",
        "3. Addressing contrctions *(e.g. won't -> will not)* "
      ]
    },
    {
      "cell_type": "code",
      "metadata": {
        "id": "q5Hx4a3vh9-O",
        "colab_type": "code",
        "colab": {
          "base_uri": "https://localhost:8080/",
          "height": 105
        },
        "outputId": "98e479de-e998-41a0-8a9c-13763b40372e"
      },
      "source": [
        "! pip install contractions\n",
        "import contractions"
      ],
      "execution_count": 237,
      "outputs": [
        {
          "output_type": "stream",
          "text": [
            "Requirement already satisfied: contractions in /usr/local/lib/python3.6/dist-packages (0.0.24)\n",
            "Requirement already satisfied: textsearch in /usr/local/lib/python3.6/dist-packages (from contractions) (0.0.17)\n",
            "Requirement already satisfied: pyahocorasick in /usr/local/lib/python3.6/dist-packages (from textsearch->contractions) (1.4.0)\n",
            "Requirement already satisfied: Unidecode in /usr/local/lib/python3.6/dist-packages (from textsearch->contractions) (1.1.1)\n"
          ],
          "name": "stdout"
        }
      ]
    },
    {
      "cell_type": "code",
      "metadata": {
        "id": "TgIT_Gz9YeGt",
        "colab_type": "code",
        "colab": {}
      },
      "source": [
        "# FUNCTION TO IMPLEMENT BASIC TEXT PREPROCESSING : LOWER-CASING & REMOVING NUMBERS/PUNCTUATION\n",
        "\n",
        "\n",
        "\n",
        "def basic_preprocessor(text):\n",
        "  \n",
        "  import re\n",
        "  import string\n",
        "  import contractions\n",
        "\n",
        "  # EXPANDING OUT CONTRACTIONS\n",
        "  # e.g : don't -> do not\n",
        "  text = contractions.fix(text)\n",
        "\n",
        "  # TEXT TO LOWERCASE\n",
        "  text = text.lower()\n",
        "    \n",
        "  # The syntax of re.sub() is:: re.sub(pattern, replace, source_string)\n",
        "    \n",
        "  # CODE TO HANDLE 's \n",
        "  # e.g: movie's -> movie s\n",
        "  # THE HOPE IS THAT LSTMs SHOULD BE ABLE TO PROCESS THAT s \n",
        "  text = re.sub(r\"(\\w+)'s\", r'\\1 s', text)\n",
        "  \n",
        "  # HANDLING OTHER PUNCTUATION\n",
        "  text = re.sub('\\[.*?\\]', '', text)\n",
        "  text = re.sub('https?://\\S+|www\\.\\S+', '', text)\n",
        "  text = re.sub('<.*?>+', '', text)\n",
        "  text = re.sub('[%s]' % re.escape(string.punctuation), '', text)\n",
        "  text = re.sub('\\n', '', text)\n",
        "  text = re.sub('\\w*\\d\\w*', '', text)\n",
        "    \n",
        "  return text"
      ],
      "execution_count": 0,
      "outputs": []
    },
    {
      "cell_type": "code",
      "metadata": {
        "id": "MRHFGQHQYeP9",
        "colab_type": "code",
        "colab": {}
      },
      "source": [
        "# TESTING FUNCTION\n",
        "\n",
        "X_train_pd['review_text_mod'] = X_train_pd.apply(lambda x: basic_preprocessor(x['review_text']),axis=1)"
      ],
      "execution_count": 0,
      "outputs": []
    },
    {
      "cell_type": "code",
      "metadata": {
        "id": "swXqY8TwYeUm",
        "colab_type": "code",
        "colab": {
          "base_uri": "https://localhost:8080/",
          "height": 105
        },
        "outputId": "794b872f-a5de-408f-ddc1-4db133366ac5"
      },
      "source": [
        "print(X_train_pd['review_text'][0])\n",
        "\n",
        "print(\"\\n\")\n",
        "\n",
        "print(X_train_pd['review_text_mod'][0])\n"
      ],
      "execution_count": 240,
      "outputs": [
        {
          "output_type": "stream",
          "text": [
            "b\"This was an absolutely terrible movie. Don't be lured in by Christopher Walken or Michael Ironside. Both are great actors, but this must simply be their worst role in history. Even their great acting could not redeem this movie's ridiculous storyline. This movie is an early nineties US propaganda piece. The most pathetic scenes were those when the Columbian rebels were making their cases for revolutions. Maria Conchita Alonso appeared phony, and her pseudo-love affair with Walken was nothing but a pathetic emotional plug in a movie that was devoid of any real meaning. I am disappointed that there are movies like this, ruining actor's like Christopher Walken's good name. I could barely sit through it.\"\n",
            "\n",
            "\n",
            "bthis was an absolutely terrible movie do not be lured in by christopher walken or michael ironside both are great actors but this must simply be their worst role in history even their great acting could not redeem this movies ridiculous storyline this movie is an early nineties us propaganda piece the most pathetic scenes were those when the columbian rebels were making their cases for revolutions maria conchita alonso appeared phony and her pseudolove affair with walken was nothing but a pathetic emotional plug in a movie that was devoid of any real meaning i am disappointed that there are movies like this ruining actors like christopher walkens good name i could barely sit through it\n"
          ],
          "name": "stdout"
        }
      ]
    },
    {
      "cell_type": "markdown",
      "metadata": {
        "id": "pMRrrbotYeYp",
        "colab_type": "text"
      },
      "source": [
        "Additionally, will remove stop-words if needed"
      ]
    },
    {
      "cell_type": "code",
      "metadata": {
        "id": "l8aUuWOjYec1",
        "colab_type": "code",
        "colab": {
          "base_uri": "https://localhost:8080/",
          "height": 105
        },
        "outputId": "c872303a-ca85-4a83-95ec-417e28927db5"
      },
      "source": [
        "# TEST SET\n",
        "X_test_pd = pd.DataFrame(data = X_test, columns = [\"review_text\"])\n",
        "X_test_pd['review_text_mod'] = X_test_pd.apply(lambda x: basic_preprocessor(x['review_text']),axis=1)\n",
        "\n",
        "\n",
        "# CHECKING IF TE TRANSFORMATIONS WORKED OUT AS DESIGNED\n",
        "print(X_test_pd['review_text'][0])\n",
        "print(\"\\n\")\n",
        "print(X_test_pd['review_text_mod'][0])"
      ],
      "execution_count": 241,
      "outputs": [
        {
          "output_type": "stream",
          "text": [
            "b\"There are films that make careers. For George Romero, it was NIGHT OF THE LIVING DEAD; for Kevin Smith, CLERKS; for Robert Rodriguez, EL MARIACHI. Add to that list Onur Tukel's absolutely amazing DING-A-LING-LESS. Flawless film-making, and as assured and as professional as any of the aforementioned movies. I haven't laughed this hard since I saw THE FULL MONTY. (And, even then, I don't think I laughed quite this hard... So to speak.) Tukel's talent is considerable: DING-A-LING-LESS is so chock full of double entendres that one would have to sit down with a copy of this script and do a line-by-line examination of it to fully appreciate the, uh, breadth and width of it. Every shot is beautifully composed (a clear sign of a sure-handed director), and the performances all around are solid (there's none of the over-the-top scenery chewing one might've expected from a film like this). DING-A-LING-LESS is a film whose time has come.\"\n",
            "\n",
            "\n",
            "bthere are films that make careers for george romero it was night of the living dead for kevin smith clerks for robert rodriguez el mariachi add to that list onur tukels absolutely amazing dingalingless flawless filmmaking and as assured and as professional as any of the aforementioned movies i have not laughed this hard since i saw the full monty and even then i do not think i laughed quite this hard so to speak tukels talent is considerable dingalingless is so chock full of double entendres that one would have to sit down with a copy of this script and do a linebyline examination of it to fully appreciate the uh breadth and width of it every shot is beautifully composed a clear sign of a surehanded director and the performances all around are solid there is none of the overthetop scenery chewing one might have expected from a film like this dingalingless is a film whose time has come\n"
          ],
          "name": "stdout"
        }
      ]
    },
    {
      "cell_type": "code",
      "metadata": {
        "id": "I-F_paEcwikP",
        "colab_type": "code",
        "colab": {}
      },
      "source": [
        "# CREATING THE TEST AND TRAINING SETSSET\n",
        "X_train_pd = X_train_pd[['review_text_mod']].copy()\n",
        "X_test_pd = X_test_pd[['review_text_mod']].copy()"
      ],
      "execution_count": 0,
      "outputs": []
    },
    {
      "cell_type": "code",
      "metadata": {
        "id": "4jF1qzsDYeg8",
        "colab_type": "code",
        "colab": {
          "base_uri": "https://localhost:8080/",
          "height": 204
        },
        "outputId": "e25ebfcd-e913-49bf-d76e-281246455774"
      },
      "source": [
        "# EXAMINING BOTH THE TRAINING AND TEST SETS\n",
        "X_train_pd.head()\n"
      ],
      "execution_count": 243,
      "outputs": [
        {
          "output_type": "execute_result",
          "data": {
            "text/html": [
              "<div>\n",
              "<style scoped>\n",
              "    .dataframe tbody tr th:only-of-type {\n",
              "        vertical-align: middle;\n",
              "    }\n",
              "\n",
              "    .dataframe tbody tr th {\n",
              "        vertical-align: top;\n",
              "    }\n",
              "\n",
              "    .dataframe thead th {\n",
              "        text-align: right;\n",
              "    }\n",
              "</style>\n",
              "<table border=\"1\" class=\"dataframe\">\n",
              "  <thead>\n",
              "    <tr style=\"text-align: right;\">\n",
              "      <th></th>\n",
              "      <th>review_text_mod</th>\n",
              "    </tr>\n",
              "  </thead>\n",
              "  <tbody>\n",
              "    <tr>\n",
              "      <th>0</th>\n",
              "      <td>bthis was an absolutely terrible movie do not ...</td>\n",
              "    </tr>\n",
              "    <tr>\n",
              "      <th>1</th>\n",
              "      <td>bi have been known to fall asleep during films...</td>\n",
              "    </tr>\n",
              "    <tr>\n",
              "      <th>2</th>\n",
              "      <td>bmann photographs the alberta rocky mountains ...</td>\n",
              "    </tr>\n",
              "    <tr>\n",
              "      <th>3</th>\n",
              "      <td>bthis is the kind of film for a snowy sunday a...</td>\n",
              "    </tr>\n",
              "    <tr>\n",
              "      <th>4</th>\n",
              "      <td>bas others have mentioned all the women that g...</td>\n",
              "    </tr>\n",
              "  </tbody>\n",
              "</table>\n",
              "</div>"
            ],
            "text/plain": [
              "                                     review_text_mod\n",
              "0  bthis was an absolutely terrible movie do not ...\n",
              "1  bi have been known to fall asleep during films...\n",
              "2  bmann photographs the alberta rocky mountains ...\n",
              "3  bthis is the kind of film for a snowy sunday a...\n",
              "4  bas others have mentioned all the women that g..."
            ]
          },
          "metadata": {
            "tags": []
          },
          "execution_count": 243
        }
      ]
    },
    {
      "cell_type": "code",
      "metadata": {
        "id": "NXSYwU96wggq",
        "colab_type": "code",
        "colab": {}
      },
      "source": [
        "# (OPTIONALLY) REMOVING STOPWORDS\n",
        "\n",
        "\n",
        "# (OPTIONALLY) CORRECTING THAT b% AT THE BEGINNNING OF EACH SEQUENCE"
      ],
      "execution_count": 0,
      "outputs": []
    },
    {
      "cell_type": "markdown",
      "metadata": {
        "id": "bVoi-fMbYekQ",
        "colab_type": "text"
      },
      "source": [
        "## Tokenizing (and Padding) Text \n"
      ]
    },
    {
      "cell_type": "code",
      "metadata": {
        "id": "M1aiB_t3znWA",
        "colab_type": "code",
        "colab": {}
      },
      "source": [
        "# SPECIFYING HYPERPARAMETERS\n",
        "\n",
        "#vocab_size = 10000\n",
        "embedding_dim = 20\n",
        "max_length = 175  \n",
        "trunc_type = 'post'\n",
        "oov_tok = \"<OOV>\"\n"
      ],
      "execution_count": 0,
      "outputs": []
    },
    {
      "cell_type": "code",
      "metadata": {
        "id": "P_qmpXX6znac",
        "colab_type": "code",
        "colab": {}
      },
      "source": [
        "# IMPPORTING LIBRARIES AND SETTING-UP TOKENIZER\n",
        "\n",
        "from keras.preprocessing.text import Tokenizer\n",
        "from keras.preprocessing.sequence import pad_sequences"
      ],
      "execution_count": 0,
      "outputs": []
    },
    {
      "cell_type": "code",
      "metadata": {
        "id": "in7unDrbzngx",
        "colab_type": "code",
        "colab": {}
      },
      "source": [
        "# IMPLEMENTING TOKENIZER\n",
        "\n",
        "#tokenizer = Tokenizer(num_words = vocab_size, oov_token = oov_tok)\n",
        "tokenizer = Tokenizer( oov_token = oov_tok)\n",
        "\n",
        "tokenizer.fit_on_texts(X_train_pd['review_text_mod'])\n"
      ],
      "execution_count": 0,
      "outputs": []
    },
    {
      "cell_type": "code",
      "metadata": {
        "id": "hFFKu2Jqznle",
        "colab_type": "code",
        "colab": {
          "base_uri": "https://localhost:8080/",
          "height": 51
        },
        "outputId": "66641975-ba2c-4703-d503-a00f4665b275"
      },
      "source": [
        "# EXPLORING THE WORD-INDEX\n",
        "\n",
        "word_index = tokenizer.word_index\n",
        "print(\"length of the unfiltered vocabulary : \", len(word_index))\n",
        "\n",
        "print(\"Type of object\", type(word_index))\n",
        "\n",
        "# temp\n",
        "vocab_size = len(word_index)"
      ],
      "execution_count": 248,
      "outputs": [
        {
          "output_type": "stream",
          "text": [
            "length of the unfiltered vocabulary :  138830\n",
            "Type of object <class 'dict'>\n"
          ],
          "name": "stdout"
        }
      ]
    },
    {
      "cell_type": "code",
      "metadata": {
        "id": "QdpZ5htcznpk",
        "colab_type": "code",
        "colab": {
          "base_uri": "https://localhost:8080/",
          "height": 51
        },
        "outputId": "9aa917d8-424e-49f4-c983-f96a8a90b6df"
      },
      "source": [
        "# PADDING SEQUENCES - TRAINING SET\n",
        "\n",
        "X_train_seq = tokenizer.texts_to_sequences(X_train_pd['review_text_mod'])\n",
        "\n",
        "print(\"length of the first training sequence: \",len(X_train_seq[0])) # This is aligned with the length of the first sentence\n",
        "      \n",
        "X_train_pad = pad_sequences(X_train_seq, maxlen = max_length, padding = 'post', truncating = trunc_type)\n",
        "\n",
        "print(\"length of the first training sequence (PADDED): \",len(X_train_pad[0])) # Should be 175\n",
        "\n"
      ],
      "execution_count": 249,
      "outputs": [
        {
          "output_type": "stream",
          "text": [
            "length of the first training sequence:  117\n",
            "length of the first training sequence (PADDED):  175\n"
          ],
          "name": "stdout"
        }
      ]
    },
    {
      "cell_type": "code",
      "metadata": {
        "id": "ZDWpk6IuzntW",
        "colab_type": "code",
        "colab": {
          "base_uri": "https://localhost:8080/",
          "height": 51
        },
        "outputId": "e1047841-617c-4742-9514-8d099774a9fd"
      },
      "source": [
        "# TOKENIZATION AND PADDING ON TEST DATA\n",
        "\n",
        "X_test_seq = tokenizer.texts_to_sequences(X_test_pd['review_text_mod'])\n",
        "\n",
        "print(\"length of the first test sequence: \",len(X_test_seq[0])) # This is aligned with the length of the first sentence\n",
        "      \n",
        "X_test_pad = pad_sequences(X_test_seq, maxlen = max_length, padding = 'post', truncating = trunc_type)\n",
        "\n",
        "print(\"length of the first training sequence (PADDED): \",len(X_test_pad[0])) # Should be 175\n"
      ],
      "execution_count": 250,
      "outputs": [
        {
          "output_type": "stream",
          "text": [
            "length of the first test sequence:  161\n",
            "length of the first training sequence (PADDED):  175\n"
          ],
          "name": "stdout"
        }
      ]
    },
    {
      "cell_type": "code",
      "metadata": {
        "id": "djreLqdUFTo5",
        "colab_type": "code",
        "colab": {
          "base_uri": "https://localhost:8080/",
          "height": 85
        },
        "outputId": "27169e44-da09-4637-d699-237daa0bf52f"
      },
      "source": [
        "print(type(X_train_pad))\n",
        "print(X_train_pad.shape)\n",
        "\n",
        "print(type(y_train))\n",
        "print(y_train.shape)"
      ],
      "execution_count": 251,
      "outputs": [
        {
          "output_type": "stream",
          "text": [
            "<class 'numpy.ndarray'>\n",
            "(25000, 175)\n",
            "<class 'numpy.ndarray'>\n",
            "(25000,)\n"
          ],
          "name": "stdout"
        }
      ]
    },
    {
      "cell_type": "markdown",
      "metadata": {
        "id": "rPJVbg-rzndv",
        "colab_type": "text"
      },
      "source": [
        "We now have the encoded and padded, training and test sets `X_train_pad` and `X_test_pad`.\n",
        "\n",
        "<BR>\n",
        "\n",
        "## LSTM Based Model"
      ]
    },
    {
      "cell_type": "code",
      "metadata": {
        "id": "kR1nLg5aF5W3",
        "colab_type": "code",
        "colab": {
          "base_uri": "https://localhost:8080/",
          "height": 34
        },
        "outputId": "f6ce3a3e-a9ba-405e-bd37-0e875eef75cd"
      },
      "source": [
        "# DIVIDING THE TEST SET INTO VALIDATION AND TEST SETS\n",
        "\n",
        "print(X_test_pad.shape)\n",
        "\n",
        "X_val_pad = X_test_pad[0:12500]\n",
        "X_test_pad = X_test_pad[12500:]\n",
        "\n",
        "y_val = y_test[0:12500]\n",
        "y_test = y_test[12500:]\n"
      ],
      "execution_count": 252,
      "outputs": [
        {
          "output_type": "stream",
          "text": [
            "(25000, 175)\n"
          ],
          "name": "stdout"
        }
      ]
    },
    {
      "cell_type": "code",
      "metadata": {
        "id": "qZPGnQ4MCjRd",
        "colab_type": "code",
        "colab": {
          "base_uri": "https://localhost:8080/",
          "height": 493
        },
        "outputId": "29ff658d-b58b-4ed1-84f2-ea9a16857ab6"
      },
      "source": [
        "# CLEAR BACKEND DATA\n",
        "\n",
        "keras.backend.clear_session()\n",
        "np.random.seed(42)\n",
        "tf.random.set_seed(42)\n",
        "\n",
        "\n",
        "# CREATE AN LSTM BASED NEURAL NETWORK IN KERAS\n",
        "\n",
        "vocab_size = vocab_size   # NUMBER OF UNIQUE WORDS IN VOCAB = 10,000 \n",
        "embedding_dim = embedding_dim\n",
        "sentence_length = max_length  # LENGTH OF EACH PADDED SENTENCE = 175\n",
        "\n",
        "\n",
        "lstm_model = keras.models.Sequential([\n",
        "                                          \n",
        "                  keras.layers.Embedding(input_dim = vocab_size,\n",
        "                                         output_dim = embedding_dim,\n",
        "                                         input_length = sentence_length),\n",
        "                          \n",
        "                  keras.layers.Bidirectional(keras.layers.LSTM(128, return_sequences= True)),\n",
        "                  keras.layers.Bidirectional(keras.layers.LSTM(64)),\n",
        "\n",
        "                  keras.layers.Dense(128, activation = \"elu\"),\n",
        "                  keras.layers.Dropout(rate = 0.1),\n",
        "                  keras.layers.BatchNormalization(),\n",
        "                  keras.layers.Dense(64, activation = \"elu\"),\n",
        "                  keras.layers.Dropout(rate = 0.1),\n",
        "                  keras.layers.BatchNormalization(),\n",
        "\n",
        "                  keras.layers.Dense(1, activation = \"sigmoid\")\n",
        "                  \n",
        "])\n",
        "\n",
        "\n",
        "\n",
        "# VIEW MODEL ARCHITECTURE\n",
        "lstm_model.summary()\n"
      ],
      "execution_count": 253,
      "outputs": [
        {
          "output_type": "stream",
          "text": [
            "Model: \"sequential\"\n",
            "_________________________________________________________________\n",
            "Layer (type)                 Output Shape              Param #   \n",
            "=================================================================\n",
            "embedding (Embedding)        (None, 175, 20)           200000    \n",
            "_________________________________________________________________\n",
            "bidirectional (Bidirectional (None, 175, 256)          152576    \n",
            "_________________________________________________________________\n",
            "bidirectional_1 (Bidirection (None, 128)               164352    \n",
            "_________________________________________________________________\n",
            "dense (Dense)                (None, 128)               16512     \n",
            "_________________________________________________________________\n",
            "dropout (Dropout)            (None, 128)               0         \n",
            "_________________________________________________________________\n",
            "batch_normalization (BatchNo (None, 128)               512       \n",
            "_________________________________________________________________\n",
            "dense_1 (Dense)              (None, 64)                8256      \n",
            "_________________________________________________________________\n",
            "dropout_1 (Dropout)          (None, 64)                0         \n",
            "_________________________________________________________________\n",
            "batch_normalization_1 (Batch (None, 64)                256       \n",
            "_________________________________________________________________\n",
            "dense_2 (Dense)              (None, 1)                 65        \n",
            "=================================================================\n",
            "Total params: 542,529\n",
            "Trainable params: 542,145\n",
            "Non-trainable params: 384\n",
            "_________________________________________________________________\n"
          ],
          "name": "stdout"
        }
      ]
    },
    {
      "cell_type": "code",
      "metadata": {
        "id": "_IZuFuoleB5F",
        "colab_type": "code",
        "colab": {
          "base_uri": "https://localhost:8080/",
          "height": 119
        },
        "outputId": "0725ef2d-84f4-4dfe-a6d7-62bc83f53c1a"
      },
      "source": [
        "# QUICK CHECK ON DATA-TYPES AND SHAPES\n",
        "\n",
        "print(type(X_train_pad),X_train_pad.shape )\n",
        "print(type(y_train),y_train.shape)\n",
        "\n",
        "print('\\n')\n",
        "\n",
        "print(type(X_test_pad),X_test_pad.shape )\n",
        "print(type(y_test),y_test.shape)\n"
      ],
      "execution_count": 254,
      "outputs": [
        {
          "output_type": "stream",
          "text": [
            "<class 'numpy.ndarray'> (25000, 175)\n",
            "<class 'numpy.ndarray'> (25000,)\n",
            "\n",
            "\n",
            "<class 'numpy.ndarray'> (12500, 175)\n",
            "<class 'numpy.ndarray'> (12500,)\n"
          ],
          "name": "stdout"
        }
      ]
    },
    {
      "cell_type": "code",
      "metadata": {
        "id": "PFxWu_6aCjVh",
        "colab_type": "code",
        "colab": {
          "base_uri": "https://localhost:8080/",
          "height": 221
        },
        "outputId": "c4e3aa27-e2eb-42fd-c22b-03d94fe5a1a8"
      },
      "source": [
        "# IMPLEMENT CALLBACKS\n",
        "\n",
        "checkpoint_cb = keras.callbacks.ModelCheckpoint(\"imdb_lstm_best.h5\",save_best_only = True)\n",
        "\n",
        "early_stopping_cb = keras.callbacks.EarlyStopping(patience = 4, restore_best_weights = True)\n",
        "\n",
        "\n",
        "\n",
        "\n",
        "# COMPILE AND FIT MODEL\n",
        "\n",
        "dense_model.compile(optimizer = \"adam\", loss = \"binary_crossentropy\", metrics = ['accuracy'])\n",
        "\n",
        "history_1 = dense_model.fit(X_train_pad,y_train, epochs = 20,\n",
        "                            validation_data = (X_val_pad, y_val),\n",
        "                            callbacks = [checkpoint_cb, early_stopping_cb]\n",
        "                            \n",
        "                            )"
      ],
      "execution_count": 255,
      "outputs": [
        {
          "output_type": "stream",
          "text": [
            "Epoch 1/20\n",
            "782/782 [==============================] - 8s 10ms/step - loss: 0.7313 - accuracy: 0.6641 - val_loss: 0.5439 - val_accuracy: 0.7377\n",
            "Epoch 2/20\n",
            "782/782 [==============================] - 8s 10ms/step - loss: 0.3608 - accuracy: 0.8438 - val_loss: 0.4865 - val_accuracy: 0.7882\n",
            "Epoch 3/20\n",
            "782/782 [==============================] - 8s 10ms/step - loss: 0.1869 - accuracy: 0.9288 - val_loss: 0.5654 - val_accuracy: 0.7886\n",
            "Epoch 4/20\n",
            "782/782 [==============================] - 8s 10ms/step - loss: 0.0695 - accuracy: 0.9772 - val_loss: 0.7820 - val_accuracy: 0.7810\n",
            "Epoch 5/20\n",
            "782/782 [==============================] - 8s 10ms/step - loss: 0.0346 - accuracy: 0.9879 - val_loss: 0.9548 - val_accuracy: 0.7776\n",
            "Epoch 6/20\n",
            "782/782 [==============================] - 8s 10ms/step - loss: 0.0273 - accuracy: 0.9910 - val_loss: 1.0278 - val_accuracy: 0.7860\n"
          ],
          "name": "stdout"
        }
      ]
    },
    {
      "cell_type": "code",
      "metadata": {
        "id": "jP8SSvHMCjbv",
        "colab_type": "code",
        "colab": {
          "base_uri": "https://localhost:8080/",
          "height": 367
        },
        "outputId": "30004438-3586-4e7c-fbd1-77385f9d86c7"
      },
      "source": [
        "history = history_1\n",
        "\n",
        "\n",
        "# BETTER LOOKING PLOTS FOR ACCURACY AND LOSS\n",
        "\n",
        "import matplotlib.pyplot as plt\n",
        "\n",
        "fig,axes = plt.subplots(nrows = 1, ncols = 2, figsize = (12,5))\n",
        "\n",
        "axes[0].plot(history.history['accuracy'])\n",
        "axes[0].plot(history.history['val_accuracy'])\n",
        "axes[0].set_ylim([0.5,1])\n",
        "axes[0].set_title('Model Accuracy')\n",
        "axes[0].set_ylabel('Accuracy')\n",
        "axes[0].set_xlabel('Epoch')\n",
        "axes[0].legend(['Training', 'Validation'], loc='lower right')\n",
        "\n",
        "axes[1].plot(history.history['loss'])\n",
        "axes[1].plot(history.history['val_loss'])\n",
        "axes[1].set_title('Model Loss')\n",
        "axes[1].set_ylabel('Loss')\n",
        "axes[1].set_xlabel('Epoch')\n",
        "axes[1].legend(['Training', 'Validation'], loc='upper left')\n"
      ],
      "execution_count": 256,
      "outputs": [
        {
          "output_type": "execute_result",
          "data": {
            "text/plain": [
              "<matplotlib.legend.Legend at 0x7f8b9ce429b0>"
            ]
          },
          "metadata": {
            "tags": []
          },
          "execution_count": 256
        },
        {
          "output_type": "display_data",
          "data": {
            "image/png": "[encoded data removed]",
            "text/plain": [
              "<Figure size 864x360 with 2 Axes>"
            ]
          },
          "metadata": {
            "tags": [],
            "needs_background": "light"
          }
        }
      ]
    },
    {
      "cell_type": "code",
      "metadata": {
        "id": "hoHVlcRgCjh1",
        "colab_type": "code",
        "colab": {
          "base_uri": "https://localhost:8080/",
          "height": 85
        },
        "outputId": "a242b7ab-0c16-414b-ed44-30274360cb97"
      },
      "source": [
        "# LOAD THE BEST PERFORMING MODEL (SO FAR.)\n",
        "best_model = keras.models.load_model('imdb_lstm_best.h5')\n",
        "\n",
        "best_model.evaluate(X_test_pad, y_test)"
      ],
      "execution_count": 257,
      "outputs": [
        {
          "output_type": "stream",
          "text": [
            "WARNING:tensorflow:Error in loading the saved optimizer state. As a result, your model is starting with a freshly initialized optimizer.\n"
          ],
          "name": "stdout"
        },
        {
          "output_type": "stream",
          "text": [
            "WARNING:tensorflow:Error in loading the saved optimizer state. As a result, your model is starting with a freshly initialized optimizer.\n"
          ],
          "name": "stderr"
        },
        {
          "output_type": "stream",
          "text": [
            "391/391 [==============================] - 1s 3ms/step - loss: 0.4963 - accuracy: 0.7792\n"
          ],
          "name": "stdout"
        },
        {
          "output_type": "execute_result",
          "data": {
            "text/plain": [
              "[0.49631720781326294, 0.77920001745224]"
            ]
          },
          "metadata": {
            "tags": []
          },
          "execution_count": 257
        }
      ]
    },
    {
      "cell_type": "code",
      "metadata": {
        "id": "72Y3Rr5gCjmt",
        "colab_type": "code",
        "colab": {}
      },
      "source": [
        ""
      ],
      "execution_count": 0,
      "outputs": []
    }
  ]
}