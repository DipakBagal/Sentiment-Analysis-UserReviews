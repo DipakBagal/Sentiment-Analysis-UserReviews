{
  "nbformat": 4,
  "nbformat_minor": 0,
  "metadata": {
    "colab": {
      "name": "IMDB_Reviews_DeepLearning_(v2).ipynb",
      "provenance": [],
      "collapsed_sections": [],
      "authorship_tag": "ABX9TyNcCDyOJy8h2iZhHc3Kbpq9",
      "include_colab_link": true
    },
    "kernelspec": {
      "name": "python3",
      "display_name": "Python 3"
    },
    "accelerator": "GPU",
    "widgets": {
      "application/vnd.jupyter.widget-state+json": {
        "a17d7259cebe45b3b567f47dfc596ce7": {
          "model_module": "@jupyter-widgets/controls",
          "model_name": "HBoxModel",
          "state": {
            "_view_name": "HBoxView",
            "_dom_classes": [],
            "_model_name": "HBoxModel",
            "_view_module": "@jupyter-widgets/controls",
            "_model_module_version": "1.5.0",
            "_view_count": null,
            "_view_module_version": "1.5.0",
            "box_style": "",
            "layout": "IPY_MODEL_a6f6675293be4e21aee3b2065ded52be",
            "_model_module": "@jupyter-widgets/controls",
            "children": [
              "IPY_MODEL_8d07a06f91ea4adcab810429e531ef5a",
              "IPY_MODEL_be2f5651afd24df0ab34e2b8ef7b2b52"
            ]
          }
        },
        "a6f6675293be4e21aee3b2065ded52be": {
          "model_module": "@jupyter-widgets/base",
          "model_name": "LayoutModel",
          "state": {
            "_view_name": "LayoutView",
            "grid_template_rows": null,
            "right": null,
            "justify_content": null,
            "_view_module": "@jupyter-widgets/base",
            "overflow": null,
            "_model_module_version": "1.2.0",
            "_view_count": null,
            "flex_flow": null,
            "width": null,
            "min_width": null,
            "border": null,
            "align_items": null,
            "bottom": null,
            "_model_module": "@jupyter-widgets/base",
            "top": null,
            "grid_column": null,
            "overflow_y": null,
            "overflow_x": null,
            "grid_auto_flow": null,
            "grid_area": null,
            "grid_template_columns": null,
            "flex": null,
            "_model_name": "LayoutModel",
            "justify_items": null,
            "grid_row": null,
            "max_height": null,
            "align_content": null,
            "visibility": null,
            "align_self": null,
            "height": null,
            "min_height": null,
            "padding": null,
            "grid_auto_rows": null,
            "grid_gap": null,
            "max_width": null,
            "order": null,
            "_view_module_version": "1.2.0",
            "grid_template_areas": null,
            "object_position": null,
            "object_fit": null,
            "grid_auto_columns": null,
            "margin": null,
            "display": null,
            "left": null
          }
        },
        "8d07a06f91ea4adcab810429e531ef5a": {
          "model_module": "@jupyter-widgets/controls",
          "model_name": "IntProgressModel",
          "state": {
            "_view_name": "ProgressView",
            "style": "IPY_MODEL_14b5ead4d68240b0b376a1d55ca647f0",
            "_dom_classes": [],
            "description": "Dl Completed...: 100%",
            "_model_name": "IntProgressModel",
            "bar_style": "success",
            "max": 1,
            "_view_module": "@jupyter-widgets/controls",
            "_model_module_version": "1.5.0",
            "value": 1,
            "_view_count": null,
            "_view_module_version": "1.5.0",
            "orientation": "horizontal",
            "min": 0,
            "description_tooltip": null,
            "_model_module": "@jupyter-widgets/controls",
            "layout": "IPY_MODEL_b2f1d300dd6644a39692b68a0053091c"
          }
        },
        "be2f5651afd24df0ab34e2b8ef7b2b52": {
          "model_module": "@jupyter-widgets/controls",
          "model_name": "HTMLModel",
          "state": {
            "_view_name": "HTMLView",
            "style": "IPY_MODEL_762c5b9a33ff49bb858a58492cffe99d",
            "_dom_classes": [],
            "description": "",
            "_model_name": "HTMLModel",
            "placeholder": "​",
            "_view_module": "@jupyter-widgets/controls",
            "_model_module_version": "1.5.0",
            "value": " 1/1 [00:08&lt;00:00,  8.75s/ url]",
            "_view_count": null,
            "_view_module_version": "1.5.0",
            "description_tooltip": null,
            "_model_module": "@jupyter-widgets/controls",
            "layout": "IPY_MODEL_3e6fe66f6fc449dd827aac355ba53377"
          }
        },
        "14b5ead4d68240b0b376a1d55ca647f0": {
          "model_module": "@jupyter-widgets/controls",
          "model_name": "ProgressStyleModel",
          "state": {
            "_view_name": "StyleView",
            "_model_name": "ProgressStyleModel",
            "description_width": "initial",
            "_view_module": "@jupyter-widgets/base",
            "_model_module_version": "1.5.0",
            "_view_count": null,
            "_view_module_version": "1.2.0",
            "bar_color": null,
            "_model_module": "@jupyter-widgets/controls"
          }
        },
        "b2f1d300dd6644a39692b68a0053091c": {
          "model_module": "@jupyter-widgets/base",
          "model_name": "LayoutModel",
          "state": {
            "_view_name": "LayoutView",
            "grid_template_rows": null,
            "right": null,
            "justify_content": null,
            "_view_module": "@jupyter-widgets/base",
            "overflow": null,
            "_model_module_version": "1.2.0",
            "_view_count": null,
            "flex_flow": null,
            "width": null,
            "min_width": null,
            "border": null,
            "align_items": null,
            "bottom": null,
            "_model_module": "@jupyter-widgets/base",
            "top": null,
            "grid_column": null,
            "overflow_y": null,
            "overflow_x": null,
            "grid_auto_flow": null,
            "grid_area": null,
            "grid_template_columns": null,
            "flex": null,
            "_model_name": "LayoutModel",
            "justify_items": null,
            "grid_row": null,
            "max_height": null,
            "align_content": null,
            "visibility": null,
            "align_self": null,
            "height": null,
            "min_height": null,
            "padding": null,
            "grid_auto_rows": null,
            "grid_gap": null,
            "max_width": null,
            "order": null,
            "_view_module_version": "1.2.0",
            "grid_template_areas": null,
            "object_position": null,
            "object_fit": null,
            "grid_auto_columns": null,
            "margin": null,
            "display": null,
            "left": null
          }
        },
        "762c5b9a33ff49bb858a58492cffe99d": {
          "model_module": "@jupyter-widgets/controls",
          "model_name": "DescriptionStyleModel",
          "state": {
            "_view_name": "StyleView",
            "_model_name": "DescriptionStyleModel",
            "description_width": "",
            "_view_module": "@jupyter-widgets/base",
            "_model_module_version": "1.5.0",
            "_view_count": null,
            "_view_module_version": "1.2.0",
            "_model_module": "@jupyter-widgets/controls"
          }
        },
        "3e6fe66f6fc449dd827aac355ba53377": {
          "model_module": "@jupyter-widgets/base",
          "model_name": "LayoutModel",
          "state": {
            "_view_name": "LayoutView",
            "grid_template_rows": null,
            "right": null,
            "justify_content": null,
            "_view_module": "@jupyter-widgets/base",
            "overflow": null,
            "_model_module_version": "1.2.0",
            "_view_count": null,
            "flex_flow": null,
            "width": null,
            "min_width": null,
            "border": null,
            "align_items": null,
            "bottom": null,
            "_model_module": "@jupyter-widgets/base",
            "top": null,
            "grid_column": null,
            "overflow_y": null,
            "overflow_x": null,
            "grid_auto_flow": null,
            "grid_area": null,
            "grid_template_columns": null,
            "flex": null,
            "_model_name": "LayoutModel",
            "justify_items": null,
            "grid_row": null,
            "max_height": null,
            "align_content": null,
            "visibility": null,
            "align_self": null,
            "height": null,
            "min_height": null,
            "padding": null,
            "grid_auto_rows": null,
            "grid_gap": null,
            "max_width": null,
            "order": null,
            "_view_module_version": "1.2.0",
            "grid_template_areas": null,
            "object_position": null,
            "object_fit": null,
            "grid_auto_columns": null,
            "margin": null,
            "display": null,
            "left": null
          }
        },
        "603eb9cd1f934ef4915f42e48de055d7": {
          "model_module": "@jupyter-widgets/controls",
          "model_name": "HBoxModel",
          "state": {
            "_view_name": "HBoxView",
            "_dom_classes": [],
            "_model_name": "HBoxModel",
            "_view_module": "@jupyter-widgets/controls",
            "_model_module_version": "1.5.0",
            "_view_count": null,
            "_view_module_version": "1.5.0",
            "box_style": "",
            "layout": "IPY_MODEL_07ca141440f444a19fa9e0d9b9143ebb",
            "_model_module": "@jupyter-widgets/controls",
            "children": [
              "IPY_MODEL_038c6822ac864ab08e5cb91ab8598ce0",
              "IPY_MODEL_7a0ce146c56244b3a89a9aa4d0515f51"
            ]
          }
        },
        "07ca141440f444a19fa9e0d9b9143ebb": {
          "model_module": "@jupyter-widgets/base",
          "model_name": "LayoutModel",
          "state": {
            "_view_name": "LayoutView",
            "grid_template_rows": null,
            "right": null,
            "justify_content": null,
            "_view_module": "@jupyter-widgets/base",
            "overflow": null,
            "_model_module_version": "1.2.0",
            "_view_count": null,
            "flex_flow": null,
            "width": null,
            "min_width": null,
            "border": null,
            "align_items": null,
            "bottom": null,
            "_model_module": "@jupyter-widgets/base",
            "top": null,
            "grid_column": null,
            "overflow_y": null,
            "overflow_x": null,
            "grid_auto_flow": null,
            "grid_area": null,
            "grid_template_columns": null,
            "flex": null,
            "_model_name": "LayoutModel",
            "justify_items": null,
            "grid_row": null,
            "max_height": null,
            "align_content": null,
            "visibility": null,
            "align_self": null,
            "height": null,
            "min_height": null,
            "padding": null,
            "grid_auto_rows": null,
            "grid_gap": null,
            "max_width": null,
            "order": null,
            "_view_module_version": "1.2.0",
            "grid_template_areas": null,
            "object_position": null,
            "object_fit": null,
            "grid_auto_columns": null,
            "margin": null,
            "display": null,
            "left": null
          }
        },
        "038c6822ac864ab08e5cb91ab8598ce0": {
          "model_module": "@jupyter-widgets/controls",
          "model_name": "IntProgressModel",
          "state": {
            "_view_name": "ProgressView",
            "style": "IPY_MODEL_976cf47b245b454baa198664efd56642",
            "_dom_classes": [],
            "description": "Dl Size...: 100%",
            "_model_name": "IntProgressModel",
            "bar_style": "success",
            "max": 1,
            "_view_module": "@jupyter-widgets/controls",
            "_model_module_version": "1.5.0",
            "value": 1,
            "_view_count": null,
            "_view_module_version": "1.5.0",
            "orientation": "horizontal",
            "min": 0,
            "description_tooltip": null,
            "_model_module": "@jupyter-widgets/controls",
            "layout": "IPY_MODEL_60a3e4607f2d4eaa86b79a73b74a0ed8"
          }
        },
        "7a0ce146c56244b3a89a9aa4d0515f51": {
          "model_module": "@jupyter-widgets/controls",
          "model_name": "HTMLModel",
          "state": {
            "_view_name": "HTMLView",
            "style": "IPY_MODEL_6707b1d1558445229279ddfb7677c91e",
            "_dom_classes": [],
            "description": "",
            "_model_name": "HTMLModel",
            "placeholder": "​",
            "_view_module": "@jupyter-widgets/controls",
            "_model_module_version": "1.5.0",
            "value": " 80/80 [00:08&lt;00:00,  9.17 MiB/s]",
            "_view_count": null,
            "_view_module_version": "1.5.0",
            "description_tooltip": null,
            "_model_module": "@jupyter-widgets/controls",
            "layout": "IPY_MODEL_ebf6a7019ff54e83a5b43fea85e2ce54"
          }
        },
        "976cf47b245b454baa198664efd56642": {
          "model_module": "@jupyter-widgets/controls",
          "model_name": "ProgressStyleModel",
          "state": {
            "_view_name": "StyleView",
            "_model_name": "ProgressStyleModel",
            "description_width": "initial",
            "_view_module": "@jupyter-widgets/base",
            "_model_module_version": "1.5.0",
            "_view_count": null,
            "_view_module_version": "1.2.0",
            "bar_color": null,
            "_model_module": "@jupyter-widgets/controls"
          }
        },
        "60a3e4607f2d4eaa86b79a73b74a0ed8": {
          "model_module": "@jupyter-widgets/base",
          "model_name": "LayoutModel",
          "state": {
            "_view_name": "LayoutView",
            "grid_template_rows": null,
            "right": null,
            "justify_content": null,
            "_view_module": "@jupyter-widgets/base",
            "overflow": null,
            "_model_module_version": "1.2.0",
            "_view_count": null,
            "flex_flow": null,
            "width": null,
            "min_width": null,
            "border": null,
            "align_items": null,
            "bottom": null,
            "_model_module": "@jupyter-widgets/base",
            "top": null,
            "grid_column": null,
            "overflow_y": null,
            "overflow_x": null,
            "grid_auto_flow": null,
            "grid_area": null,
            "grid_template_columns": null,
            "flex": null,
            "_model_name": "LayoutModel",
            "justify_items": null,
            "grid_row": null,
            "max_height": null,
            "align_content": null,
            "visibility": null,
            "align_self": null,
            "height": null,
            "min_height": null,
            "padding": null,
            "grid_auto_rows": null,
            "grid_gap": null,
            "max_width": null,
            "order": null,
            "_view_module_version": "1.2.0",
            "grid_template_areas": null,
            "object_position": null,
            "object_fit": null,
            "grid_auto_columns": null,
            "margin": null,
            "display": null,
            "left": null
          }
        },
        "6707b1d1558445229279ddfb7677c91e": {
          "model_module": "@jupyter-widgets/controls",
          "model_name": "DescriptionStyleModel",
          "state": {
            "_view_name": "StyleView",
            "_model_name": "DescriptionStyleModel",
            "description_width": "",
            "_view_module": "@jupyter-widgets/base",
            "_model_module_version": "1.5.0",
            "_view_count": null,
            "_view_module_version": "1.2.0",
            "_model_module": "@jupyter-widgets/controls"
          }
        },
        "ebf6a7019ff54e83a5b43fea85e2ce54": {
          "model_module": "@jupyter-widgets/base",
          "model_name": "LayoutModel",
          "state": {
            "_view_name": "LayoutView",
            "grid_template_rows": null,
            "right": null,
            "justify_content": null,
            "_view_module": "@jupyter-widgets/base",
            "overflow": null,
            "_model_module_version": "1.2.0",
            "_view_count": null,
            "flex_flow": null,
            "width": null,
            "min_width": null,
            "border": null,
            "align_items": null,
            "bottom": null,
            "_model_module": "@jupyter-widgets/base",
            "top": null,
            "grid_column": null,
            "overflow_y": null,
            "overflow_x": null,
            "grid_auto_flow": null,
            "grid_area": null,
            "grid_template_columns": null,
            "flex": null,
            "_model_name": "LayoutModel",
            "justify_items": null,
            "grid_row": null,
            "max_height": null,
            "align_content": null,
            "visibility": null,
            "align_self": null,
            "height": null,
            "min_height": null,
            "padding": null,
            "grid_auto_rows": null,
            "grid_gap": null,
            "max_width": null,
            "order": null,
            "_view_module_version": "1.2.0",
            "grid_template_areas": null,
            "object_position": null,
            "object_fit": null,
            "grid_auto_columns": null,
            "margin": null,
            "display": null,
            "left": null
          }
        },
        "c739af9e9c6e48d19751c33a98501dac": {
          "model_module": "@jupyter-widgets/controls",
          "model_name": "HBoxModel",
          "state": {
            "_view_name": "HBoxView",
            "_dom_classes": [],
            "_model_name": "HBoxModel",
            "_view_module": "@jupyter-widgets/controls",
            "_model_module_version": "1.5.0",
            "_view_count": null,
            "_view_module_version": "1.5.0",
            "box_style": "",
            "layout": "IPY_MODEL_a1ed7f3039f34cd19ee43a8d33f674ce",
            "_model_module": "@jupyter-widgets/controls",
            "children": [
              "IPY_MODEL_2b328c620b98435498f2a6bf83cb0cb8",
              "IPY_MODEL_2b598702963547a193f0737a542d0807"
            ]
          }
        },
        "a1ed7f3039f34cd19ee43a8d33f674ce": {
          "model_module": "@jupyter-widgets/base",
          "model_name": "LayoutModel",
          "state": {
            "_view_name": "LayoutView",
            "grid_template_rows": null,
            "right": null,
            "justify_content": null,
            "_view_module": "@jupyter-widgets/base",
            "overflow": null,
            "_model_module_version": "1.2.0",
            "_view_count": null,
            "flex_flow": null,
            "width": null,
            "min_width": null,
            "border": null,
            "align_items": null,
            "bottom": null,
            "_model_module": "@jupyter-widgets/base",
            "top": null,
            "grid_column": null,
            "overflow_y": null,
            "overflow_x": null,
            "grid_auto_flow": null,
            "grid_area": null,
            "grid_template_columns": null,
            "flex": null,
            "_model_name": "LayoutModel",
            "justify_items": null,
            "grid_row": null,
            "max_height": null,
            "align_content": null,
            "visibility": null,
            "align_self": null,
            "height": null,
            "min_height": null,
            "padding": null,
            "grid_auto_rows": null,
            "grid_gap": null,
            "max_width": null,
            "order": null,
            "_view_module_version": "1.2.0",
            "grid_template_areas": null,
            "object_position": null,
            "object_fit": null,
            "grid_auto_columns": null,
            "margin": null,
            "display": null,
            "left": null
          }
        },
        "2b328c620b98435498f2a6bf83cb0cb8": {
          "model_module": "@jupyter-widgets/controls",
          "model_name": "IntProgressModel",
          "state": {
            "_view_name": "ProgressView",
            "style": "IPY_MODEL_945606210fd545e78c435858594429c9",
            "_dom_classes": [],
            "description": "",
            "_model_name": "IntProgressModel",
            "bar_style": "info",
            "max": 1,
            "_view_module": "@jupyter-widgets/controls",
            "_model_module_version": "1.5.0",
            "value": 1,
            "_view_count": null,
            "_view_module_version": "1.5.0",
            "orientation": "horizontal",
            "min": 0,
            "description_tooltip": null,
            "_model_module": "@jupyter-widgets/controls",
            "layout": "IPY_MODEL_0f5e8a28bbdc43288ccc6a03aac36bf3"
          }
        },
        "2b598702963547a193f0737a542d0807": {
          "model_module": "@jupyter-widgets/controls",
          "model_name": "HTMLModel",
          "state": {
            "_view_name": "HTMLView",
            "style": "IPY_MODEL_dc38f64e33c346dc96f1524f45b4f8b5",
            "_dom_classes": [],
            "description": "",
            "_model_name": "HTMLModel",
            "placeholder": "​",
            "_view_module": "@jupyter-widgets/controls",
            "_model_module_version": "1.5.0",
            "value": " 25000/0 [00:12&lt;00:00, 3378.05 examples/s]",
            "_view_count": null,
            "_view_module_version": "1.5.0",
            "description_tooltip": null,
            "_model_module": "@jupyter-widgets/controls",
            "layout": "IPY_MODEL_8d912b9953bf4b19bebb9c5b0fecffbd"
          }
        },
        "945606210fd545e78c435858594429c9": {
          "model_module": "@jupyter-widgets/controls",
          "model_name": "ProgressStyleModel",
          "state": {
            "_view_name": "StyleView",
            "_model_name": "ProgressStyleModel",
            "description_width": "initial",
            "_view_module": "@jupyter-widgets/base",
            "_model_module_version": "1.5.0",
            "_view_count": null,
            "_view_module_version": "1.2.0",
            "bar_color": null,
            "_model_module": "@jupyter-widgets/controls"
          }
        },
        "0f5e8a28bbdc43288ccc6a03aac36bf3": {
          "model_module": "@jupyter-widgets/base",
          "model_name": "LayoutModel",
          "state": {
            "_view_name": "LayoutView",
            "grid_template_rows": null,
            "right": null,
            "justify_content": null,
            "_view_module": "@jupyter-widgets/base",
            "overflow": null,
            "_model_module_version": "1.2.0",
            "_view_count": null,
            "flex_flow": null,
            "width": null,
            "min_width": null,
            "border": null,
            "align_items": null,
            "bottom": null,
            "_model_module": "@jupyter-widgets/base",
            "top": null,
            "grid_column": null,
            "overflow_y": null,
            "overflow_x": null,
            "grid_auto_flow": null,
            "grid_area": null,
            "grid_template_columns": null,
            "flex": null,
            "_model_name": "LayoutModel",
            "justify_items": null,
            "grid_row": null,
            "max_height": null,
            "align_content": null,
            "visibility": null,
            "align_self": null,
            "height": null,
            "min_height": null,
            "padding": null,
            "grid_auto_rows": null,
            "grid_gap": null,
            "max_width": null,
            "order": null,
            "_view_module_version": "1.2.0",
            "grid_template_areas": null,
            "object_position": null,
            "object_fit": null,
            "grid_auto_columns": null,
            "margin": null,
            "display": null,
            "left": null
          }
        },
        "dc38f64e33c346dc96f1524f45b4f8b5": {
          "model_module": "@jupyter-widgets/controls",
          "model_name": "DescriptionStyleModel",
          "state": {
            "_view_name": "StyleView",
            "_model_name": "DescriptionStyleModel",
            "description_width": "",
            "_view_module": "@jupyter-widgets/base",
            "_model_module_version": "1.5.0",
            "_view_count": null,
            "_view_module_version": "1.2.0",
            "_model_module": "@jupyter-widgets/controls"
          }
        },
        "8d912b9953bf4b19bebb9c5b0fecffbd": {
          "model_module": "@jupyter-widgets/base",
          "model_name": "LayoutModel",
          "state": {
            "_view_name": "LayoutView",
            "grid_template_rows": null,
            "right": null,
            "justify_content": null,
            "_view_module": "@jupyter-widgets/base",
            "overflow": null,
            "_model_module_version": "1.2.0",
            "_view_count": null,
            "flex_flow": null,
            "width": null,
            "min_width": null,
            "border": null,
            "align_items": null,
            "bottom": null,
            "_model_module": "@jupyter-widgets/base",
            "top": null,
            "grid_column": null,
            "overflow_y": null,
            "overflow_x": null,
            "grid_auto_flow": null,
            "grid_area": null,
            "grid_template_columns": null,
            "flex": null,
            "_model_name": "LayoutModel",
            "justify_items": null,
            "grid_row": null,
            "max_height": null,
            "align_content": null,
            "visibility": null,
            "align_self": null,
            "height": null,
            "min_height": null,
            "padding": null,
            "grid_auto_rows": null,
            "grid_gap": null,
            "max_width": null,
            "order": null,
            "_view_module_version": "1.2.0",
            "grid_template_areas": null,
            "object_position": null,
            "object_fit": null,
            "grid_auto_columns": null,
            "margin": null,
            "display": null,
            "left": null
          }
        },
        "e0fb8aa9b9d64a62a240d477097290fa": {
          "model_module": "@jupyter-widgets/controls",
          "model_name": "HBoxModel",
          "state": {
            "_view_name": "HBoxView",
            "_dom_classes": [],
            "_model_name": "HBoxModel",
            "_view_module": "@jupyter-widgets/controls",
            "_model_module_version": "1.5.0",
            "_view_count": null,
            "_view_module_version": "1.5.0",
            "box_style": "",
            "layout": "IPY_MODEL_560df9f43a9c4c5483c2c2468c42ac2c",
            "_model_module": "@jupyter-widgets/controls",
            "children": [
              "IPY_MODEL_1d8ba7ff763942018516b40ed648d5f1",
              "IPY_MODEL_e86be0f0dfbb4816a49e44b05d425821"
            ]
          }
        },
        "560df9f43a9c4c5483c2c2468c42ac2c": {
          "model_module": "@jupyter-widgets/base",
          "model_name": "LayoutModel",
          "state": {
            "_view_name": "LayoutView",
            "grid_template_rows": null,
            "right": null,
            "justify_content": null,
            "_view_module": "@jupyter-widgets/base",
            "overflow": null,
            "_model_module_version": "1.2.0",
            "_view_count": null,
            "flex_flow": null,
            "width": null,
            "min_width": null,
            "border": null,
            "align_items": null,
            "bottom": null,
            "_model_module": "@jupyter-widgets/base",
            "top": null,
            "grid_column": null,
            "overflow_y": null,
            "overflow_x": null,
            "grid_auto_flow": null,
            "grid_area": null,
            "grid_template_columns": null,
            "flex": null,
            "_model_name": "LayoutModel",
            "justify_items": null,
            "grid_row": null,
            "max_height": null,
            "align_content": null,
            "visibility": null,
            "align_self": null,
            "height": null,
            "min_height": null,
            "padding": null,
            "grid_auto_rows": null,
            "grid_gap": null,
            "max_width": null,
            "order": null,
            "_view_module_version": "1.2.0",
            "grid_template_areas": null,
            "object_position": null,
            "object_fit": null,
            "grid_auto_columns": null,
            "margin": null,
            "display": null,
            "left": null
          }
        },
        "1d8ba7ff763942018516b40ed648d5f1": {
          "model_module": "@jupyter-widgets/controls",
          "model_name": "IntProgressModel",
          "state": {
            "_view_name": "ProgressView",
            "style": "IPY_MODEL_1be39685c95143ccb0b30536ab105f99",
            "_dom_classes": [],
            "description": " 62%",
            "_model_name": "IntProgressModel",
            "bar_style": "danger",
            "max": 25000,
            "_view_module": "@jupyter-widgets/controls",
            "_model_module_version": "1.5.0",
            "value": 15431,
            "_view_count": null,
            "_view_module_version": "1.5.0",
            "orientation": "horizontal",
            "min": 0,
            "description_tooltip": null,
            "_model_module": "@jupyter-widgets/controls",
            "layout": "IPY_MODEL_4d68463f5a254b54a897bcd690a5000c"
          }
        },
        "e86be0f0dfbb4816a49e44b05d425821": {
          "model_module": "@jupyter-widgets/controls",
          "model_name": "HTMLModel",
          "state": {
            "_view_name": "HTMLView",
            "style": "IPY_MODEL_e1df2964a3394f239fad4779d57d37cc",
            "_dom_classes": [],
            "description": "",
            "_model_name": "HTMLModel",
            "placeholder": "​",
            "_view_module": "@jupyter-widgets/controls",
            "_model_module_version": "1.5.0",
            "value": " 15431/25000 [00:00&lt;00:00, 154306.10 examples/s]",
            "_view_count": null,
            "_view_module_version": "1.5.0",
            "description_tooltip": null,
            "_model_module": "@jupyter-widgets/controls",
            "layout": "IPY_MODEL_b6c90d79e40e4cb7b4417e1169e703de"
          }
        },
        "1be39685c95143ccb0b30536ab105f99": {
          "model_module": "@jupyter-widgets/controls",
          "model_name": "ProgressStyleModel",
          "state": {
            "_view_name": "StyleView",
            "_model_name": "ProgressStyleModel",
            "description_width": "initial",
            "_view_module": "@jupyter-widgets/base",
            "_model_module_version": "1.5.0",
            "_view_count": null,
            "_view_module_version": "1.2.0",
            "bar_color": null,
            "_model_module": "@jupyter-widgets/controls"
          }
        },
        "4d68463f5a254b54a897bcd690a5000c": {
          "model_module": "@jupyter-widgets/base",
          "model_name": "LayoutModel",
          "state": {
            "_view_name": "LayoutView",
            "grid_template_rows": null,
            "right": null,
            "justify_content": null,
            "_view_module": "@jupyter-widgets/base",
            "overflow": null,
            "_model_module_version": "1.2.0",
            "_view_count": null,
            "flex_flow": null,
            "width": null,
            "min_width": null,
            "border": null,
            "align_items": null,
            "bottom": null,
            "_model_module": "@jupyter-widgets/base",
            "top": null,
            "grid_column": null,
            "overflow_y": null,
            "overflow_x": null,
            "grid_auto_flow": null,
            "grid_area": null,
            "grid_template_columns": null,
            "flex": null,
            "_model_name": "LayoutModel",
            "justify_items": null,
            "grid_row": null,
            "max_height": null,
            "align_content": null,
            "visibility": null,
            "align_self": null,
            "height": null,
            "min_height": null,
            "padding": null,
            "grid_auto_rows": null,
            "grid_gap": null,
            "max_width": null,
            "order": null,
            "_view_module_version": "1.2.0",
            "grid_template_areas": null,
            "object_position": null,
            "object_fit": null,
            "grid_auto_columns": null,
            "margin": null,
            "display": null,
            "left": null
          }
        },
        "e1df2964a3394f239fad4779d57d37cc": {
          "model_module": "@jupyter-widgets/controls",
          "model_name": "DescriptionStyleModel",
          "state": {
            "_view_name": "StyleView",
            "_model_name": "DescriptionStyleModel",
            "description_width": "",
            "_view_module": "@jupyter-widgets/base",
            "_model_module_version": "1.5.0",
            "_view_count": null,
            "_view_module_version": "1.2.0",
            "_model_module": "@jupyter-widgets/controls"
          }
        },
        "b6c90d79e40e4cb7b4417e1169e703de": {
          "model_module": "@jupyter-widgets/base",
          "model_name": "LayoutModel",
          "state": {
            "_view_name": "LayoutView",
            "grid_template_rows": null,
            "right": null,
            "justify_content": null,
            "_view_module": "@jupyter-widgets/base",
            "overflow": null,
            "_model_module_version": "1.2.0",
            "_view_count": null,
            "flex_flow": null,
            "width": null,
            "min_width": null,
            "border": null,
            "align_items": null,
            "bottom": null,
            "_model_module": "@jupyter-widgets/base",
            "top": null,
            "grid_column": null,
            "overflow_y": null,
            "overflow_x": null,
            "grid_auto_flow": null,
            "grid_area": null,
            "grid_template_columns": null,
            "flex": null,
            "_model_name": "LayoutModel",
            "justify_items": null,
            "grid_row": null,
            "max_height": null,
            "align_content": null,
            "visibility": null,
            "align_self": null,
            "height": null,
            "min_height": null,
            "padding": null,
            "grid_auto_rows": null,
            "grid_gap": null,
            "max_width": null,
            "order": null,
            "_view_module_version": "1.2.0",
            "grid_template_areas": null,
            "object_position": null,
            "object_fit": null,
            "grid_auto_columns": null,
            "margin": null,
            "display": null,
            "left": null
          }
        },
        "addeb91ba7bd4770a9009e397b08a91f": {
          "model_module": "@jupyter-widgets/controls",
          "model_name": "HBoxModel",
          "state": {
            "_view_name": "HBoxView",
            "_dom_classes": [],
            "_model_name": "HBoxModel",
            "_view_module": "@jupyter-widgets/controls",
            "_model_module_version": "1.5.0",
            "_view_count": null,
            "_view_module_version": "1.5.0",
            "box_style": "",
            "layout": "IPY_MODEL_eda482ba034a40ae90380743200efae1",
            "_model_module": "@jupyter-widgets/controls",
            "children": [
              "IPY_MODEL_07e8afd7ceca448688a380cfb903b1d9",
              "IPY_MODEL_448576dc21c94f0199372f936d580a83"
            ]
          }
        },
        "eda482ba034a40ae90380743200efae1": {
          "model_module": "@jupyter-widgets/base",
          "model_name": "LayoutModel",
          "state": {
            "_view_name": "LayoutView",
            "grid_template_rows": null,
            "right": null,
            "justify_content": null,
            "_view_module": "@jupyter-widgets/base",
            "overflow": null,
            "_model_module_version": "1.2.0",
            "_view_count": null,
            "flex_flow": null,
            "width": null,
            "min_width": null,
            "border": null,
            "align_items": null,
            "bottom": null,
            "_model_module": "@jupyter-widgets/base",
            "top": null,
            "grid_column": null,
            "overflow_y": null,
            "overflow_x": null,
            "grid_auto_flow": null,
            "grid_area": null,
            "grid_template_columns": null,
            "flex": null,
            "_model_name": "LayoutModel",
            "justify_items": null,
            "grid_row": null,
            "max_height": null,
            "align_content": null,
            "visibility": null,
            "align_self": null,
            "height": null,
            "min_height": null,
            "padding": null,
            "grid_auto_rows": null,
            "grid_gap": null,
            "max_width": null,
            "order": null,
            "_view_module_version": "1.2.0",
            "grid_template_areas": null,
            "object_position": null,
            "object_fit": null,
            "grid_auto_columns": null,
            "margin": null,
            "display": null,
            "left": null
          }
        },
        "07e8afd7ceca448688a380cfb903b1d9": {
          "model_module": "@jupyter-widgets/controls",
          "model_name": "IntProgressModel",
          "state": {
            "_view_name": "ProgressView",
            "style": "IPY_MODEL_99c2ead75df54906892d4ee38cb24055",
            "_dom_classes": [],
            "description": "",
            "_model_name": "IntProgressModel",
            "bar_style": "info",
            "max": 1,
            "_view_module": "@jupyter-widgets/controls",
            "_model_module_version": "1.5.0",
            "value": 1,
            "_view_count": null,
            "_view_module_version": "1.5.0",
            "orientation": "horizontal",
            "min": 0,
            "description_tooltip": null,
            "_model_module": "@jupyter-widgets/controls",
            "layout": "IPY_MODEL_a3f82020c7084c18bd9d8ed9f4f60076"
          }
        },
        "448576dc21c94f0199372f936d580a83": {
          "model_module": "@jupyter-widgets/controls",
          "model_name": "HTMLModel",
          "state": {
            "_view_name": "HTMLView",
            "style": "IPY_MODEL_a4af91d8a2ef48f58d83eab548105e2c",
            "_dom_classes": [],
            "description": "",
            "_model_name": "HTMLModel",
            "placeholder": "​",
            "_view_module": "@jupyter-widgets/controls",
            "_model_module_version": "1.5.0",
            "value": " 25000/0 [00:12&lt;00:00, 3343.65 examples/s]",
            "_view_count": null,
            "_view_module_version": "1.5.0",
            "description_tooltip": null,
            "_model_module": "@jupyter-widgets/controls",
            "layout": "IPY_MODEL_98438a3cafab4a30856072ec10f0043e"
          }
        },
        "99c2ead75df54906892d4ee38cb24055": {
          "model_module": "@jupyter-widgets/controls",
          "model_name": "ProgressStyleModel",
          "state": {
            "_view_name": "StyleView",
            "_model_name": "ProgressStyleModel",
            "description_width": "initial",
            "_view_module": "@jupyter-widgets/base",
            "_model_module_version": "1.5.0",
            "_view_count": null,
            "_view_module_version": "1.2.0",
            "bar_color": null,
            "_model_module": "@jupyter-widgets/controls"
          }
        },
        "a3f82020c7084c18bd9d8ed9f4f60076": {
          "model_module": "@jupyter-widgets/base",
          "model_name": "LayoutModel",
          "state": {
            "_view_name": "LayoutView",
            "grid_template_rows": null,
            "right": null,
            "justify_content": null,
            "_view_module": "@jupyter-widgets/base",
            "overflow": null,
            "_model_module_version": "1.2.0",
            "_view_count": null,
            "flex_flow": null,
            "width": null,
            "min_width": null,
            "border": null,
            "align_items": null,
            "bottom": null,
            "_model_module": "@jupyter-widgets/base",
            "top": null,
            "grid_column": null,
            "overflow_y": null,
            "overflow_x": null,
            "grid_auto_flow": null,
            "grid_area": null,
            "grid_template_columns": null,
            "flex": null,
            "_model_name": "LayoutModel",
            "justify_items": null,
            "grid_row": null,
            "max_height": null,
            "align_content": null,
            "visibility": null,
            "align_self": null,
            "height": null,
            "min_height": null,
            "padding": null,
            "grid_auto_rows": null,
            "grid_gap": null,
            "max_width": null,
            "order": null,
            "_view_module_version": "1.2.0",
            "grid_template_areas": null,
            "object_position": null,
            "object_fit": null,
            "grid_auto_columns": null,
            "margin": null,
            "display": null,
            "left": null
          }
        },
        "a4af91d8a2ef48f58d83eab548105e2c": {
          "model_module": "@jupyter-widgets/controls",
          "model_name": "DescriptionStyleModel",
          "state": {
            "_view_name": "StyleView",
            "_model_name": "DescriptionStyleModel",
            "description_width": "",
            "_view_module": "@jupyter-widgets/base",
            "_model_module_version": "1.5.0",
            "_view_count": null,
            "_view_module_version": "1.2.0",
            "_model_module": "@jupyter-widgets/controls"
          }
        },
        "98438a3cafab4a30856072ec10f0043e": {
          "model_module": "@jupyter-widgets/base",
          "model_name": "LayoutModel",
          "state": {
            "_view_name": "LayoutView",
            "grid_template_rows": null,
            "right": null,
            "justify_content": null,
            "_view_module": "@jupyter-widgets/base",
            "overflow": null,
            "_model_module_version": "1.2.0",
            "_view_count": null,
            "flex_flow": null,
            "width": null,
            "min_width": null,
            "border": null,
            "align_items": null,
            "bottom": null,
            "_model_module": "@jupyter-widgets/base",
            "top": null,
            "grid_column": null,
            "overflow_y": null,
            "overflow_x": null,
            "grid_auto_flow": null,
            "grid_area": null,
            "grid_template_columns": null,
            "flex": null,
            "_model_name": "LayoutModel",
            "justify_items": null,
            "grid_row": null,
            "max_height": null,
            "align_content": null,
            "visibility": null,
            "align_self": null,
            "height": null,
            "min_height": null,
            "padding": null,
            "grid_auto_rows": null,
            "grid_gap": null,
            "max_width": null,
            "order": null,
            "_view_module_version": "1.2.0",
            "grid_template_areas": null,
            "object_position": null,
            "object_fit": null,
            "grid_auto_columns": null,
            "margin": null,
            "display": null,
            "left": null
          }
        },
        "8a2626f4da9d49058b4578e2e8f20ac9": {
          "model_module": "@jupyter-widgets/controls",
          "model_name": "HBoxModel",
          "state": {
            "_view_name": "HBoxView",
            "_dom_classes": [],
            "_model_name": "HBoxModel",
            "_view_module": "@jupyter-widgets/controls",
            "_model_module_version": "1.5.0",
            "_view_count": null,
            "_view_module_version": "1.5.0",
            "box_style": "",
            "layout": "IPY_MODEL_24300b5e782b4376981ba61fe0b9476b",
            "_model_module": "@jupyter-widgets/controls",
            "children": [
              "IPY_MODEL_eb008c2ec0474694bcf663908f82aab1",
              "IPY_MODEL_7c0fdc5d52444b0aa16c6d46e6d534cd"
            ]
          }
        },
        "24300b5e782b4376981ba61fe0b9476b": {
          "model_module": "@jupyter-widgets/base",
          "model_name": "LayoutModel",
          "state": {
            "_view_name": "LayoutView",
            "grid_template_rows": null,
            "right": null,
            "justify_content": null,
            "_view_module": "@jupyter-widgets/base",
            "overflow": null,
            "_model_module_version": "1.2.0",
            "_view_count": null,
            "flex_flow": null,
            "width": null,
            "min_width": null,
            "border": null,
            "align_items": null,
            "bottom": null,
            "_model_module": "@jupyter-widgets/base",
            "top": null,
            "grid_column": null,
            "overflow_y": null,
            "overflow_x": null,
            "grid_auto_flow": null,
            "grid_area": null,
            "grid_template_columns": null,
            "flex": null,
            "_model_name": "LayoutModel",
            "justify_items": null,
            "grid_row": null,
            "max_height": null,
            "align_content": null,
            "visibility": null,
            "align_self": null,
            "height": null,
            "min_height": null,
            "padding": null,
            "grid_auto_rows": null,
            "grid_gap": null,
            "max_width": null,
            "order": null,
            "_view_module_version": "1.2.0",
            "grid_template_areas": null,
            "object_position": null,
            "object_fit": null,
            "grid_auto_columns": null,
            "margin": null,
            "display": null,
            "left": null
          }
        },
        "eb008c2ec0474694bcf663908f82aab1": {
          "model_module": "@jupyter-widgets/controls",
          "model_name": "IntProgressModel",
          "state": {
            "_view_name": "ProgressView",
            "style": "IPY_MODEL_978bad53809e4647b50808404dbb3a7e",
            "_dom_classes": [],
            "description": " 59%",
            "_model_name": "IntProgressModel",
            "bar_style": "danger",
            "max": 25000,
            "_view_module": "@jupyter-widgets/controls",
            "_model_module_version": "1.5.0",
            "value": 14820,
            "_view_count": null,
            "_view_module_version": "1.5.0",
            "orientation": "horizontal",
            "min": 0,
            "description_tooltip": null,
            "_model_module": "@jupyter-widgets/controls",
            "layout": "IPY_MODEL_1fde7bfc23324281ac84d2d73eafa8a6"
          }
        },
        "7c0fdc5d52444b0aa16c6d46e6d534cd": {
          "model_module": "@jupyter-widgets/controls",
          "model_name": "HTMLModel",
          "state": {
            "_view_name": "HTMLView",
            "style": "IPY_MODEL_069b81c1450d4b578bf0421f9bb1f6aa",
            "_dom_classes": [],
            "description": "",
            "_model_name": "HTMLModel",
            "placeholder": "​",
            "_view_module": "@jupyter-widgets/controls",
            "_model_module_version": "1.5.0",
            "value": " 14820/25000 [00:00&lt;00:00, 148194.13 examples/s]",
            "_view_count": null,
            "_view_module_version": "1.5.0",
            "description_tooltip": null,
            "_model_module": "@jupyter-widgets/controls",
            "layout": "IPY_MODEL_80aba2c4b6824abc95cbeaceb5a1cb73"
          }
        },
        "978bad53809e4647b50808404dbb3a7e": {
          "model_module": "@jupyter-widgets/controls",
          "model_name": "ProgressStyleModel",
          "state": {
            "_view_name": "StyleView",
            "_model_name": "ProgressStyleModel",
            "description_width": "initial",
            "_view_module": "@jupyter-widgets/base",
            "_model_module_version": "1.5.0",
            "_view_count": null,
            "_view_module_version": "1.2.0",
            "bar_color": null,
            "_model_module": "@jupyter-widgets/controls"
          }
        },
        "1fde7bfc23324281ac84d2d73eafa8a6": {
          "model_module": "@jupyter-widgets/base",
          "model_name": "LayoutModel",
          "state": {
            "_view_name": "LayoutView",
            "grid_template_rows": null,
            "right": null,
            "justify_content": null,
            "_view_module": "@jupyter-widgets/base",
            "overflow": null,
            "_model_module_version": "1.2.0",
            "_view_count": null,
            "flex_flow": null,
            "width": null,
            "min_width": null,
            "border": null,
            "align_items": null,
            "bottom": null,
            "_model_module": "@jupyter-widgets/base",
            "top": null,
            "grid_column": null,
            "overflow_y": null,
            "overflow_x": null,
            "grid_auto_flow": null,
            "grid_area": null,
            "grid_template_columns": null,
            "flex": null,
            "_model_name": "LayoutModel",
            "justify_items": null,
            "grid_row": null,
            "max_height": null,
            "align_content": null,
            "visibility": null,
            "align_self": null,
            "height": null,
            "min_height": null,
            "padding": null,
            "grid_auto_rows": null,
            "grid_gap": null,
            "max_width": null,
            "order": null,
            "_view_module_version": "1.2.0",
            "grid_template_areas": null,
            "object_position": null,
            "object_fit": null,
            "grid_auto_columns": null,
            "margin": null,
            "display": null,
            "left": null
          }
        },
        "069b81c1450d4b578bf0421f9bb1f6aa": {
          "model_module": "@jupyter-widgets/controls",
          "model_name": "DescriptionStyleModel",
          "state": {
            "_view_name": "StyleView",
            "_model_name": "DescriptionStyleModel",
            "description_width": "",
            "_view_module": "@jupyter-widgets/base",
            "_model_module_version": "1.5.0",
            "_view_count": null,
            "_view_module_version": "1.2.0",
            "_model_module": "@jupyter-widgets/controls"
          }
        },
        "80aba2c4b6824abc95cbeaceb5a1cb73": {
          "model_module": "@jupyter-widgets/base",
          "model_name": "LayoutModel",
          "state": {
            "_view_name": "LayoutView",
            "grid_template_rows": null,
            "right": null,
            "justify_content": null,
            "_view_module": "@jupyter-widgets/base",
            "overflow": null,
            "_model_module_version": "1.2.0",
            "_view_count": null,
            "flex_flow": null,
            "width": null,
            "min_width": null,
            "border": null,
            "align_items": null,
            "bottom": null,
            "_model_module": "@jupyter-widgets/base",
            "top": null,
            "grid_column": null,
            "overflow_y": null,
            "overflow_x": null,
            "grid_auto_flow": null,
            "grid_area": null,
            "grid_template_columns": null,
            "flex": null,
            "_model_name": "LayoutModel",
            "justify_items": null,
            "grid_row": null,
            "max_height": null,
            "align_content": null,
            "visibility": null,
            "align_self": null,
            "height": null,
            "min_height": null,
            "padding": null,
            "grid_auto_rows": null,
            "grid_gap": null,
            "max_width": null,
            "order": null,
            "_view_module_version": "1.2.0",
            "grid_template_areas": null,
            "object_position": null,
            "object_fit": null,
            "grid_auto_columns": null,
            "margin": null,
            "display": null,
            "left": null
          }
        },
        "dfbf8946551549e492a9e24cf4f952b4": {
          "model_module": "@jupyter-widgets/controls",
          "model_name": "HBoxModel",
          "state": {
            "_view_name": "HBoxView",
            "_dom_classes": [],
            "_model_name": "HBoxModel",
            "_view_module": "@jupyter-widgets/controls",
            "_model_module_version": "1.5.0",
            "_view_count": null,
            "_view_module_version": "1.5.0",
            "box_style": "",
            "layout": "IPY_MODEL_a4021da56b38436990502bd899e45076",
            "_model_module": "@jupyter-widgets/controls",
            "children": [
              "IPY_MODEL_27104145b9a443ca88894cb10cc047a0",
              "IPY_MODEL_060f08977bbd48a08dc612c111e5b68d"
            ]
          }
        },
        "a4021da56b38436990502bd899e45076": {
          "model_module": "@jupyter-widgets/base",
          "model_name": "LayoutModel",
          "state": {
            "_view_name": "LayoutView",
            "grid_template_rows": null,
            "right": null,
            "justify_content": null,
            "_view_module": "@jupyter-widgets/base",
            "overflow": null,
            "_model_module_version": "1.2.0",
            "_view_count": null,
            "flex_flow": null,
            "width": null,
            "min_width": null,
            "border": null,
            "align_items": null,
            "bottom": null,
            "_model_module": "@jupyter-widgets/base",
            "top": null,
            "grid_column": null,
            "overflow_y": null,
            "overflow_x": null,
            "grid_auto_flow": null,
            "grid_area": null,
            "grid_template_columns": null,
            "flex": null,
            "_model_name": "LayoutModel",
            "justify_items": null,
            "grid_row": null,
            "max_height": null,
            "align_content": null,
            "visibility": null,
            "align_self": null,
            "height": null,
            "min_height": null,
            "padding": null,
            "grid_auto_rows": null,
            "grid_gap": null,
            "max_width": null,
            "order": null,
            "_view_module_version": "1.2.0",
            "grid_template_areas": null,
            "object_position": null,
            "object_fit": null,
            "grid_auto_columns": null,
            "margin": null,
            "display": null,
            "left": null
          }
        },
        "27104145b9a443ca88894cb10cc047a0": {
          "model_module": "@jupyter-widgets/controls",
          "model_name": "IntProgressModel",
          "state": {
            "_view_name": "ProgressView",
            "style": "IPY_MODEL_fd27d7893aeb48b9ac9e844ae7200588",
            "_dom_classes": [],
            "description": "",
            "_model_name": "IntProgressModel",
            "bar_style": "info",
            "max": 1,
            "_view_module": "@jupyter-widgets/controls",
            "_model_module_version": "1.5.0",
            "value": 1,
            "_view_count": null,
            "_view_module_version": "1.5.0",
            "orientation": "horizontal",
            "min": 0,
            "description_tooltip": null,
            "_model_module": "@jupyter-widgets/controls",
            "layout": "IPY_MODEL_f60bf872c48b44ca945ea437b91cfba7"
          }
        },
        "060f08977bbd48a08dc612c111e5b68d": {
          "model_module": "@jupyter-widgets/controls",
          "model_name": "HTMLModel",
          "state": {
            "_view_name": "HTMLView",
            "style": "IPY_MODEL_04052ae7a6c148539d1531f19e89d522",
            "_dom_classes": [],
            "description": "",
            "_model_name": "HTMLModel",
            "placeholder": "​",
            "_view_module": "@jupyter-widgets/controls",
            "_model_module_version": "1.5.0",
            "value": " 50000/0 [00:18&lt;00:00, 3512.33 examples/s]",
            "_view_count": null,
            "_view_module_version": "1.5.0",
            "description_tooltip": null,
            "_model_module": "@jupyter-widgets/controls",
            "layout": "IPY_MODEL_a2cd1236e6954d97901d5df24d768eeb"
          }
        },
        "fd27d7893aeb48b9ac9e844ae7200588": {
          "model_module": "@jupyter-widgets/controls",
          "model_name": "ProgressStyleModel",
          "state": {
            "_view_name": "StyleView",
            "_model_name": "ProgressStyleModel",
            "description_width": "initial",
            "_view_module": "@jupyter-widgets/base",
            "_model_module_version": "1.5.0",
            "_view_count": null,
            "_view_module_version": "1.2.0",
            "bar_color": null,
            "_model_module": "@jupyter-widgets/controls"
          }
        },
        "f60bf872c48b44ca945ea437b91cfba7": {
          "model_module": "@jupyter-widgets/base",
          "model_name": "LayoutModel",
          "state": {
            "_view_name": "LayoutView",
            "grid_template_rows": null,
            "right": null,
            "justify_content": null,
            "_view_module": "@jupyter-widgets/base",
            "overflow": null,
            "_model_module_version": "1.2.0",
            "_view_count": null,
            "flex_flow": null,
            "width": null,
            "min_width": null,
            "border": null,
            "align_items": null,
            "bottom": null,
            "_model_module": "@jupyter-widgets/base",
            "top": null,
            "grid_column": null,
            "overflow_y": null,
            "overflow_x": null,
            "grid_auto_flow": null,
            "grid_area": null,
            "grid_template_columns": null,
            "flex": null,
            "_model_name": "LayoutModel",
            "justify_items": null,
            "grid_row": null,
            "max_height": null,
            "align_content": null,
            "visibility": null,
            "align_self": null,
            "height": null,
            "min_height": null,
            "padding": null,
            "grid_auto_rows": null,
            "grid_gap": null,
            "max_width": null,
            "order": null,
            "_view_module_version": "1.2.0",
            "grid_template_areas": null,
            "object_position": null,
            "object_fit": null,
            "grid_auto_columns": null,
            "margin": null,
            "display": null,
            "left": null
          }
        },
        "04052ae7a6c148539d1531f19e89d522": {
          "model_module": "@jupyter-widgets/controls",
          "model_name": "DescriptionStyleModel",
          "state": {
            "_view_name": "StyleView",
            "_model_name": "DescriptionStyleModel",
            "description_width": "",
            "_view_module": "@jupyter-widgets/base",
            "_model_module_version": "1.5.0",
            "_view_count": null,
            "_view_module_version": "1.2.0",
            "_model_module": "@jupyter-widgets/controls"
          }
        },
        "a2cd1236e6954d97901d5df24d768eeb": {
          "model_module": "@jupyter-widgets/base",
          "model_name": "LayoutModel",
          "state": {
            "_view_name": "LayoutView",
            "grid_template_rows": null,
            "right": null,
            "justify_content": null,
            "_view_module": "@jupyter-widgets/base",
            "overflow": null,
            "_model_module_version": "1.2.0",
            "_view_count": null,
            "flex_flow": null,
            "width": null,
            "min_width": null,
            "border": null,
            "align_items": null,
            "bottom": null,
            "_model_module": "@jupyter-widgets/base",
            "top": null,
            "grid_column": null,
            "overflow_y": null,
            "overflow_x": null,
            "grid_auto_flow": null,
            "grid_area": null,
            "grid_template_columns": null,
            "flex": null,
            "_model_name": "LayoutModel",
            "justify_items": null,
            "grid_row": null,
            "max_height": null,
            "align_content": null,
            "visibility": null,
            "align_self": null,
            "height": null,
            "min_height": null,
            "padding": null,
            "grid_auto_rows": null,
            "grid_gap": null,
            "max_width": null,
            "order": null,
            "_view_module_version": "1.2.0",
            "grid_template_areas": null,
            "object_position": null,
            "object_fit": null,
            "grid_auto_columns": null,
            "margin": null,
            "display": null,
            "left": null
          }
        },
        "22a096be7c714461870ff68242cef6c4": {
          "model_module": "@jupyter-widgets/controls",
          "model_name": "HBoxModel",
          "state": {
            "_view_name": "HBoxView",
            "_dom_classes": [],
            "_model_name": "HBoxModel",
            "_view_module": "@jupyter-widgets/controls",
            "_model_module_version": "1.5.0",
            "_view_count": null,
            "_view_module_version": "1.5.0",
            "box_style": "",
            "layout": "IPY_MODEL_5a9390ffaa084e21834ecf3bfb0dc1a4",
            "_model_module": "@jupyter-widgets/controls",
            "children": [
              "IPY_MODEL_f86fde194568432e87c4b342b10059e0",
              "IPY_MODEL_d03ab7181ff845c78c219c4ae14d79a1"
            ]
          }
        },
        "5a9390ffaa084e21834ecf3bfb0dc1a4": {
          "model_module": "@jupyter-widgets/base",
          "model_name": "LayoutModel",
          "state": {
            "_view_name": "LayoutView",
            "grid_template_rows": null,
            "right": null,
            "justify_content": null,
            "_view_module": "@jupyter-widgets/base",
            "overflow": null,
            "_model_module_version": "1.2.0",
            "_view_count": null,
            "flex_flow": null,
            "width": null,
            "min_width": null,
            "border": null,
            "align_items": null,
            "bottom": null,
            "_model_module": "@jupyter-widgets/base",
            "top": null,
            "grid_column": null,
            "overflow_y": null,
            "overflow_x": null,
            "grid_auto_flow": null,
            "grid_area": null,
            "grid_template_columns": null,
            "flex": null,
            "_model_name": "LayoutModel",
            "justify_items": null,
            "grid_row": null,
            "max_height": null,
            "align_content": null,
            "visibility": null,
            "align_self": null,
            "height": null,
            "min_height": null,
            "padding": null,
            "grid_auto_rows": null,
            "grid_gap": null,
            "max_width": null,
            "order": null,
            "_view_module_version": "1.2.0",
            "grid_template_areas": null,
            "object_position": null,
            "object_fit": null,
            "grid_auto_columns": null,
            "margin": null,
            "display": null,
            "left": null
          }
        },
        "f86fde194568432e87c4b342b10059e0": {
          "model_module": "@jupyter-widgets/controls",
          "model_name": "IntProgressModel",
          "state": {
            "_view_name": "ProgressView",
            "style": "IPY_MODEL_21ed8f6335b0426997415beed08fe6da",
            "_dom_classes": [],
            "description": " 75%",
            "_model_name": "IntProgressModel",
            "bar_style": "danger",
            "max": 50000,
            "_view_module": "@jupyter-widgets/controls",
            "_model_module_version": "1.5.0",
            "value": 37313,
            "_view_count": null,
            "_view_module_version": "1.5.0",
            "orientation": "horizontal",
            "min": 0,
            "description_tooltip": null,
            "_model_module": "@jupyter-widgets/controls",
            "layout": "IPY_MODEL_e4dc5b6075e64427ae32e9c45808595f"
          }
        },
        "d03ab7181ff845c78c219c4ae14d79a1": {
          "model_module": "@jupyter-widgets/controls",
          "model_name": "HTMLModel",
          "state": {
            "_view_name": "HTMLView",
            "style": "IPY_MODEL_ea6f860d4182430e82380f7fc4764a51",
            "_dom_classes": [],
            "description": "",
            "_model_name": "HTMLModel",
            "placeholder": "​",
            "_view_module": "@jupyter-widgets/controls",
            "_model_module_version": "1.5.0",
            "value": " 37313/50000 [00:06&lt;00:00, 120895.50 examples/s]",
            "_view_count": null,
            "_view_module_version": "1.5.0",
            "description_tooltip": null,
            "_model_module": "@jupyter-widgets/controls",
            "layout": "IPY_MODEL_90fa2db789b246b3978fb5e193fe1604"
          }
        },
        "21ed8f6335b0426997415beed08fe6da": {
          "model_module": "@jupyter-widgets/controls",
          "model_name": "ProgressStyleModel",
          "state": {
            "_view_name": "StyleView",
            "_model_name": "ProgressStyleModel",
            "description_width": "initial",
            "_view_module": "@jupyter-widgets/base",
            "_model_module_version": "1.5.0",
            "_view_count": null,
            "_view_module_version": "1.2.0",
            "bar_color": null,
            "_model_module": "@jupyter-widgets/controls"
          }
        },
        "e4dc5b6075e64427ae32e9c45808595f": {
          "model_module": "@jupyter-widgets/base",
          "model_name": "LayoutModel",
          "state": {
            "_view_name": "LayoutView",
            "grid_template_rows": null,
            "right": null,
            "justify_content": null,
            "_view_module": "@jupyter-widgets/base",
            "overflow": null,
            "_model_module_version": "1.2.0",
            "_view_count": null,
            "flex_flow": null,
            "width": null,
            "min_width": null,
            "border": null,
            "align_items": null,
            "bottom": null,
            "_model_module": "@jupyter-widgets/base",
            "top": null,
            "grid_column": null,
            "overflow_y": null,
            "overflow_x": null,
            "grid_auto_flow": null,
            "grid_area": null,
            "grid_template_columns": null,
            "flex": null,
            "_model_name": "LayoutModel",
            "justify_items": null,
            "grid_row": null,
            "max_height": null,
            "align_content": null,
            "visibility": null,
            "align_self": null,
            "height": null,
            "min_height": null,
            "padding": null,
            "grid_auto_rows": null,
            "grid_gap": null,
            "max_width": null,
            "order": null,
            "_view_module_version": "1.2.0",
            "grid_template_areas": null,
            "object_position": null,
            "object_fit": null,
            "grid_auto_columns": null,
            "margin": null,
            "display": null,
            "left": null
          }
        },
        "ea6f860d4182430e82380f7fc4764a51": {
          "model_module": "@jupyter-widgets/controls",
          "model_name": "DescriptionStyleModel",
          "state": {
            "_view_name": "StyleView",
            "_model_name": "DescriptionStyleModel",
            "description_width": "",
            "_view_module": "@jupyter-widgets/base",
            "_model_module_version": "1.5.0",
            "_view_count": null,
            "_view_module_version": "1.2.0",
            "_model_module": "@jupyter-widgets/controls"
          }
        },
        "90fa2db789b246b3978fb5e193fe1604": {
          "model_module": "@jupyter-widgets/base",
          "model_name": "LayoutModel",
          "state": {
            "_view_name": "LayoutView",
            "grid_template_rows": null,
            "right": null,
            "justify_content": null,
            "_view_module": "@jupyter-widgets/base",
            "overflow": null,
            "_model_module_version": "1.2.0",
            "_view_count": null,
            "flex_flow": null,
            "width": null,
            "min_width": null,
            "border": null,
            "align_items": null,
            "bottom": null,
            "_model_module": "@jupyter-widgets/base",
            "top": null,
            "grid_column": null,
            "overflow_y": null,
            "overflow_x": null,
            "grid_auto_flow": null,
            "grid_area": null,
            "grid_template_columns": null,
            "flex": null,
            "_model_name": "LayoutModel",
            "justify_items": null,
            "grid_row": null,
            "max_height": null,
            "align_content": null,
            "visibility": null,
            "align_self": null,
            "height": null,
            "min_height": null,
            "padding": null,
            "grid_auto_rows": null,
            "grid_gap": null,
            "max_width": null,
            "order": null,
            "_view_module_version": "1.2.0",
            "grid_template_areas": null,
            "object_position": null,
            "object_fit": null,
            "grid_auto_columns": null,
            "margin": null,
            "display": null,
            "left": null
          }
        },
        "b11eeaeb917a47c0bc2d04db626cfa1c": {
          "model_module": "@jupyter-widgets/controls",
          "model_name": "HBoxModel",
          "state": {
            "_view_name": "HBoxView",
            "_dom_classes": [],
            "_model_name": "HBoxModel",
            "_view_module": "@jupyter-widgets/controls",
            "_model_module_version": "1.5.0",
            "_view_count": null,
            "_view_module_version": "1.5.0",
            "box_style": "",
            "layout": "IPY_MODEL_ec22645bda364b9eafb5091befacbbc0",
            "_model_module": "@jupyter-widgets/controls",
            "children": [
              "IPY_MODEL_d326f015f1cb4ee390c82707657d91cc",
              "IPY_MODEL_2cb54c40e0ea45fab6b0437b63ddb1ca"
            ]
          }
        },
        "ec22645bda364b9eafb5091befacbbc0": {
          "model_module": "@jupyter-widgets/base",
          "model_name": "LayoutModel",
          "state": {
            "_view_name": "LayoutView",
            "grid_template_rows": null,
            "right": null,
            "justify_content": null,
            "_view_module": "@jupyter-widgets/base",
            "overflow": null,
            "_model_module_version": "1.2.0",
            "_view_count": null,
            "flex_flow": null,
            "width": null,
            "min_width": null,
            "border": null,
            "align_items": null,
            "bottom": null,
            "_model_module": "@jupyter-widgets/base",
            "top": null,
            "grid_column": null,
            "overflow_y": null,
            "overflow_x": null,
            "grid_auto_flow": null,
            "grid_area": null,
            "grid_template_columns": null,
            "flex": null,
            "_model_name": "LayoutModel",
            "justify_items": null,
            "grid_row": null,
            "max_height": null,
            "align_content": null,
            "visibility": null,
            "align_self": null,
            "height": null,
            "min_height": null,
            "padding": null,
            "grid_auto_rows": null,
            "grid_gap": null,
            "max_width": null,
            "order": null,
            "_view_module_version": "1.2.0",
            "grid_template_areas": null,
            "object_position": null,
            "object_fit": null,
            "grid_auto_columns": null,
            "margin": null,
            "display": null,
            "left": null
          }
        },
        "d326f015f1cb4ee390c82707657d91cc": {
          "model_module": "@jupyter-widgets/controls",
          "model_name": "IntProgressModel",
          "state": {
            "_view_name": "ProgressView",
            "style": "IPY_MODEL_5c2596517cb14136975ed564069523fa",
            "_dom_classes": [],
            "description": "Downloading: 100%",
            "_model_name": "IntProgressModel",
            "bar_style": "success",
            "max": 361,
            "_view_module": "@jupyter-widgets/controls",
            "_model_module_version": "1.5.0",
            "value": 361,
            "_view_count": null,
            "_view_module_version": "1.5.0",
            "orientation": "horizontal",
            "min": 0,
            "description_tooltip": null,
            "_model_module": "@jupyter-widgets/controls",
            "layout": "IPY_MODEL_aa9b31845d634b499b6175397c561b0c"
          }
        },
        "2cb54c40e0ea45fab6b0437b63ddb1ca": {
          "model_module": "@jupyter-widgets/controls",
          "model_name": "HTMLModel",
          "state": {
            "_view_name": "HTMLView",
            "style": "IPY_MODEL_2921409335e9481892edf8b3d553deff",
            "_dom_classes": [],
            "description": "",
            "_model_name": "HTMLModel",
            "placeholder": "​",
            "_view_module": "@jupyter-widgets/controls",
            "_model_module_version": "1.5.0",
            "value": " 361/361 [00:00&lt;00:00, 385B/s]",
            "_view_count": null,
            "_view_module_version": "1.5.0",
            "description_tooltip": null,
            "_model_module": "@jupyter-widgets/controls",
            "layout": "IPY_MODEL_18a0d21e25f446ef8c590d6e70f4a54b"
          }
        },
        "5c2596517cb14136975ed564069523fa": {
          "model_module": "@jupyter-widgets/controls",
          "model_name": "ProgressStyleModel",
          "state": {
            "_view_name": "StyleView",
            "_model_name": "ProgressStyleModel",
            "description_width": "initial",
            "_view_module": "@jupyter-widgets/base",
            "_model_module_version": "1.5.0",
            "_view_count": null,
            "_view_module_version": "1.2.0",
            "bar_color": null,
            "_model_module": "@jupyter-widgets/controls"
          }
        },
        "aa9b31845d634b499b6175397c561b0c": {
          "model_module": "@jupyter-widgets/base",
          "model_name": "LayoutModel",
          "state": {
            "_view_name": "LayoutView",
            "grid_template_rows": null,
            "right": null,
            "justify_content": null,
            "_view_module": "@jupyter-widgets/base",
            "overflow": null,
            "_model_module_version": "1.2.0",
            "_view_count": null,
            "flex_flow": null,
            "width": null,
            "min_width": null,
            "border": null,
            "align_items": null,
            "bottom": null,
            "_model_module": "@jupyter-widgets/base",
            "top": null,
            "grid_column": null,
            "overflow_y": null,
            "overflow_x": null,
            "grid_auto_flow": null,
            "grid_area": null,
            "grid_template_columns": null,
            "flex": null,
            "_model_name": "LayoutModel",
            "justify_items": null,
            "grid_row": null,
            "max_height": null,
            "align_content": null,
            "visibility": null,
            "align_self": null,
            "height": null,
            "min_height": null,
            "padding": null,
            "grid_auto_rows": null,
            "grid_gap": null,
            "max_width": null,
            "order": null,
            "_view_module_version": "1.2.0",
            "grid_template_areas": null,
            "object_position": null,
            "object_fit": null,
            "grid_auto_columns": null,
            "margin": null,
            "display": null,
            "left": null
          }
        },
        "2921409335e9481892edf8b3d553deff": {
          "model_module": "@jupyter-widgets/controls",
          "model_name": "DescriptionStyleModel",
          "state": {
            "_view_name": "StyleView",
            "_model_name": "DescriptionStyleModel",
            "description_width": "",
            "_view_module": "@jupyter-widgets/base",
            "_model_module_version": "1.5.0",
            "_view_count": null,
            "_view_module_version": "1.2.0",
            "_model_module": "@jupyter-widgets/controls"
          }
        },
        "18a0d21e25f446ef8c590d6e70f4a54b": {
          "model_module": "@jupyter-widgets/base",
          "model_name": "LayoutModel",
          "state": {
            "_view_name": "LayoutView",
            "grid_template_rows": null,
            "right": null,
            "justify_content": null,
            "_view_module": "@jupyter-widgets/base",
            "overflow": null,
            "_model_module_version": "1.2.0",
            "_view_count": null,
            "flex_flow": null,
            "width": null,
            "min_width": null,
            "border": null,
            "align_items": null,
            "bottom": null,
            "_model_module": "@jupyter-widgets/base",
            "top": null,
            "grid_column": null,
            "overflow_y": null,
            "overflow_x": null,
            "grid_auto_flow": null,
            "grid_area": null,
            "grid_template_columns": null,
            "flex": null,
            "_model_name": "LayoutModel",
            "justify_items": null,
            "grid_row": null,
            "max_height": null,
            "align_content": null,
            "visibility": null,
            "align_self": null,
            "height": null,
            "min_height": null,
            "padding": null,
            "grid_auto_rows": null,
            "grid_gap": null,
            "max_width": null,
            "order": null,
            "_view_module_version": "1.2.0",
            "grid_template_areas": null,
            "object_position": null,
            "object_fit": null,
            "grid_auto_columns": null,
            "margin": null,
            "display": null,
            "left": null
          }
        },
        "9b7e44bce2d64680a8e169c97c6fabfd": {
          "model_module": "@jupyter-widgets/controls",
          "model_name": "HBoxModel",
          "state": {
            "_view_name": "HBoxView",
            "_dom_classes": [],
            "_model_name": "HBoxModel",
            "_view_module": "@jupyter-widgets/controls",
            "_model_module_version": "1.5.0",
            "_view_count": null,
            "_view_module_version": "1.5.0",
            "box_style": "",
            "layout": "IPY_MODEL_e0e3740c186e44468e45b296c0b96bee",
            "_model_module": "@jupyter-widgets/controls",
            "children": [
              "IPY_MODEL_8df4660d0f584046875d8c2713ab03d0",
              "IPY_MODEL_19c25570f3804ea09932311f1e07a0ec"
            ]
          }
        },
        "e0e3740c186e44468e45b296c0b96bee": {
          "model_module": "@jupyter-widgets/base",
          "model_name": "LayoutModel",
          "state": {
            "_view_name": "LayoutView",
            "grid_template_rows": null,
            "right": null,
            "justify_content": null,
            "_view_module": "@jupyter-widgets/base",
            "overflow": null,
            "_model_module_version": "1.2.0",
            "_view_count": null,
            "flex_flow": null,
            "width": null,
            "min_width": null,
            "border": null,
            "align_items": null,
            "bottom": null,
            "_model_module": "@jupyter-widgets/base",
            "top": null,
            "grid_column": null,
            "overflow_y": null,
            "overflow_x": null,
            "grid_auto_flow": null,
            "grid_area": null,
            "grid_template_columns": null,
            "flex": null,
            "_model_name": "LayoutModel",
            "justify_items": null,
            "grid_row": null,
            "max_height": null,
            "align_content": null,
            "visibility": null,
            "align_self": null,
            "height": null,
            "min_height": null,
            "padding": null,
            "grid_auto_rows": null,
            "grid_gap": null,
            "max_width": null,
            "order": null,
            "_view_module_version": "1.2.0",
            "grid_template_areas": null,
            "object_position": null,
            "object_fit": null,
            "grid_auto_columns": null,
            "margin": null,
            "display": null,
            "left": null
          }
        },
        "8df4660d0f584046875d8c2713ab03d0": {
          "model_module": "@jupyter-widgets/controls",
          "model_name": "IntProgressModel",
          "state": {
            "_view_name": "ProgressView",
            "style": "IPY_MODEL_16e7e6b33d61452c9c5bf17d42b1ee8d",
            "_dom_classes": [],
            "description": "Downloading: 100%",
            "_model_name": "IntProgressModel",
            "bar_style": "success",
            "max": 526681800,
            "_view_module": "@jupyter-widgets/controls",
            "_model_module_version": "1.5.0",
            "value": 526681800,
            "_view_count": null,
            "_view_module_version": "1.5.0",
            "orientation": "horizontal",
            "min": 0,
            "description_tooltip": null,
            "_model_module": "@jupyter-widgets/controls",
            "layout": "IPY_MODEL_de746e0ed63f4017971d2597b70a7795"
          }
        },
        "19c25570f3804ea09932311f1e07a0ec": {
          "model_module": "@jupyter-widgets/controls",
          "model_name": "HTMLModel",
          "state": {
            "_view_name": "HTMLView",
            "style": "IPY_MODEL_5f4090ccce464570858033fac8d5c778",
            "_dom_classes": [],
            "description": "",
            "_model_name": "HTMLModel",
            "placeholder": "​",
            "_view_module": "@jupyter-widgets/controls",
            "_model_module_version": "1.5.0",
            "value": " 527M/527M [00:16&lt;00:00, 31.9MB/s]",
            "_view_count": null,
            "_view_module_version": "1.5.0",
            "description_tooltip": null,
            "_model_module": "@jupyter-widgets/controls",
            "layout": "IPY_MODEL_d827ee56b2fc40598cb9d00d17977799"
          }
        },
        "16e7e6b33d61452c9c5bf17d42b1ee8d": {
          "model_module": "@jupyter-widgets/controls",
          "model_name": "ProgressStyleModel",
          "state": {
            "_view_name": "StyleView",
            "_model_name": "ProgressStyleModel",
            "description_width": "initial",
            "_view_module": "@jupyter-widgets/base",
            "_model_module_version": "1.5.0",
            "_view_count": null,
            "_view_module_version": "1.2.0",
            "bar_color": null,
            "_model_module": "@jupyter-widgets/controls"
          }
        },
        "de746e0ed63f4017971d2597b70a7795": {
          "model_module": "@jupyter-widgets/base",
          "model_name": "LayoutModel",
          "state": {
            "_view_name": "LayoutView",
            "grid_template_rows": null,
            "right": null,
            "justify_content": null,
            "_view_module": "@jupyter-widgets/base",
            "overflow": null,
            "_model_module_version": "1.2.0",
            "_view_count": null,
            "flex_flow": null,
            "width": null,
            "min_width": null,
            "border": null,
            "align_items": null,
            "bottom": null,
            "_model_module": "@jupyter-widgets/base",
            "top": null,
            "grid_column": null,
            "overflow_y": null,
            "overflow_x": null,
            "grid_auto_flow": null,
            "grid_area": null,
            "grid_template_columns": null,
            "flex": null,
            "_model_name": "LayoutModel",
            "justify_items": null,
            "grid_row": null,
            "max_height": null,
            "align_content": null,
            "visibility": null,
            "align_self": null,
            "height": null,
            "min_height": null,
            "padding": null,
            "grid_auto_rows": null,
            "grid_gap": null,
            "max_width": null,
            "order": null,
            "_view_module_version": "1.2.0",
            "grid_template_areas": null,
            "object_position": null,
            "object_fit": null,
            "grid_auto_columns": null,
            "margin": null,
            "display": null,
            "left": null
          }
        },
        "5f4090ccce464570858033fac8d5c778": {
          "model_module": "@jupyter-widgets/controls",
          "model_name": "DescriptionStyleModel",
          "state": {
            "_view_name": "StyleView",
            "_model_name": "DescriptionStyleModel",
            "description_width": "",
            "_view_module": "@jupyter-widgets/base",
            "_model_module_version": "1.5.0",
            "_view_count": null,
            "_view_module_version": "1.2.0",
            "_model_module": "@jupyter-widgets/controls"
          }
        },
        "d827ee56b2fc40598cb9d00d17977799": {
          "model_module": "@jupyter-widgets/base",
          "model_name": "LayoutModel",
          "state": {
            "_view_name": "LayoutView",
            "grid_template_rows": null,
            "right": null,
            "justify_content": null,
            "_view_module": "@jupyter-widgets/base",
            "overflow": null,
            "_model_module_version": "1.2.0",
            "_view_count": null,
            "flex_flow": null,
            "width": null,
            "min_width": null,
            "border": null,
            "align_items": null,
            "bottom": null,
            "_model_module": "@jupyter-widgets/base",
            "top": null,
            "grid_column": null,
            "overflow_y": null,
            "overflow_x": null,
            "grid_auto_flow": null,
            "grid_area": null,
            "grid_template_columns": null,
            "flex": null,
            "_model_name": "LayoutModel",
            "justify_items": null,
            "grid_row": null,
            "max_height": null,
            "align_content": null,
            "visibility": null,
            "align_self": null,
            "height": null,
            "min_height": null,
            "padding": null,
            "grid_auto_rows": null,
            "grid_gap": null,
            "max_width": null,
            "order": null,
            "_view_module_version": "1.2.0",
            "grid_template_areas": null,
            "object_position": null,
            "object_fit": null,
            "grid_auto_columns": null,
            "margin": null,
            "display": null,
            "left": null
          }
        },
        "9d4a812730fa42e196fa7000ecbc86a2": {
          "model_module": "@jupyter-widgets/controls",
          "model_name": "HBoxModel",
          "state": {
            "_view_name": "HBoxView",
            "_dom_classes": [],
            "_model_name": "HBoxModel",
            "_view_module": "@jupyter-widgets/controls",
            "_model_module_version": "1.5.0",
            "_view_count": null,
            "_view_module_version": "1.5.0",
            "box_style": "",
            "layout": "IPY_MODEL_8740ec25b6594ea89612aae05e23512e",
            "_model_module": "@jupyter-widgets/controls",
            "children": [
              "IPY_MODEL_49083763061b4dccbffb68dac138a3f6",
              "IPY_MODEL_45216cc217e94dc0b78f447930c07293"
            ]
          }
        },
        "8740ec25b6594ea89612aae05e23512e": {
          "model_module": "@jupyter-widgets/base",
          "model_name": "LayoutModel",
          "state": {
            "_view_name": "LayoutView",
            "grid_template_rows": null,
            "right": null,
            "justify_content": null,
            "_view_module": "@jupyter-widgets/base",
            "overflow": null,
            "_model_module_version": "1.2.0",
            "_view_count": null,
            "flex_flow": null,
            "width": null,
            "min_width": null,
            "border": null,
            "align_items": null,
            "bottom": null,
            "_model_module": "@jupyter-widgets/base",
            "top": null,
            "grid_column": null,
            "overflow_y": null,
            "overflow_x": null,
            "grid_auto_flow": null,
            "grid_area": null,
            "grid_template_columns": null,
            "flex": null,
            "_model_name": "LayoutModel",
            "justify_items": null,
            "grid_row": null,
            "max_height": null,
            "align_content": null,
            "visibility": null,
            "align_self": null,
            "height": null,
            "min_height": null,
            "padding": null,
            "grid_auto_rows": null,
            "grid_gap": null,
            "max_width": null,
            "order": null,
            "_view_module_version": "1.2.0",
            "grid_template_areas": null,
            "object_position": null,
            "object_fit": null,
            "grid_auto_columns": null,
            "margin": null,
            "display": null,
            "left": null
          }
        },
        "49083763061b4dccbffb68dac138a3f6": {
          "model_module": "@jupyter-widgets/controls",
          "model_name": "IntProgressModel",
          "state": {
            "_view_name": "ProgressView",
            "style": "IPY_MODEL_1defc0d4183040ad90c9b8fda911102f",
            "_dom_classes": [],
            "description": "Downloading: 100%",
            "_model_name": "IntProgressModel",
            "bar_style": "success",
            "max": 213450,
            "_view_module": "@jupyter-widgets/controls",
            "_model_module_version": "1.5.0",
            "value": 213450,
            "_view_count": null,
            "_view_module_version": "1.5.0",
            "orientation": "horizontal",
            "min": 0,
            "description_tooltip": null,
            "_model_module": "@jupyter-widgets/controls",
            "layout": "IPY_MODEL_629244edef784e21a783a81c6c93f4f9"
          }
        },
        "45216cc217e94dc0b78f447930c07293": {
          "model_module": "@jupyter-widgets/controls",
          "model_name": "HTMLModel",
          "state": {
            "_view_name": "HTMLView",
            "style": "IPY_MODEL_d4cbd6a5f4504dfda46beca182a67e95",
            "_dom_classes": [],
            "description": "",
            "_model_name": "HTMLModel",
            "placeholder": "​",
            "_view_module": "@jupyter-widgets/controls",
            "_model_module_version": "1.5.0",
            "value": " 213k/213k [00:00&lt;00:00, 710kB/s]",
            "_view_count": null,
            "_view_module_version": "1.5.0",
            "description_tooltip": null,
            "_model_module": "@jupyter-widgets/controls",
            "layout": "IPY_MODEL_7e053d0eed044eb88acf17b344072969"
          }
        },
        "1defc0d4183040ad90c9b8fda911102f": {
          "model_module": "@jupyter-widgets/controls",
          "model_name": "ProgressStyleModel",
          "state": {
            "_view_name": "StyleView",
            "_model_name": "ProgressStyleModel",
            "description_width": "initial",
            "_view_module": "@jupyter-widgets/base",
            "_model_module_version": "1.5.0",
            "_view_count": null,
            "_view_module_version": "1.2.0",
            "bar_color": null,
            "_model_module": "@jupyter-widgets/controls"
          }
        },
        "629244edef784e21a783a81c6c93f4f9": {
          "model_module": "@jupyter-widgets/base",
          "model_name": "LayoutModel",
          "state": {
            "_view_name": "LayoutView",
            "grid_template_rows": null,
            "right": null,
            "justify_content": null,
            "_view_module": "@jupyter-widgets/base",
            "overflow": null,
            "_model_module_version": "1.2.0",
            "_view_count": null,
            "flex_flow": null,
            "width": null,
            "min_width": null,
            "border": null,
            "align_items": null,
            "bottom": null,
            "_model_module": "@jupyter-widgets/base",
            "top": null,
            "grid_column": null,
            "overflow_y": null,
            "overflow_x": null,
            "grid_auto_flow": null,
            "grid_area": null,
            "grid_template_columns": null,
            "flex": null,
            "_model_name": "LayoutModel",
            "justify_items": null,
            "grid_row": null,
            "max_height": null,
            "align_content": null,
            "visibility": null,
            "align_self": null,
            "height": null,
            "min_height": null,
            "padding": null,
            "grid_auto_rows": null,
            "grid_gap": null,
            "max_width": null,
            "order": null,
            "_view_module_version": "1.2.0",
            "grid_template_areas": null,
            "object_position": null,
            "object_fit": null,
            "grid_auto_columns": null,
            "margin": null,
            "display": null,
            "left": null
          }
        },
        "d4cbd6a5f4504dfda46beca182a67e95": {
          "model_module": "@jupyter-widgets/controls",
          "model_name": "DescriptionStyleModel",
          "state": {
            "_view_name": "StyleView",
            "_model_name": "DescriptionStyleModel",
            "description_width": "",
            "_view_module": "@jupyter-widgets/base",
            "_model_module_version": "1.5.0",
            "_view_count": null,
            "_view_module_version": "1.2.0",
            "_model_module": "@jupyter-widgets/controls"
          }
        },
        "7e053d0eed044eb88acf17b344072969": {
          "model_module": "@jupyter-widgets/base",
          "model_name": "LayoutModel",
          "state": {
            "_view_name": "LayoutView",
            "grid_template_rows": null,
            "right": null,
            "justify_content": null,
            "_view_module": "@jupyter-widgets/base",
            "overflow": null,
            "_model_module_version": "1.2.0",
            "_view_count": null,
            "flex_flow": null,
            "width": null,
            "min_width": null,
            "border": null,
            "align_items": null,
            "bottom": null,
            "_model_module": "@jupyter-widgets/base",
            "top": null,
            "grid_column": null,
            "overflow_y": null,
            "overflow_x": null,
            "grid_auto_flow": null,
            "grid_area": null,
            "grid_template_columns": null,
            "flex": null,
            "_model_name": "LayoutModel",
            "justify_items": null,
            "grid_row": null,
            "max_height": null,
            "align_content": null,
            "visibility": null,
            "align_self": null,
            "height": null,
            "min_height": null,
            "padding": null,
            "grid_auto_rows": null,
            "grid_gap": null,
            "max_width": null,
            "order": null,
            "_view_module_version": "1.2.0",
            "grid_template_areas": null,
            "object_position": null,
            "object_fit": null,
            "grid_auto_columns": null,
            "margin": null,
            "display": null,
            "left": null
          }
        }
      }
    }
  },
  "cells": [
    {
      "cell_type": "markdown",
      "metadata": {
        "id": "view-in-github",
        "colab_type": "text"
      },
      "source": [
        "<a href=\"https://colab.research.google.com/github/raamav/Sentiment-Analysis-UserReviews/blob/master/IMDB_Reviews_DeepLearning_(v2).ipynb\" target=\"_parent\"><img src=\"https://colab.research.google.com/assets/colab-badge.svg\" alt=\"Open In Colab\"/></a>"
      ]
    },
    {
      "cell_type": "markdown",
      "metadata": {
        "id": "t8EjVJsSeQeq",
        "colab_type": "text"
      },
      "source": [
        "# IMDB Reviews\n",
        "\n",
        "**IMDB Reviews** is one of the best known datasets for sentiment analysis. It comprises a set of 50,000 highly polarized reviews of movies which are tagged with *positive* and *negative* sentiment labels.\n",
        "\n",
        "The 50,000 reviews are categorized into training and test sets (25,000 reviews each). These reviews are full-length and some of them are several paragraphs long.\n",
        "\n",
        "I've worked on this dataset previously and have got a validation accuracy of 80%.\n",
        "\n",
        "**In this attempt, the objective is to get an accuracy of 85% or better.**"
      ]
    },
    {
      "cell_type": "code",
      "metadata": {
        "id": "eQGSWdIrqLsI",
        "colab_type": "code",
        "outputId": "0da262fa-c110-4ad7-cee7-7aafcffe4726",
        "colab": {
          "base_uri": "https://localhost:8080/",
          "height": 34
        }
      },
      "source": [
        "# STANDARD IMPORTS\n",
        "\n",
        "import tensorflow as tf\n",
        "from tensorflow import keras\n",
        "import numpy as np\n",
        "\n",
        "\n",
        "tf.__version__\n"
      ],
      "execution_count": 2,
      "outputs": [
        {
          "output_type": "execute_result",
          "data": {
            "text/plain": [
              "'2.2.0-rc3'"
            ]
          },
          "metadata": {
            "tags": []
          },
          "execution_count": 2
        }
      ]
    },
    {
      "cell_type": "code",
      "metadata": {
        "id": "47Ho7L0AsOaK",
        "colab_type": "code",
        "outputId": "23793c79-05f5-4737-b582-b10a3e962033",
        "colab": {
          "base_uri": "https://localhost:8080/",
          "height": 350,
          "referenced_widgets": [
            "a17d7259cebe45b3b567f47dfc596ce7",
            "a6f6675293be4e21aee3b2065ded52be",
            "8d07a06f91ea4adcab810429e531ef5a",
            "be2f5651afd24df0ab34e2b8ef7b2b52",
            "14b5ead4d68240b0b376a1d55ca647f0",
            "b2f1d300dd6644a39692b68a0053091c",
            "762c5b9a33ff49bb858a58492cffe99d",
            "3e6fe66f6fc449dd827aac355ba53377",
            "603eb9cd1f934ef4915f42e48de055d7",
            "07ca141440f444a19fa9e0d9b9143ebb",
            "038c6822ac864ab08e5cb91ab8598ce0",
            "7a0ce146c56244b3a89a9aa4d0515f51",
            "976cf47b245b454baa198664efd56642",
            "60a3e4607f2d4eaa86b79a73b74a0ed8",
            "6707b1d1558445229279ddfb7677c91e",
            "ebf6a7019ff54e83a5b43fea85e2ce54",
            "c739af9e9c6e48d19751c33a98501dac",
            "a1ed7f3039f34cd19ee43a8d33f674ce",
            "2b328c620b98435498f2a6bf83cb0cb8",
            "2b598702963547a193f0737a542d0807",
            "945606210fd545e78c435858594429c9",
            "0f5e8a28bbdc43288ccc6a03aac36bf3",
            "dc38f64e33c346dc96f1524f45b4f8b5",
            "8d912b9953bf4b19bebb9c5b0fecffbd",
            "e0fb8aa9b9d64a62a240d477097290fa",
            "560df9f43a9c4c5483c2c2468c42ac2c",
            "1d8ba7ff763942018516b40ed648d5f1",
            "e86be0f0dfbb4816a49e44b05d425821",
            "1be39685c95143ccb0b30536ab105f99",
            "4d68463f5a254b54a897bcd690a5000c",
            "e1df2964a3394f239fad4779d57d37cc",
            "b6c90d79e40e4cb7b4417e1169e703de",
            "addeb91ba7bd4770a9009e397b08a91f",
            "eda482ba034a40ae90380743200efae1",
            "07e8afd7ceca448688a380cfb903b1d9",
            "448576dc21c94f0199372f936d580a83",
            "99c2ead75df54906892d4ee38cb24055",
            "a3f82020c7084c18bd9d8ed9f4f60076",
            "a4af91d8a2ef48f58d83eab548105e2c",
            "98438a3cafab4a30856072ec10f0043e",
            "8a2626f4da9d49058b4578e2e8f20ac9",
            "24300b5e782b4376981ba61fe0b9476b",
            "eb008c2ec0474694bcf663908f82aab1",
            "7c0fdc5d52444b0aa16c6d46e6d534cd",
            "978bad53809e4647b50808404dbb3a7e",
            "1fde7bfc23324281ac84d2d73eafa8a6",
            "069b81c1450d4b578bf0421f9bb1f6aa",
            "80aba2c4b6824abc95cbeaceb5a1cb73",
            "dfbf8946551549e492a9e24cf4f952b4",
            "a4021da56b38436990502bd899e45076",
            "27104145b9a443ca88894cb10cc047a0",
            "060f08977bbd48a08dc612c111e5b68d",
            "fd27d7893aeb48b9ac9e844ae7200588",
            "f60bf872c48b44ca945ea437b91cfba7",
            "04052ae7a6c148539d1531f19e89d522",
            "a2cd1236e6954d97901d5df24d768eeb",
            "22a096be7c714461870ff68242cef6c4",
            "5a9390ffaa084e21834ecf3bfb0dc1a4",
            "f86fde194568432e87c4b342b10059e0",
            "d03ab7181ff845c78c219c4ae14d79a1",
            "21ed8f6335b0426997415beed08fe6da",
            "e4dc5b6075e64427ae32e9c45808595f",
            "ea6f860d4182430e82380f7fc4764a51",
            "90fa2db789b246b3978fb5e193fe1604"
          ]
        }
      },
      "source": [
        "import tensorflow_datasets as tfds\n",
        "\n",
        "imdb,info = tfds.load(\"imdb_reviews\", with_info = True, as_supervised = True)"
      ],
      "execution_count": 3,
      "outputs": [
        {
          "output_type": "stream",
          "text": [
            "\u001b[1mDownloading and preparing dataset imdb_reviews/plain_text/1.0.0 (download: 80.23 MiB, generated: Unknown size, total: 80.23 MiB) to /root/tensorflow_datasets/imdb_reviews/plain_text/1.0.0...\u001b[0m\n"
          ],
          "name": "stdout"
        },
        {
          "output_type": "display_data",
          "data": {
            "application/vnd.jupyter.widget-view+json": {
              "model_id": "a17d7259cebe45b3b567f47dfc596ce7",
              "version_minor": 0,
              "version_major": 2
            },
            "text/plain": [
              "HBox(children=(IntProgress(value=1, bar_style='info', description='Dl Completed...', max=1, style=ProgressStyl…"
            ]
          },
          "metadata": {
            "tags": []
          }
        },
        {
          "output_type": "display_data",
          "data": {
            "application/vnd.jupyter.widget-view+json": {
              "model_id": "603eb9cd1f934ef4915f42e48de055d7",
              "version_minor": 0,
              "version_major": 2
            },
            "text/plain": [
              "HBox(children=(IntProgress(value=1, bar_style='info', description='Dl Size...', max=1, style=ProgressStyle(des…"
            ]
          },
          "metadata": {
            "tags": []
          }
        },
        {
          "output_type": "stream",
          "text": [
            "\n",
            "\n",
            "\n",
            "\n"
          ],
          "name": "stdout"
        },
        {
          "output_type": "display_data",
          "data": {
            "application/vnd.jupyter.widget-view+json": {
              "model_id": "c739af9e9c6e48d19751c33a98501dac",
              "version_minor": 0,
              "version_major": 2
            },
            "text/plain": [
              "HBox(children=(IntProgress(value=1, bar_style='info', max=1), HTML(value='')))"
            ]
          },
          "metadata": {
            "tags": []
          }
        },
        {
          "output_type": "stream",
          "text": [
            "\rShuffling and writing examples to /root/tensorflow_datasets/imdb_reviews/plain_text/1.0.0.incompleteEJI5A9/imdb_reviews-train.tfrecord\n"
          ],
          "name": "stdout"
        },
        {
          "output_type": "display_data",
          "data": {
            "application/vnd.jupyter.widget-view+json": {
              "model_id": "e0fb8aa9b9d64a62a240d477097290fa",
              "version_minor": 0,
              "version_major": 2
            },
            "text/plain": [
              "HBox(children=(IntProgress(value=0, max=25000), HTML(value='')))"
            ]
          },
          "metadata": {
            "tags": []
          }
        },
        {
          "output_type": "stream",
          "text": [
            "\r"
          ],
          "name": "stdout"
        },
        {
          "output_type": "display_data",
          "data": {
            "application/vnd.jupyter.widget-view+json": {
              "model_id": "addeb91ba7bd4770a9009e397b08a91f",
              "version_minor": 0,
              "version_major": 2
            },
            "text/plain": [
              "HBox(children=(IntProgress(value=1, bar_style='info', max=1), HTML(value='')))"
            ]
          },
          "metadata": {
            "tags": []
          }
        },
        {
          "output_type": "stream",
          "text": [
            "\rShuffling and writing examples to /root/tensorflow_datasets/imdb_reviews/plain_text/1.0.0.incompleteEJI5A9/imdb_reviews-test.tfrecord\n"
          ],
          "name": "stdout"
        },
        {
          "output_type": "display_data",
          "data": {
            "application/vnd.jupyter.widget-view+json": {
              "model_id": "8a2626f4da9d49058b4578e2e8f20ac9",
              "version_minor": 0,
              "version_major": 2
            },
            "text/plain": [
              "HBox(children=(IntProgress(value=0, max=25000), HTML(value='')))"
            ]
          },
          "metadata": {
            "tags": []
          }
        },
        {
          "output_type": "stream",
          "text": [
            "\r"
          ],
          "name": "stdout"
        },
        {
          "output_type": "display_data",
          "data": {
            "application/vnd.jupyter.widget-view+json": {
              "model_id": "dfbf8946551549e492a9e24cf4f952b4",
              "version_minor": 0,
              "version_major": 2
            },
            "text/plain": [
              "HBox(children=(IntProgress(value=1, bar_style='info', max=1), HTML(value='')))"
            ]
          },
          "metadata": {
            "tags": []
          }
        },
        {
          "output_type": "stream",
          "text": [
            "\rShuffling and writing examples to /root/tensorflow_datasets/imdb_reviews/plain_text/1.0.0.incompleteEJI5A9/imdb_reviews-unsupervised.tfrecord\n"
          ],
          "name": "stdout"
        },
        {
          "output_type": "display_data",
          "data": {
            "application/vnd.jupyter.widget-view+json": {
              "model_id": "22a096be7c714461870ff68242cef6c4",
              "version_minor": 0,
              "version_major": 2
            },
            "text/plain": [
              "HBox(children=(IntProgress(value=0, max=50000), HTML(value='')))"
            ]
          },
          "metadata": {
            "tags": []
          }
        },
        {
          "output_type": "stream",
          "text": [
            "\u001b[1mDataset imdb_reviews downloaded and prepared to /root/tensorflow_datasets/imdb_reviews/plain_text/1.0.0. Subsequent calls will reuse this data.\u001b[0m\n"
          ],
          "name": "stdout"
        }
      ]
    },
    {
      "cell_type": "code",
      "metadata": {
        "id": "Pi59oZWttDT5",
        "colab_type": "code",
        "colab": {}
      },
      "source": [
        "train_data = imdb['train']\n",
        "test_data = imdb['test']\n"
      ],
      "execution_count": 0,
      "outputs": []
    },
    {
      "cell_type": "code",
      "metadata": {
        "id": "DcavicnbtYrL",
        "colab_type": "code",
        "outputId": "11efafe1-cfeb-4e02-fe6f-728eb368e5e2",
        "colab": {
          "base_uri": "https://localhost:8080/",
          "height": 34
        }
      },
      "source": [
        "print(type(train_data))"
      ],
      "execution_count": 5,
      "outputs": [
        {
          "output_type": "stream",
          "text": [
            "<class 'tensorflow.python.data.ops.dataset_ops.DatasetV1Adapter'>\n"
          ],
          "name": "stdout"
        }
      ]
    },
    {
      "cell_type": "code",
      "metadata": {
        "id": "jqW10Qurtaz3",
        "colab_type": "code",
        "colab": {}
      },
      "source": [
        "# GETTING FEATURES AND LABELS FOR TRAINING AND TEST DATASETS\n",
        "\n",
        "X_train_l = [] # sentences\n",
        "y_train_l = [] # sentiment \n",
        "\n",
        "X_test_l = []\n",
        "y_test_l = []\n",
        "\n",
        "for s,l in train_data:\n",
        "  X_train_l.append(str(s.numpy()))\n",
        "  y_train_l.append(l.numpy())\n",
        "\n",
        "\n",
        "for s,l in test_data:\n",
        "  X_test_l.append(str(s.numpy()))\n",
        "  y_test_l.append(l.numpy())\n",
        "\n"
      ],
      "execution_count": 0,
      "outputs": []
    },
    {
      "cell_type": "code",
      "metadata": {
        "id": "aYKfi_cqwiis",
        "colab_type": "code",
        "outputId": "8196cbaa-c13d-4e3d-d84b-48c4157d2088",
        "colab": {
          "base_uri": "https://localhost:8080/",
          "height": 51
        }
      },
      "source": [
        "# DATATYPES AND SIZES OF THE DATASETS\n",
        "\n",
        "\n",
        "print('/n Training Data and Label, Type {} : {}' .format(type(X_train_l) , type(y_train_l)))\n",
        "print('/n Training Data and Label, Sizes {} : {}' .format(len(X_train_l) , len(y_train_l)))"
      ],
      "execution_count": 7,
      "outputs": [
        {
          "output_type": "stream",
          "text": [
            "/n Training Data and Label, Type <class 'list'> : <class 'list'>\n",
            "/n Training Data and Label, Sizes 25000 : 25000\n"
          ],
          "name": "stdout"
        }
      ]
    },
    {
      "cell_type": "code",
      "metadata": {
        "id": "5zZKTSEuxJEE",
        "colab_type": "code",
        "colab": {}
      },
      "source": [
        "# CONVERTING EVERYTHING TO NUMPY ARRAYS\n",
        "# MAJOR RELIEF POINT AS ITS TRICKY WORKING WITH TENSORS\n",
        "\n",
        "import numpy as np\n",
        "\n",
        "X_train = np.array(X_train_l)\n",
        "y_train = np.array(y_train_l)\n",
        "\n",
        "X_test = np.array(X_test_l)\n",
        "y_test = np.array(y_test_l)"
      ],
      "execution_count": 0,
      "outputs": []
    },
    {
      "cell_type": "code",
      "metadata": {
        "id": "KBJjPRUeynjC",
        "colab_type": "code",
        "outputId": "b3911c85-3575-471b-92aa-172485c216b2",
        "colab": {
          "base_uri": "https://localhost:8080/",
          "height": 51
        }
      },
      "source": [
        "print('/n Training Data and Label, Type {} : {}' .format(type(X_train) , type(y_train)))\n",
        "print('/n Training Data and Label, Sizes {} : {}' .format((X_train.shape) , (y_train.shape)))"
      ],
      "execution_count": 9,
      "outputs": [
        {
          "output_type": "stream",
          "text": [
            "/n Training Data and Label, Type <class 'numpy.ndarray'> : <class 'numpy.ndarray'>\n",
            "/n Training Data and Label, Sizes (25000,) : (25000,)\n"
          ],
          "name": "stdout"
        }
      ]
    },
    {
      "cell_type": "markdown",
      "metadata": {
        "id": "o4hUjsEqzdwE",
        "colab_type": "text"
      },
      "source": [
        "### Exploratory Analysis on the Text Reviews\n",
        "\n"
      ]
    },
    {
      "cell_type": "code",
      "metadata": {
        "id": "3tW5lU43GLSN",
        "colab_type": "code",
        "colab": {}
      },
      "source": [
        "# HOW LONG ARE THE REVIEWS, TYPCALLY (WORDCOUNT)\n",
        "\n",
        "import pandas as pd\n",
        "\n",
        "X_train_copy = X_train.copy() # copy of the training set for exploratory work\n",
        "\n",
        "X_train_pd = pd.DataFrame(data = X_train_copy, columns = [\"review_text\"])\n",
        "\n",
        "# LANBDA FUNCTION TO CALCULATE APPROXIMATE WORD COUNT\n",
        "\n",
        "X_train_pd['word_count'] = X_train_pd.apply(lambda x: (x['review_text'].count (' ') + 1),axis=1)"
      ],
      "execution_count": 0,
      "outputs": []
    },
    {
      "cell_type": "code",
      "metadata": {
        "id": "PV_xqa6EWowp",
        "colab_type": "code",
        "outputId": "4293baf2-a710-4963-f8c3-3a4fb376871f",
        "colab": {
          "base_uri": "https://localhost:8080/",
          "height": 204
        }
      },
      "source": [
        "X_train_pd.head()"
      ],
      "execution_count": 11,
      "outputs": [
        {
          "output_type": "execute_result",
          "data": {
            "text/html": [
              "<div>\n",
              "<style scoped>\n",
              "    .dataframe tbody tr th:only-of-type {\n",
              "        vertical-align: middle;\n",
              "    }\n",
              "\n",
              "    .dataframe tbody tr th {\n",
              "        vertical-align: top;\n",
              "    }\n",
              "\n",
              "    .dataframe thead th {\n",
              "        text-align: right;\n",
              "    }\n",
              "</style>\n",
              "<table border=\"1\" class=\"dataframe\">\n",
              "  <thead>\n",
              "    <tr style=\"text-align: right;\">\n",
              "      <th></th>\n",
              "      <th>review_text</th>\n",
              "      <th>word_count</th>\n",
              "    </tr>\n",
              "  </thead>\n",
              "  <tbody>\n",
              "    <tr>\n",
              "      <th>0</th>\n",
              "      <td>b\"This was an absolutely terrible movie. Don't...</td>\n",
              "      <td>116</td>\n",
              "    </tr>\n",
              "    <tr>\n",
              "      <th>1</th>\n",
              "      <td>b'I have been known to fall asleep during film...</td>\n",
              "      <td>112</td>\n",
              "    </tr>\n",
              "    <tr>\n",
              "      <th>2</th>\n",
              "      <td>b'Mann photographs the Alberta Rocky Mountains...</td>\n",
              "      <td>132</td>\n",
              "    </tr>\n",
              "    <tr>\n",
              "      <th>3</th>\n",
              "      <td>b'This is the kind of film for a snowy Sunday ...</td>\n",
              "      <td>88</td>\n",
              "    </tr>\n",
              "    <tr>\n",
              "      <th>4</th>\n",
              "      <td>b'As others have mentioned, all the women that...</td>\n",
              "      <td>81</td>\n",
              "    </tr>\n",
              "  </tbody>\n",
              "</table>\n",
              "</div>"
            ],
            "text/plain": [
              "                                         review_text  word_count\n",
              "0  b\"This was an absolutely terrible movie. Don't...         116\n",
              "1  b'I have been known to fall asleep during film...         112\n",
              "2  b'Mann photographs the Alberta Rocky Mountains...         132\n",
              "3  b'This is the kind of film for a snowy Sunday ...          88\n",
              "4  b'As others have mentioned, all the women that...          81"
            ]
          },
          "metadata": {
            "tags": []
          },
          "execution_count": 11
        }
      ]
    },
    {
      "cell_type": "code",
      "metadata": {
        "id": "-sUlfilXWzb1",
        "colab_type": "code",
        "outputId": "c2d483b1-a331-4e44-f67f-e4efceabdd3f",
        "colab": {
          "base_uri": "https://localhost:8080/",
          "height": 320
        }
      },
      "source": [
        "import matplotlib.pyplot as plt\n",
        "\n",
        "plt.figure(figsize = (8,5))\n",
        "plt.hist(X_train_pd['word_count'], bins = 20)\n",
        "plt.show()"
      ],
      "execution_count": 12,
      "outputs": [
        {
          "output_type": "display_data",
          "data": {
            "image/png": "[encoded data removed]",
            "text/plain": [
              "<Figure size 576x360 with 1 Axes>"
            ]
          },
          "metadata": {
            "tags": [],
            "needs_background": "light"
          }
        }
      ]
    },
    {
      "cell_type": "code",
      "metadata": {
        "id": "AgQQwxSrXBA0",
        "colab_type": "code",
        "outputId": "6a28c46b-16b5-44c6-ba6a-f6d7e61ec799",
        "colab": {
          "base_uri": "https://localhost:8080/",
          "height": 170
        }
      },
      "source": [
        "# DISTRIBUTION OF word_count VARIABLE TO UNDERSTAND THE OPTIMAL LENGTH OF REVIEW\n",
        "X_train_pd['word_count'].describe()"
      ],
      "execution_count": 13,
      "outputs": [
        {
          "output_type": "execute_result",
          "data": {
            "text/plain": [
              "count    25000.000000\n",
              "mean       233.776720\n",
              "std        173.715418\n",
              "min         10.000000\n",
              "25%        127.000000\n",
              "50%        174.000000\n",
              "75%        284.000000\n",
              "max       2470.000000\n",
              "Name: word_count, dtype: float64"
            ]
          },
          "metadata": {
            "tags": []
          },
          "execution_count": 13
        }
      ]
    },
    {
      "cell_type": "markdown",
      "metadata": {
        "id": "YbnEejKyYJta",
        "colab_type": "text"
      },
      "source": [
        "N_words = 175 seems like a good optimal choice for the review length\n",
        "\n",
        "\n",
        "### Basic Text Preproessing\n",
        "\n",
        "Entails \n",
        "1. Converting text to lower case, \n",
        "2. Removing punctuations/numeric fields, \n",
        "3. Addressing contrctions *(e.g. won't -> will not)* "
      ]
    },
    {
      "cell_type": "code",
      "metadata": {
        "id": "q5Hx4a3vh9-O",
        "colab_type": "code",
        "outputId": "9d59d922-c567-41d3-d2aa-2f55dc8020ce",
        "colab": {
          "base_uri": "https://localhost:8080/",
          "height": 326
        }
      },
      "source": [
        "! pip install contractions\n",
        "import contractions"
      ],
      "execution_count": 14,
      "outputs": [
        {
          "output_type": "stream",
          "text": [
            "Collecting contractions\n",
            "  Downloading https://files.pythonhosted.org/packages/85/41/c3dfd5feb91a8d587ed1a59f553f07c05f95ad4e5d00ab78702fbf8fe48a/contractions-0.0.24-py2.py3-none-any.whl\n",
            "Collecting textsearch\n",
            "  Downloading https://files.pythonhosted.org/packages/42/a8/03407021f9555043de5492a2bd7a35c56cc03c2510092b5ec018cae1bbf1/textsearch-0.0.17-py2.py3-none-any.whl\n",
            "Collecting pyahocorasick\n",
            "\u001b[?25l  Downloading https://files.pythonhosted.org/packages/f4/9f/f0d8e8850e12829eea2e778f1c90e3c53a9a799b7f412082a5d21cd19ae1/pyahocorasick-1.4.0.tar.gz (312kB)\n",
            "\u001b[K     |████████████████████████████████| 317kB 11.7MB/s \n",
            "\u001b[?25hCollecting Unidecode\n",
            "\u001b[?25l  Downloading https://files.pythonhosted.org/packages/d0/42/d9edfed04228bacea2d824904cae367ee9efd05e6cce7ceaaedd0b0ad964/Unidecode-1.1.1-py2.py3-none-any.whl (238kB)\n",
            "\u001b[K     |████████████████████████████████| 245kB 26.4MB/s \n",
            "\u001b[?25hBuilding wheels for collected packages: pyahocorasick\n",
            "  Building wheel for pyahocorasick (setup.py) ... \u001b[?25l\u001b[?25hdone\n",
            "  Created wheel for pyahocorasick: filename=pyahocorasick-1.4.0-cp36-cp36m-linux_x86_64.whl size=81691 sha256=aaa3221dd2a4e1e3756ec8cfc53fd902e12e09d06760c40c4a9b88032aef1ca9\n",
            "  Stored in directory: /root/.cache/pip/wheels/0a/90/61/87a55f5b459792fbb2b7ba6b31721b06ff5cf6bde541b40994\n",
            "Successfully built pyahocorasick\n",
            "Installing collected packages: pyahocorasick, Unidecode, textsearch, contractions\n",
            "Successfully installed Unidecode-1.1.1 contractions-0.0.24 pyahocorasick-1.4.0 textsearch-0.0.17\n"
          ],
          "name": "stdout"
        }
      ]
    },
    {
      "cell_type": "code",
      "metadata": {
        "id": "TgIT_Gz9YeGt",
        "colab_type": "code",
        "colab": {}
      },
      "source": [
        "# FUNCTION TO IMPLEMENT BASIC TEXT PREPROCESSING : LOWER-CASING & REMOVING NUMBERS/PUNCTUATION\n",
        "\n",
        "\n",
        "\n",
        "def basic_preprocessor(text):\n",
        "  \n",
        "  import re\n",
        "  import string\n",
        "  import contractions\n",
        "  \n",
        "\n",
        "  # EXPANDING OUT CONTRACTIONS\n",
        "  # e.g : don't -> do not\n",
        "  text = contractions.fix(text)\n",
        "\n",
        "  # TEXT TO LOWERCASE\n",
        "  text = text.lower()\n",
        "\n",
        "    \n",
        "  # The syntax of re.sub() is:: re.sub(pattern, replace, source_string)\n",
        "    \n",
        "  # CODE TO HANDLE POSSESSIVES ('s) \n",
        "  # e.g: movie's -> movie s\n",
        "  # THE HOPE IS THAT LSTMs SHOULD BE ABLE TO PROCESS \"s\" \n",
        "  text = re.sub(r\"(\\w+)'s\", r'\\1 s', text)\n",
        "  \n",
        "  # HANDLING OTHER PUNCTUATION\n",
        "  text = re.sub('\\[.*?\\]', '', text)\n",
        "  text = re.sub('https?://\\S+|www\\.\\S+', '', text)\n",
        "  text = re.sub('<.*?>+', '', text)\n",
        "  text = re.sub('[%s]' % re.escape(string.punctuation), '', text)\n",
        "  text = re.sub('\\n', '', text)\n",
        "  text = re.sub('\\w*\\d\\w*', '', text)\n",
        "    \n",
        "  return text"
      ],
      "execution_count": 0,
      "outputs": []
    },
    {
      "cell_type": "code",
      "metadata": {
        "id": "MRHFGQHQYeP9",
        "colab_type": "code",
        "colab": {}
      },
      "source": [
        "# TESTING FUNCTION\n",
        "\n",
        "X_train_pd['review_text_mod'] = X_train_pd.apply(lambda x: basic_preprocessor(x['review_text']),axis=1)"
      ],
      "execution_count": 0,
      "outputs": []
    },
    {
      "cell_type": "code",
      "metadata": {
        "id": "swXqY8TwYeUm",
        "colab_type": "code",
        "outputId": "08899d76-7371-4dd2-8be3-c64a1a37957d",
        "colab": {
          "base_uri": "https://localhost:8080/",
          "height": 105
        }
      },
      "source": [
        "print(X_train_pd['review_text'][0])\n",
        "\n",
        "print(\"\\n\")\n",
        "\n",
        "print(X_train_pd['review_text_mod'][0])\n"
      ],
      "execution_count": 17,
      "outputs": [
        {
          "output_type": "stream",
          "text": [
            "b\"This was an absolutely terrible movie. Don't be lured in by Christopher Walken or Michael Ironside. Both are great actors, but this must simply be their worst role in history. Even their great acting could not redeem this movie's ridiculous storyline. This movie is an early nineties US propaganda piece. The most pathetic scenes were those when the Columbian rebels were making their cases for revolutions. Maria Conchita Alonso appeared phony, and her pseudo-love affair with Walken was nothing but a pathetic emotional plug in a movie that was devoid of any real meaning. I am disappointed that there are movies like this, ruining actor's like Christopher Walken's good name. I could barely sit through it.\"\n",
            "\n",
            "\n",
            "bthis was an absolutely terrible movie do not be lured in by christopher walken or michael ironside both are great actors but this must simply be their worst role in history even their great acting could not redeem this movie s ridiculous storyline this movie is an early nineties us propaganda piece the most pathetic scenes were those when the columbian rebels were making their cases for revolutions maria conchita alonso appeared phony and her pseudolove affair with walken was nothing but a pathetic emotional plug in a movie that was devoid of any real meaning i am disappointed that there are movies like this ruining actor s like christopher walken s good name i could barely sit through it\n"
          ],
          "name": "stdout"
        }
      ]
    },
    {
      "cell_type": "markdown",
      "metadata": {
        "id": "pMRrrbotYeYp",
        "colab_type": "text"
      },
      "source": [
        "(Additionally, will remove stop-words if needed)"
      ]
    },
    {
      "cell_type": "code",
      "metadata": {
        "id": "l8aUuWOjYec1",
        "colab_type": "code",
        "outputId": "6be6c134-70e5-472d-c47d-707783af110b",
        "colab": {
          "base_uri": "https://localhost:8080/",
          "height": 105
        }
      },
      "source": [
        "# TEST SET\n",
        "X_test_pd = pd.DataFrame(data = X_test, columns = [\"review_text\"])\n",
        "X_test_pd['review_text_mod'] = X_test_pd.apply(lambda x: basic_preprocessor(x['review_text']),axis=1)\n",
        "\n",
        "\n",
        "# CHECKING IF TE TRANSFORMATIONS WORKED OUT AS DESIGNED\n",
        "print(X_test_pd['review_text'][0])\n",
        "print(\"\\n\")\n",
        "print(X_test_pd['review_text_mod'][0])"
      ],
      "execution_count": 18,
      "outputs": [
        {
          "output_type": "stream",
          "text": [
            "b\"There are films that make careers. For George Romero, it was NIGHT OF THE LIVING DEAD; for Kevin Smith, CLERKS; for Robert Rodriguez, EL MARIACHI. Add to that list Onur Tukel's absolutely amazing DING-A-LING-LESS. Flawless film-making, and as assured and as professional as any of the aforementioned movies. I haven't laughed this hard since I saw THE FULL MONTY. (And, even then, I don't think I laughed quite this hard... So to speak.) Tukel's talent is considerable: DING-A-LING-LESS is so chock full of double entendres that one would have to sit down with a copy of this script and do a line-by-line examination of it to fully appreciate the, uh, breadth and width of it. Every shot is beautifully composed (a clear sign of a sure-handed director), and the performances all around are solid (there's none of the over-the-top scenery chewing one might've expected from a film like this). DING-A-LING-LESS is a film whose time has come.\"\n",
            "\n",
            "\n",
            "bthere are films that make careers for george romero it was night of the living dead for kevin smith clerks for robert rodriguez el mariachi add to that list onur tukel s absolutely amazing dingalingless flawless filmmaking and as assured and as professional as any of the aforementioned movies i have not laughed this hard since i saw the full monty and even then i do not think i laughed quite this hard so to speak tukel s talent is considerable dingalingless is so chock full of double entendres that one would have to sit down with a copy of this script and do a linebyline examination of it to fully appreciate the uh breadth and width of it every shot is beautifully composed a clear sign of a surehanded director and the performances all around are solid there is none of the overthetop scenery chewing one might have expected from a film like this dingalingless is a film whose time has come\n"
          ],
          "name": "stdout"
        }
      ]
    },
    {
      "cell_type": "code",
      "metadata": {
        "id": "I-F_paEcwikP",
        "colab_type": "code",
        "colab": {}
      },
      "source": [
        "# CREATING THE TEST AND TRAINING SETSSET\n",
        "X_train_pd = X_train_pd[['review_text_mod']].copy()\n",
        "X_test_pd = X_test_pd[['review_text_mod']].copy()"
      ],
      "execution_count": 0,
      "outputs": []
    },
    {
      "cell_type": "code",
      "metadata": {
        "id": "4jF1qzsDYeg8",
        "colab_type": "code",
        "outputId": "643e645a-160d-478b-f1c0-676802baf015",
        "colab": {
          "base_uri": "https://localhost:8080/",
          "height": 204
        }
      },
      "source": [
        "# EXAMINING BOTH THE TRAINING AND TEST SETS\n",
        "X_train_pd.head()\n"
      ],
      "execution_count": 20,
      "outputs": [
        {
          "output_type": "execute_result",
          "data": {
            "text/html": [
              "<div>\n",
              "<style scoped>\n",
              "    .dataframe tbody tr th:only-of-type {\n",
              "        vertical-align: middle;\n",
              "    }\n",
              "\n",
              "    .dataframe tbody tr th {\n",
              "        vertical-align: top;\n",
              "    }\n",
              "\n",
              "    .dataframe thead th {\n",
              "        text-align: right;\n",
              "    }\n",
              "</style>\n",
              "<table border=\"1\" class=\"dataframe\">\n",
              "  <thead>\n",
              "    <tr style=\"text-align: right;\">\n",
              "      <th></th>\n",
              "      <th>review_text_mod</th>\n",
              "    </tr>\n",
              "  </thead>\n",
              "  <tbody>\n",
              "    <tr>\n",
              "      <th>0</th>\n",
              "      <td>bthis was an absolutely terrible movie do not ...</td>\n",
              "    </tr>\n",
              "    <tr>\n",
              "      <th>1</th>\n",
              "      <td>bi have been known to fall asleep during films...</td>\n",
              "    </tr>\n",
              "    <tr>\n",
              "      <th>2</th>\n",
              "      <td>bmann photographs the alberta rocky mountains ...</td>\n",
              "    </tr>\n",
              "    <tr>\n",
              "      <th>3</th>\n",
              "      <td>bthis is the kind of film for a snowy sunday a...</td>\n",
              "    </tr>\n",
              "    <tr>\n",
              "      <th>4</th>\n",
              "      <td>bas others have mentioned all the women that g...</td>\n",
              "    </tr>\n",
              "  </tbody>\n",
              "</table>\n",
              "</div>"
            ],
            "text/plain": [
              "                                     review_text_mod\n",
              "0  bthis was an absolutely terrible movie do not ...\n",
              "1  bi have been known to fall asleep during films...\n",
              "2  bmann photographs the alberta rocky mountains ...\n",
              "3  bthis is the kind of film for a snowy sunday a...\n",
              "4  bas others have mentioned all the women that g..."
            ]
          },
          "metadata": {
            "tags": []
          },
          "execution_count": 20
        }
      ]
    },
    {
      "cell_type": "markdown",
      "metadata": {
        "id": "S0BflkF7OmJE",
        "colab_type": "text"
      },
      "source": [
        "We now have the pre-processed analytical data-set\n",
        "\n",
        "<BR>\n",
        "\n",
        "## Building Consolidated Vocabulary for the Document\n",
        "\n",
        "Storing the vocabulary in the `master_vocab` dictionary"
      ]
    },
    {
      "cell_type": "code",
      "metadata": {
        "id": "NXSYwU96wggq",
        "colab_type": "code",
        "colab": {}
      },
      "source": [
        "# CALCULATING WORD FREQUENCY IN THE CORPUS\n",
        "# AUTHOR: CRISTOF HENKEL, https://www.kaggle.com/christofhenkel/how-to-preprocessing-when-using-embeddings\n",
        "\n",
        "import pandas as pd\n",
        "from tqdm import tqdm\n",
        "tqdm.pandas()\n",
        "\n",
        "def build_vocab(sentences, verbose =  True):\n",
        "    \"\"\"\n",
        "    :param sentences: list of list of words\n",
        "    :return: dictionary of words and their count\n",
        "    \"\"\"\n",
        "    vocab = {}\n",
        "    for sentence in tqdm(sentences, disable = (not verbose)):\n",
        "        for word in sentence:\n",
        "            try:\n",
        "                vocab[word] += 1\n",
        "            except KeyError:\n",
        "                vocab[word] = 1\n",
        "    return vocab"
      ],
      "execution_count": 0,
      "outputs": []
    },
    {
      "cell_type": "code",
      "metadata": {
        "id": "PAsM7HHVM6Nj",
        "colab_type": "code",
        "outputId": "e31cf733-1988-4643-cf0c-bf4931fec45b",
        "colab": {
          "base_uri": "https://localhost:8080/",
          "height": 51
        }
      },
      "source": [
        "# IMPLEMENTING WORD FREQUENCY FUNCTION, STORING RESULTS IN master_vocab VARIABLE\n",
        "\n",
        "sentences = X_train_pd[\"review_text_mod\"].progress_apply(lambda x: x.split()).values\n",
        "master_vocab = build_vocab(sentences)"
      ],
      "execution_count": 22,
      "outputs": [
        {
          "output_type": "stream",
          "text": [
            "100%|██████████| 25000/25000 [00:00<00:00, 41984.84it/s]\n",
            "100%|██████████| 25000/25000 [00:01<00:00, 23389.22it/s]\n"
          ],
          "name": "stderr"
        }
      ]
    },
    {
      "cell_type": "code",
      "metadata": {
        "id": "ZbU79CwERe2K",
        "colab_type": "code",
        "outputId": "bdedd335-5d08-4777-c06a-6f9448584725",
        "colab": {
          "base_uri": "https://localhost:8080/",
          "height": 938
        }
      },
      "source": [
        "# PRINTING OUT THE TOP K ENTRIES\n",
        "print({k: master_vocab[k] for k in list(master_vocab)[:20]})\n",
        "\n",
        "# TOP 50 WORDS\n",
        "print(\"\\n\")\n",
        "sorted(master_vocab, key = lambda x: (-master_vocab[x], x))[0:50]\n"
      ],
      "execution_count": 23,
      "outputs": [
        {
          "output_type": "stream",
          "text": [
            "{'bthis': 3593, 'was': 49110, 'an': 21268, 'absolutely': 1453, 'terrible': 1567, 'movie': 41927, 'do': 12763, 'not': 45531, 'be': 26613, 'lured': 28, 'in': 91800, 'by': 22224, 'christopher': 387, 'walken': 127, 'or': 17561, 'michael': 1229, 'ironside': 25, 'both': 3325, 'are': 33491, 'great': 8824}\n",
            "\n",
            "\n"
          ],
          "name": "stdout"
        },
        {
          "output_type": "execute_result",
          "data": {
            "text/plain": [
              "['the',\n",
              " 'and',\n",
              " 'a',\n",
              " 'of',\n",
              " 'to',\n",
              " 'is',\n",
              " 'in',\n",
              " 'it',\n",
              " 'i',\n",
              " 'that',\n",
              " 'this',\n",
              " 'was',\n",
              " 'as',\n",
              " 'not',\n",
              " 'with',\n",
              " 'for',\n",
              " 'movie',\n",
              " 'but',\n",
              " 'film',\n",
              " 'are',\n",
              " 'on',\n",
              " 'you',\n",
              " 'have',\n",
              " 'his',\n",
              " 'he',\n",
              " 'be',\n",
              " 'one',\n",
              " 'at',\n",
              " 'all',\n",
              " 'they',\n",
              " 'by',\n",
              " 'an',\n",
              " 'who',\n",
              " 'from',\n",
              " 'like',\n",
              " 'so',\n",
              " 'her',\n",
              " 'or',\n",
              " 'just',\n",
              " 'about',\n",
              " 'its',\n",
              " 'has',\n",
              " 'out',\n",
              " 'there',\n",
              " 'some',\n",
              " 'if',\n",
              " 'would',\n",
              " 'what',\n",
              " 'good',\n",
              " 'more']"
            ]
          },
          "metadata": {
            "tags": []
          },
          "execution_count": 23
        }
      ]
    },
    {
      "cell_type": "code",
      "metadata": {
        "id": "VSb86ZluN2p2",
        "colab_type": "code",
        "outputId": "987ed8fd-acd3-43ff-c7f2-0134770da66c",
        "colab": {
          "base_uri": "https://localhost:8080/",
          "height": 34
        }
      },
      "source": [
        "len(master_vocab)"
      ],
      "execution_count": 24,
      "outputs": [
        {
          "output_type": "execute_result",
          "data": {
            "text/plain": [
              "137702"
            ]
          },
          "metadata": {
            "tags": []
          },
          "execution_count": 24
        }
      ]
    },
    {
      "cell_type": "markdown",
      "metadata": {
        "id": "bVoi-fMbYekQ",
        "colab_type": "text"
      },
      "source": [
        "## Tokenizing (and Padding) Text \n"
      ]
    },
    {
      "cell_type": "code",
      "metadata": {
        "id": "M1aiB_t3znWA",
        "colab_type": "code",
        "colab": {}
      },
      "source": [
        "# SPECIFYING HYPERPARAMETERS\n",
        "\n",
        "vocab_size = 10000\n",
        "embedding_dim = 20\n",
        "max_length = 175  \n",
        "trunc_type = 'post'\n",
        "oov_tok = \"<OOV>\"\n"
      ],
      "execution_count": 0,
      "outputs": []
    },
    {
      "cell_type": "code",
      "metadata": {
        "id": "P_qmpXX6znac",
        "colab_type": "code",
        "outputId": "8bad04b8-7d67-4410-e118-2fb60cb8c0d6",
        "colab": {
          "base_uri": "https://localhost:8080/",
          "height": 34
        }
      },
      "source": [
        "# IMPORTING LIBRARIES AND SETTING-UP TOKENIZER\n",
        "\n",
        "from keras.preprocessing.text import Tokenizer\n",
        "from keras.preprocessing.sequence import pad_sequences"
      ],
      "execution_count": 26,
      "outputs": [
        {
          "output_type": "stream",
          "text": [
            "Using TensorFlow backend.\n"
          ],
          "name": "stderr"
        }
      ]
    },
    {
      "cell_type": "code",
      "metadata": {
        "id": "in7unDrbzngx",
        "colab_type": "code",
        "colab": {}
      },
      "source": [
        "# IMPLEMENTING TOKENIZER\n",
        "\n",
        "tokenizer = Tokenizer(num_words = vocab_size, oov_token = oov_tok)\n",
        "\n",
        "tokenizer.fit_on_texts(X_train_pd['review_text_mod'])\n"
      ],
      "execution_count": 0,
      "outputs": []
    },
    {
      "cell_type": "code",
      "metadata": {
        "id": "hFFKu2Jqznle",
        "colab_type": "code",
        "outputId": "645d760f-02f2-4630-c10a-0a788d0638ba",
        "colab": {
          "base_uri": "https://localhost:8080/",
          "height": 51
        }
      },
      "source": [
        "# EXPLORING THE WORD-INDEX\n",
        "\n",
        "word_index = tokenizer.word_index\n",
        "print(\"length of the unfiltered vocabulary : \", len(word_index))\n",
        "\n",
        "print(\"Type of object\", type(word_index))\n",
        "\n"
      ],
      "execution_count": 28,
      "outputs": [
        {
          "output_type": "stream",
          "text": [
            "length of the unfiltered vocabulary :  137703\n",
            "Type of object <class 'dict'>\n"
          ],
          "name": "stdout"
        }
      ]
    },
    {
      "cell_type": "code",
      "metadata": {
        "id": "QdpZ5htcznpk",
        "colab_type": "code",
        "outputId": "adbabd95-3571-413c-b55f-b8723319a7f4",
        "colab": {
          "base_uri": "https://localhost:8080/",
          "height": 51
        }
      },
      "source": [
        "# PADDING SEQUENCES - TRAINING SET\n",
        "\n",
        "X_train_seq = tokenizer.texts_to_sequences(X_train_pd['review_text_mod'])\n",
        "\n",
        "print(\"length of the first training sequence: \",len(X_train_seq[0])) # This is aligned with the length of the first sentence\n",
        "      \n",
        "X_train_pad = pad_sequences(X_train_seq, maxlen = max_length, padding = 'post', truncating = trunc_type)\n",
        "\n",
        "print(\"length of the first training sequence (PADDED): \",len(X_train_pad[0])) # Should be 175\n",
        "\n"
      ],
      "execution_count": 29,
      "outputs": [
        {
          "output_type": "stream",
          "text": [
            "length of the first training sequence:  120\n",
            "length of the first training sequence (PADDED):  175\n"
          ],
          "name": "stdout"
        }
      ]
    },
    {
      "cell_type": "code",
      "metadata": {
        "id": "ZDWpk6IuzntW",
        "colab_type": "code",
        "outputId": "b60c4fb3-0735-44b9-9a93-304c339bc218",
        "colab": {
          "base_uri": "https://localhost:8080/",
          "height": 51
        }
      },
      "source": [
        "# TOKENIZATION AND PADDING ON TEST DATA\n",
        "\n",
        "X_test_seq = tokenizer.texts_to_sequences(X_test_pd['review_text_mod'])\n",
        "\n",
        "print(\"length of the first test sequence: \",len(X_test_seq[0])) # This is aligned with the length of the first sentence\n",
        "      \n",
        "X_test_pad = pad_sequences(X_test_seq, maxlen = max_length, padding = 'post', truncating = trunc_type)\n",
        "\n",
        "print(\"length of the first training sequence (PADDED): \",len(X_test_pad[0])) # Should be 175\n"
      ],
      "execution_count": 30,
      "outputs": [
        {
          "output_type": "stream",
          "text": [
            "length of the first test sequence:  163\n",
            "length of the first training sequence (PADDED):  175\n"
          ],
          "name": "stdout"
        }
      ]
    },
    {
      "cell_type": "code",
      "metadata": {
        "id": "djreLqdUFTo5",
        "colab_type": "code",
        "outputId": "d064064c-3426-4d62-bd5f-733ad3d00adf",
        "colab": {
          "base_uri": "https://localhost:8080/",
          "height": 85
        }
      },
      "source": [
        "print(type(X_train_pad))\n",
        "print(X_train_pad.shape)\n",
        "\n",
        "print(type(y_train))\n",
        "print(y_train.shape)"
      ],
      "execution_count": 31,
      "outputs": [
        {
          "output_type": "stream",
          "text": [
            "<class 'numpy.ndarray'>\n",
            "(25000, 175)\n",
            "<class 'numpy.ndarray'>\n",
            "(25000,)\n"
          ],
          "name": "stdout"
        }
      ]
    },
    {
      "cell_type": "markdown",
      "metadata": {
        "id": "rPJVbg-rzndv",
        "colab_type": "text"
      },
      "source": [
        "We now have the encoded and padded, training and test sets `X_train_pad` and `X_test_pad`.\n",
        "\n",
        "<BR>\n",
        "\n",
        "## LSTM Based Model"
      ]
    },
    {
      "cell_type": "code",
      "metadata": {
        "id": "kR1nLg5aF5W3",
        "colab_type": "code",
        "outputId": "95486084-7fe2-4708-cdb5-32942e2a5e4c",
        "colab": {
          "base_uri": "https://localhost:8080/",
          "height": 34
        }
      },
      "source": [
        "# DIVIDING THE TEST SET INTO VALIDATION AND TEST SETS\n",
        "\n",
        "print(X_test_pad.shape)\n",
        "\n",
        "X_val_pad = X_test_pad[0:12500]\n",
        "X_test_pad = X_test_pad[12500:]\n",
        "\n",
        "y_val = y_test[0:12500]\n",
        "y_test = y_test[12500:]\n"
      ],
      "execution_count": 32,
      "outputs": [
        {
          "output_type": "stream",
          "text": [
            "(25000, 175)\n"
          ],
          "name": "stdout"
        }
      ]
    },
    {
      "cell_type": "code",
      "metadata": {
        "id": "qZPGnQ4MCjRd",
        "colab_type": "code",
        "outputId": "5d33d896-0070-482d-e59e-b83da10a97da",
        "colab": {
          "base_uri": "https://localhost:8080/",
          "height": 527
        }
      },
      "source": [
        "# CLEAR BACKEND DATA\n",
        "\n",
        "keras.backend.clear_session()\n",
        "np.random.seed(42)\n",
        "tf.random.set_seed(42)\n",
        "\n",
        "\n",
        "# CREATE AN LSTM BASED NEURAL NETWORK IN KERAS\n",
        "\n",
        "#vocab_size = vocab_size   # NUMBER OF UNIQUE WORDS IN VOCAB = 10,000 \n",
        "#embedding_dim = embedding_dim\n",
        "sentence_length = max_length  # LENGTH OF EACH PADDED SENTENCE = 175\n",
        "\n",
        "\n",
        "lstm_model = keras.models.Sequential([\n",
        "                                          \n",
        "                  keras.layers.Embedding(input_dim = vocab_size,\n",
        "                                         output_dim = embedding_dim,\n",
        "                                         input_length = sentence_length),\n",
        "                          \n",
        "                  keras.layers.Bidirectional(keras.layers.LSTM(128, return_sequences= True)),\n",
        "                  #keras.layers.LayerNormalization(),\n",
        "                  keras.layers.Bidirectional(keras.layers.LSTM(64, return_sequences = True)),\n",
        "                  #keras.layers.LayerNormalization(),\n",
        "                  keras.layers.Bidirectional(keras.layers.LSTM(32)),\n",
        "\n",
        "\n",
        "                  #keras.layers.GlobalAveragePooling1D(),\n",
        "\n",
        "                  keras.layers.Dense(128, activation = \"relu\"),\n",
        "                  keras.layers.Dropout(rate = 0.1),\n",
        "                  keras.layers.BatchNormalization(),\n",
        "\n",
        "                  keras.layers.Dense(64, activation = \"relu\"),\n",
        "                  keras.layers.Dropout(rate = 0.1),\n",
        "                  keras.layers.BatchNormalization(),\n",
        "\n",
        "                  keras.layers.Dense(1, activation = \"sigmoid\")\n",
        "                  \n",
        "])\n",
        "\n",
        "\n",
        "\n",
        "# VIEW MODEL ARCHITECTURE\n",
        "lstm_model.summary()\n"
      ],
      "execution_count": 33,
      "outputs": [
        {
          "output_type": "stream",
          "text": [
            "Model: \"sequential\"\n",
            "_________________________________________________________________\n",
            "Layer (type)                 Output Shape              Param #   \n",
            "=================================================================\n",
            "embedding (Embedding)        (None, 175, 20)           200000    \n",
            "_________________________________________________________________\n",
            "bidirectional (Bidirectional (None, 175, 256)          152576    \n",
            "_________________________________________________________________\n",
            "bidirectional_1 (Bidirection (None, 175, 128)          164352    \n",
            "_________________________________________________________________\n",
            "bidirectional_2 (Bidirection (None, 64)                41216     \n",
            "_________________________________________________________________\n",
            "dense (Dense)                (None, 128)               8320      \n",
            "_________________________________________________________________\n",
            "dropout (Dropout)            (None, 128)               0         \n",
            "_________________________________________________________________\n",
            "batch_normalization (BatchNo (None, 128)               512       \n",
            "_________________________________________________________________\n",
            "dense_1 (Dense)              (None, 64)                8256      \n",
            "_________________________________________________________________\n",
            "dropout_1 (Dropout)          (None, 64)                0         \n",
            "_________________________________________________________________\n",
            "batch_normalization_1 (Batch (None, 64)                256       \n",
            "_________________________________________________________________\n",
            "dense_2 (Dense)              (None, 1)                 65        \n",
            "=================================================================\n",
            "Total params: 575,553\n",
            "Trainable params: 575,169\n",
            "Non-trainable params: 384\n",
            "_________________________________________________________________\n"
          ],
          "name": "stdout"
        }
      ]
    },
    {
      "cell_type": "code",
      "metadata": {
        "id": "_IZuFuoleB5F",
        "colab_type": "code",
        "outputId": "e24c426b-7b60-457a-b1f5-57d2c8574ab3",
        "colab": {
          "base_uri": "https://localhost:8080/",
          "height": 119
        }
      },
      "source": [
        "# QUICK CHECK ON DATA-TYPES AND SHAPES\n",
        "\n",
        "print(type(X_train_pad),X_train_pad.shape )\n",
        "print(type(y_train),y_train.shape)\n",
        "\n",
        "print('\\n')\n",
        "\n",
        "print(type(X_test_pad),X_test_pad.shape )\n",
        "print(type(y_test),y_test.shape)\n"
      ],
      "execution_count": 34,
      "outputs": [
        {
          "output_type": "stream",
          "text": [
            "<class 'numpy.ndarray'> (25000, 175)\n",
            "<class 'numpy.ndarray'> (25000,)\n",
            "\n",
            "\n",
            "<class 'numpy.ndarray'> (12500, 175)\n",
            "<class 'numpy.ndarray'> (12500,)\n"
          ],
          "name": "stdout"
        }
      ]
    },
    {
      "cell_type": "code",
      "metadata": {
        "id": "PFxWu_6aCjVh",
        "colab_type": "code",
        "outputId": "2f578378-c605-46a7-8603-654e30ceefe3",
        "colab": {
          "base_uri": "https://localhost:8080/",
          "height": 241
        }
      },
      "source": [
        "# IMPLEMENT CALLBACKS\n",
        "\n",
        "checkpoint_cb = keras.callbacks.ModelCheckpoint(\"imdb_lstm_best.h5\",save_best_only = True)\n",
        "\n",
        "early_stopping_cb = keras.callbacks.EarlyStopping(patience = 4, restore_best_weights = True)\n",
        "\n",
        "\n",
        "\n",
        "\n",
        "# COMPILE AND FIT MODEL\n",
        "\n",
        "lstm_model.compile(optimizer = \"adam\", loss = \"binary_crossentropy\", metrics = ['accuracy'])\n",
        "\n",
        "history_1 = lstm_model.fit(X_train_pad,y_train, epochs = 20,\n",
        "                            validation_data = (X_val_pad, y_val),\n",
        "                            callbacks = [checkpoint_cb, early_stopping_cb]\n",
        "                            \n",
        "                            )"
      ],
      "execution_count": 35,
      "outputs": [
        {
          "output_type": "stream",
          "text": [
            "Epoch 1/20\n",
            "782/782 [==============================] - 44s 57ms/step - loss: 0.4883 - accuracy: 0.7632 - val_loss: 0.4874 - val_accuracy: 0.8339\n",
            "Epoch 2/20\n",
            "782/782 [==============================] - 43s 55ms/step - loss: 0.3205 - accuracy: 0.8649 - val_loss: 0.3687 - val_accuracy: 0.8418\n",
            "Epoch 3/20\n",
            "782/782 [==============================] - 43s 55ms/step - loss: 0.2550 - accuracy: 0.8993 - val_loss: 0.4141 - val_accuracy: 0.8348\n",
            "Epoch 4/20\n",
            "782/782 [==============================] - 43s 55ms/step - loss: 0.2124 - accuracy: 0.9162 - val_loss: 0.4326 - val_accuracy: 0.8255\n",
            "Epoch 5/20\n",
            "782/782 [==============================] - 43s 55ms/step - loss: 0.1630 - accuracy: 0.9393 - val_loss: 0.8203 - val_accuracy: 0.7939\n",
            "Epoch 6/20\n",
            "782/782 [==============================] - 43s 55ms/step - loss: 0.1301 - accuracy: 0.9524 - val_loss: 0.4681 - val_accuracy: 0.8154\n"
          ],
          "name": "stdout"
        }
      ]
    },
    {
      "cell_type": "code",
      "metadata": {
        "id": "jP8SSvHMCjbv",
        "colab_type": "code",
        "outputId": "63bab8b2-6a65-4c9f-8a0a-696b15f3bade",
        "colab": {
          "base_uri": "https://localhost:8080/",
          "height": 367
        }
      },
      "source": [
        "history = history_1\n",
        "\n",
        "\n",
        "# BETTER LOOKING PLOTS FOR ACCURACY AND LOSS\n",
        "\n",
        "import matplotlib.pyplot as plt\n",
        "\n",
        "fig,axes = plt.subplots(nrows = 1, ncols = 2, figsize = (12,5))\n",
        "\n",
        "axes[0].plot(history.history['accuracy'])\n",
        "axes[0].plot(history.history['val_accuracy'])\n",
        "axes[0].set_ylim([0.5,1])\n",
        "axes[0].set_title('Model Accuracy')\n",
        "axes[0].set_ylabel('Accuracy')\n",
        "axes[0].set_xlabel('Epoch')\n",
        "axes[0].legend(['Training', 'Validation'], loc='lower right')\n",
        "\n",
        "axes[1].plot(history.history['loss'])\n",
        "axes[1].plot(history.history['val_loss'])\n",
        "axes[1].set_title('Model Loss')\n",
        "axes[1].set_ylabel('Loss')\n",
        "axes[1].set_xlabel('Epoch')\n",
        "axes[1].legend(['Training', 'Validation'], loc='upper left')\n"
      ],
      "execution_count": 36,
      "outputs": [
        {
          "output_type": "execute_result",
          "data": {
            "text/plain": [
              "<matplotlib.legend.Legend at 0x7efd7e0522e8>"
            ]
          },
          "metadata": {
            "tags": []
          },
          "execution_count": 36
        },
        {
          "output_type": "display_data",
          "data": {
            "image/png": "[encoded data removed]",
            "text/plain": [
              "<Figure size 864x360 with 2 Axes>"
            ]
          },
          "metadata": {
            "tags": [],
            "needs_background": "light"
          }
        }
      ]
    },
    {
      "cell_type": "code",
      "metadata": {
        "id": "hoHVlcRgCjh1",
        "colab_type": "code",
        "outputId": "5d7ffba9-3497-4f4a-e58b-20b924913901",
        "colab": {
          "base_uri": "https://localhost:8080/",
          "height": 51
        }
      },
      "source": [
        "# LOAD THE BEST PERFORMING MODEL (SO FAR.)\n",
        "best_model = keras.models.load_model('imdb_lstm_best.h5')\n",
        "\n",
        "best_model.evaluate(X_test_pad, y_test)"
      ],
      "execution_count": 37,
      "outputs": [
        {
          "output_type": "stream",
          "text": [
            "391/391 [==============================] - 7s 18ms/step - loss: 0.3702 - accuracy: 0.8381\n"
          ],
          "name": "stdout"
        },
        {
          "output_type": "execute_result",
          "data": {
            "text/plain": [
              "[0.37022340297698975, 0.8380799889564514]"
            ]
          },
          "metadata": {
            "tags": []
          },
          "execution_count": 37
        }
      ]
    },
    {
      "cell_type": "code",
      "metadata": {
        "id": "72Y3Rr5gCjmt",
        "colab_type": "code",
        "colab": {}
      },
      "source": [
        "# BLANK CELL"
      ],
      "execution_count": 0,
      "outputs": []
    },
    {
      "cell_type": "markdown",
      "metadata": {
        "id": "5lcQbOiBD14T",
        "colab_type": "text"
      },
      "source": [
        "## Using Pre-trained Embeddings to Clean-up Data"
      ]
    },
    {
      "cell_type": "code",
      "metadata": {
        "id": "vMRu_ieTJzEQ",
        "colab_type": "code",
        "outputId": "2271e574-4e25-434a-a17f-081c91bf7d98",
        "colab": {
          "base_uri": "https://localhost:8080/",
          "height": 224
        }
      },
      "source": [
        "# IMPORTING THE EMBEDDINGS\n",
        "# AUTHOR: LAURENCE MORONEY, AI ADVOCATE AT GOOGLE \n",
        "\n",
        "# Note this is the 100 dimension version of GloVe from Stanford\n",
        "# I unzipped and hosted it on my site to make this notebook easier\n",
        "!wget --no-check-certificate \\\n",
        "    https://storage.googleapis.com/laurencemoroney-blog.appspot.com/glove.6B.100d.txt \\\n",
        "    -O /tmp/glove.6B.100d.txt\n",
        "\n",
        "embeddings_index = {};\n",
        "\n",
        "with open('/tmp/glove.6B.100d.txt') as f:\n",
        "    for line in f:\n",
        "        values = line.split();\n",
        "        word = values[0];\n",
        "        coefs = np.asarray(values[1:], dtype='float32');\n",
        "        embeddings_index[word] = coefs;"
      ],
      "execution_count": 39,
      "outputs": [
        {
          "output_type": "stream",
          "text": [
            "--2020-04-18 19:09:29--  https://storage.googleapis.com/laurencemoroney-blog.appspot.com/glove.6B.100d.txt\n",
            "Resolving storage.googleapis.com (storage.googleapis.com)... 173.194.69.128, 2a00:1450:4013:c00::80\n",
            "Connecting to storage.googleapis.com (storage.googleapis.com)|173.194.69.128|:443... connected.\n",
            "HTTP request sent, awaiting response... 200 OK\n",
            "Length: 347116733 (331M) [text/plain]\n",
            "Saving to: ‘/tmp/glove.6B.100d.txt’\n",
            "\n",
            "/tmp/glove.6B.100d. 100%[===================>] 331.04M   136MB/s    in 2.4s    \n",
            "\n",
            "2020-04-18 19:09:31 (136 MB/s) - ‘/tmp/glove.6B.100d.txt’ saved [347116733/347116733]\n",
            "\n"
          ],
          "name": "stdout"
        }
      ]
    },
    {
      "cell_type": "code",
      "metadata": {
        "id": "U5Z2HlVhJzOk",
        "colab_type": "code",
        "outputId": "018020c4-7342-4649-8f7b-9bbabc426b0e",
        "colab": {
          "base_uri": "https://localhost:8080/",
          "height": 34
        }
      },
      "source": [
        "# PRINT OUT THE LENGTH OF THE DICTIONARY\n",
        "\n",
        "print(\"len(embeddings_index)\",len(embeddings_index))\n",
        "\n",
        "# VIEW ONE ITEM FROM THE DICTIONARY\n",
        "\n",
        "#print(\"\\n representation of a single word\", take(1, embeddings_index.items()))"
      ],
      "execution_count": 40,
      "outputs": [
        {
          "output_type": "stream",
          "text": [
            "len(embeddings_index) 400000\n"
          ],
          "name": "stdout"
        }
      ]
    },
    {
      "cell_type": "markdown",
      "metadata": {
        "id": "jfcmOecBJzW7",
        "colab_type": "text"
      },
      "source": [
        "The above is interesting and provides a lot of perspective"
      ]
    },
    {
      "cell_type": "code",
      "metadata": {
        "id": "VHpTymG_Jzgc",
        "colab_type": "code",
        "colab": {}
      },
      "source": [
        "# DEFINING FUNCTION CHECK OVERLAP BETWEEN master_vocab AND embeddings_index\n",
        "# AUTHOR: CRISTOF HENKEL, https://www.kaggle.com/christofhenkel/how-to-preprocessing-when-using-embeddings\n",
        "\n",
        "import operator \n",
        "\n",
        "def check_coverage(vocab,embeddings_index):\n",
        "    a = {}\n",
        "    oov = {}\n",
        "    k = 0\n",
        "    i = 0\n",
        "    for word in tqdm(vocab):\n",
        "        try:\n",
        "            a[word] = embeddings_index[word]\n",
        "            k += vocab[word]\n",
        "        except:\n",
        "\n",
        "            oov[word] = vocab[word]\n",
        "            i += vocab[word]\n",
        "            pass\n",
        "\n",
        "    print('Found embeddings for {:.2%} of vocab'.format(len(a) / len(vocab)))\n",
        "    print('Found embeddings for  {:.2%} of all text'.format(k / (k + i)))\n",
        "    sorted_x = sorted(oov.items(), key=operator.itemgetter(1))[::-1]\n",
        "\n",
        "    return sorted_x"
      ],
      "execution_count": 0,
      "outputs": []
    },
    {
      "cell_type": "code",
      "metadata": {
        "id": "9AISdNyiJzp0",
        "colab_type": "code",
        "outputId": "6bd826b1-86bf-4d05-db23-3954dcd1d40e",
        "colab": {
          "base_uri": "https://localhost:8080/",
          "height": 68
        }
      },
      "source": [
        "# IMPLEMENTING THE FUCNTION\n",
        "\n",
        "oov = check_coverage(master_vocab,embeddings_index)"
      ],
      "execution_count": 42,
      "outputs": [
        {
          "output_type": "stream",
          "text": [
            "100%|██████████| 137702/137702 [00:00<00:00, 777929.00it/s]"
          ],
          "name": "stderr"
        },
        {
          "output_type": "stream",
          "text": [
            "Found embeddings for 43.89% of vocab\n",
            "Found embeddings for  97.78% of all text\n"
          ],
          "name": "stdout"
        },
        {
          "output_type": "stream",
          "text": [
            "\n"
          ],
          "name": "stderr"
        }
      ]
    },
    {
      "cell_type": "code",
      "metadata": {
        "id": "zycCRsBeYayR",
        "colab_type": "code",
        "outputId": "46843115-d0e5-4d14-a90f-d8cf7b7e246a",
        "colab": {
          "base_uri": "https://localhost:8080/",
          "height": 782
        }
      },
      "source": [
        "# A QUICK LOOK AT THE TOP 45 OOV WORDS\n",
        "\n",
        "oov[0:45]"
      ],
      "execution_count": 43,
      "outputs": [
        {
          "output_type": "execute_result",
          "data": {
            "text/plain": [
              "[('bthis', 3593),\n",
              " ('bthe', 1664),\n",
              " ('youve', 387),\n",
              " ('bwhen', 320),\n",
              " ('bwhat', 309),\n",
              " ('werent', 291),\n",
              " ('bthere', 281),\n",
              " ('lowbudget', 271),\n",
              " ('bafter', 208),\n",
              " ('bfirst', 204),\n",
              " ('overthetop', 199),\n",
              " ('bwell', 195),\n",
              " ('shouldnt', 189),\n",
              " ('bmovie', 183),\n",
              " ('moviethe', 163),\n",
              " ('itthe', 161),\n",
              " ('writerdirector', 155),\n",
              " ('bfor', 151),\n",
              " ('hadnt', 150),\n",
              " ('filmthe', 146),\n",
              " ('theyve', 142),\n",
              " ('oneliners', 142),\n",
              " ('moviei', 136),\n",
              " ('reallife', 125),\n",
              " ('mustsee', 125),\n",
              " ('wouldve', 120),\n",
              " ('byou', 110),\n",
              " ('balthough', 108),\n",
              " ('couldve', 107),\n",
              " ('bwow', 104),\n",
              " ('bwhile', 103),\n",
              " ('bjust', 101),\n",
              " ('madefortv', 95),\n",
              " ('bhow', 95),\n",
              " ('bnot', 95),\n",
              " ('bive', 94),\n",
              " ('onedimensional', 94),\n",
              " ('bokay', 90),\n",
              " ('middleaged', 80),\n",
              " ('bhaving', 79),\n",
              " ('yearold', 73),\n",
              " ('bwith', 73),\n",
              " ('wellwritten', 72),\n",
              " ('thoughtprovoking', 72),\n",
              " ('bwhy', 67)]"
            ]
          },
          "metadata": {
            "tags": []
          },
          "execution_count": 43
        }
      ]
    },
    {
      "cell_type": "code",
      "metadata": {
        "id": "YAbmxBxv0cYl",
        "colab_type": "code",
        "colab": {}
      },
      "source": [
        "# DEFINE A MIS-SPELLING DICTIONARY\n",
        "\n",
        "mispell_dict = {\n",
        "  'bthis': 'this',\n",
        " 'bthe': 'the',\n",
        " 'youve': 'you have',\n",
        " 'bwhen': 'when',\n",
        " 'bwhat': 'bwhat',\n",
        " 'werent': 'were not',\n",
        " 'bthere': 'there',\n",
        " 'lowbudget': 'low budget',\n",
        " 'bafter': 'after',\n",
        " 'bfirst': 'first',\n",
        " 'overthetop': 'over the top',\n",
        " 'bwell': 'well',\n",
        " 'shouldnt': 'should not',\n",
        " 'bmovie': 'movie',\n",
        " 'moviethe': 'movie the',\n",
        " 'itthe': 'it the',\n",
        " 'writerdirector': 'writer director',\n",
        " 'bfor': 'for',\n",
        " 'hadnt': 'hadn not',\n",
        " 'filmthe': 'film the',\n",
        " 'theyve': 'they have',\n",
        " 'oneliners': 'one liners',\n",
        " 'moviei': 'movie i',\n",
        " 'reallife': 'real life',\n",
        " 'mustsee': 'must see',\n",
        " 'wouldve': 'would have',\n",
        " 'byou': 'you',\n",
        " 'balthough': 'although',\n",
        " 'couldve': 'could have',\n",
        " 'bwow': 'wow',\n",
        " 'bwhile': 'while',\n",
        " 'bjust': 'just',\n",
        " 'madefortv': 'made for tv',\n",
        " 'bhow': 'how',\n",
        " 'bnot': 'not',\n",
        " 'bive': 'i have',\n",
        " 'onedimensional': 'one dimensional',\n",
        " 'bokay': 'okay',\n",
        " 'middleaged': 'middle aged',\n",
        " 'bhaving': 'having',\n",
        " 'yearold': 'year old',\n",
        " 'bwith': 'with',\n",
        " 'wellwritten': 'well written',\n",
        " 'thoughtprovoking': 'thought provoking',\n",
        " 'bwhy': 'why'\n",
        "\n",
        "}\n",
        "\n",
        "\n",
        "\n"
      ],
      "execution_count": 0,
      "outputs": []
    },
    {
      "cell_type": "code",
      "metadata": {
        "id": "UGFVgweQ2Dr4",
        "colab_type": "code",
        "colab": {}
      },
      "source": [
        "# TESTING\n",
        "#mispell_dict = {'shouldnt': 'should not'}"
      ],
      "execution_count": 0,
      "outputs": []
    },
    {
      "cell_type": "code",
      "metadata": {
        "id": "V7VmUoZAeSlP",
        "colab_type": "code",
        "colab": {}
      },
      "source": [
        "# WRITING A FUNCTION TO CLEAN THE ABOVE INCONSISTENCIES\n",
        "# AUTHOR: CRISTOF HENKEL, https://www.kaggle.com/christofhenkel/how-to-preprocessing-when-using-embeddings\n",
        "\n",
        "\n",
        "import re\n",
        "\n",
        "def _get_mispell(mispell_dict):\n",
        "    mispell_re = re.compile('(%s)' % '|'.join(mispell_dict.keys()))\n",
        "    return mispell_dict, mispell_re\n",
        "\n",
        "\n",
        "mispellings, mispellings_re = _get_mispell(mispell_dict)\n",
        "\n",
        "\n",
        "\n",
        "def replace_typical_misspell(text):\n",
        "    def replace(match):\n",
        "        return mispellings[match.group(0)]\n",
        "\n",
        "    return mispellings_re.sub(replace, text)"
      ],
      "execution_count": 0,
      "outputs": []
    },
    {
      "cell_type": "code",
      "metadata": {
        "id": "zONXqDazzPyO",
        "colab_type": "code",
        "colab": {}
      },
      "source": [
        "# TESTING\n",
        "\n",
        "# sample = \"she shouldnt have left\"\n",
        "\n",
        "# sample = replace_typical_misspell(sample)\n",
        "\n",
        "# print(sample)\n",
        "\n",
        "# X_train_pd = X_train_pd[['review_text_mod']].copy()\n",
        "# X_test_pd = X_test_pd[['review_text_mod']].copy()"
      ],
      "execution_count": 0,
      "outputs": []
    },
    {
      "cell_type": "code",
      "metadata": {
        "id": "7Uuo7GZ40PRf",
        "colab_type": "code",
        "outputId": "00c35edc-4e54-493f-bc3d-041dbdd96734",
        "colab": {
          "base_uri": "https://localhost:8080/",
          "height": 51
        }
      },
      "source": [
        "# IMPLEMENTING THE FUNCTION FOR TRAINING AND TEST SETS\n",
        "\n",
        "X_train_pd[\"review_text_mod2\"] = X_train_pd[\"review_text_mod\"].progress_apply(lambda x: replace_typical_misspell(x))\n",
        "X_test_pd[\"review_text_mod2\"] = X_test_pd[\"review_text_mod\"].progress_apply(lambda x: replace_typical_misspell(x))\n"
      ],
      "execution_count": 48,
      "outputs": [
        {
          "output_type": "stream",
          "text": [
            "100%|██████████| 25000/25000 [00:02<00:00, 9396.05it/s]\n",
            "100%|██████████| 25000/25000 [00:02<00:00, 9540.26it/s]\n"
          ],
          "name": "stderr"
        }
      ]
    },
    {
      "cell_type": "code",
      "metadata": {
        "id": "1FX-Qi-J6Ryd",
        "colab_type": "code",
        "colab": {}
      },
      "source": [
        "# CHECKING THE IMPLEMENTATION OF THE FUNCTION\n",
        "\n",
        "#X_train_pd.head(2)"
      ],
      "execution_count": 0,
      "outputs": []
    },
    {
      "cell_type": "code",
      "metadata": {
        "id": "Q52jiZCZ9ia8",
        "colab_type": "code",
        "colab": {}
      },
      "source": [
        "X_train_pd2 = X_train_pd[['review_text_mod2']].copy()\n",
        "X_test_pd2 = X_test_pd[['review_text_mod2']].copy()"
      ],
      "execution_count": 0,
      "outputs": []
    },
    {
      "cell_type": "code",
      "metadata": {
        "id": "YHSERN13EFpC",
        "colab_type": "code",
        "outputId": "a6211fe2-1167-4303-ac0c-29ef6a5b4ffc",
        "colab": {
          "base_uri": "https://localhost:8080/",
          "height": 111
        }
      },
      "source": [
        "X_train_pd2.head(2)"
      ],
      "execution_count": 51,
      "outputs": [
        {
          "output_type": "execute_result",
          "data": {
            "text/html": [
              "<div>\n",
              "<style scoped>\n",
              "    .dataframe tbody tr th:only-of-type {\n",
              "        vertical-align: middle;\n",
              "    }\n",
              "\n",
              "    .dataframe tbody tr th {\n",
              "        vertical-align: top;\n",
              "    }\n",
              "\n",
              "    .dataframe thead th {\n",
              "        text-align: right;\n",
              "    }\n",
              "</style>\n",
              "<table border=\"1\" class=\"dataframe\">\n",
              "  <thead>\n",
              "    <tr style=\"text-align: right;\">\n",
              "      <th></th>\n",
              "      <th>review_text_mod2</th>\n",
              "    </tr>\n",
              "  </thead>\n",
              "  <tbody>\n",
              "    <tr>\n",
              "      <th>0</th>\n",
              "      <td>this was an absolutely terrible movie do not b...</td>\n",
              "    </tr>\n",
              "    <tr>\n",
              "      <th>1</th>\n",
              "      <td>bi have been known to fall asleep during films...</td>\n",
              "    </tr>\n",
              "  </tbody>\n",
              "</table>\n",
              "</div>"
            ],
            "text/plain": [
              "                                    review_text_mod2\n",
              "0  this was an absolutely terrible movie do not b...\n",
              "1  bi have been known to fall asleep during films..."
            ]
          },
          "metadata": {
            "tags": []
          },
          "execution_count": 51
        }
      ]
    },
    {
      "cell_type": "code",
      "metadata": {
        "id": "IsncvBYc-HEv",
        "colab_type": "code",
        "outputId": "c4904a8a-d729-42ce-cf73-5c3f71161a9c",
        "colab": {
          "base_uri": "https://localhost:8080/",
          "height": 170
        }
      },
      "source": [
        "# RE-TOKENIZATING TEST\n",
        "# RE-TOKENIZATING TEST\n",
        "\n",
        "\n",
        "# IMPLEMENTING TOKENIZER\n",
        "\n",
        "tokenizer = Tokenizer(num_words = vocab_size, oov_token = oov_tok)\n",
        "\n",
        "tokenizer.fit_on_texts(X_train_pd2['review_text_mod2'])\n",
        "\n",
        "\n",
        "# EXPLORING THE WORD-INDEX\n",
        "\n",
        "word_index2 = tokenizer.word_index\n",
        "print(\"\\n length of the unfiltered vocabulary : \", len(word_index2))\n",
        "\n",
        "print(\"Type of object\", type(word_index2))\n",
        "\n",
        "\n",
        "# PADDING SEQUENCES - TRAINING SET\n",
        "\n",
        "X_train_seq2 = tokenizer.texts_to_sequences(X_train_pd2['review_text_mod2'])\n",
        "\n",
        "print(\"\\n length of the first training sequence: \",len(X_train_seq2[0])) # This is aligned with the length of the first sentence\n",
        "      \n",
        "X_train_pad2 = pad_sequences(X_train_seq2, maxlen = max_length, padding = 'post', truncating = trunc_type)\n",
        "\n",
        "print(\"length of the first training sequence (PADDED): \",len(X_train_pad2[0])) # Should be 175\n",
        "\n",
        "\n",
        "# TOKENIZATION AND PADDING ON TEST DATA\n",
        "\n",
        "X_test_seq2 = tokenizer.texts_to_sequences(X_test_pd2['review_text_mod2'])\n",
        "\n",
        "print(\"\\n length of the first test sequence: \",len(X_test_seq2[0])) # This is aligned with the length of the first sentence\n",
        "      \n",
        "X_test_pad2 = pad_sequences(X_test_seq2, maxlen = max_length, padding = 'post', truncating = trunc_type)\n",
        "\n",
        "print(\"length of the first training sequence (PADDED): \",len(X_test_pad2[0])) # Should be 175\n"
      ],
      "execution_count": 52,
      "outputs": [
        {
          "output_type": "stream",
          "text": [
            "\n",
            " length of the unfiltered vocabulary :  137522\n",
            "Type of object <class 'dict'>\n",
            "\n",
            " length of the first training sequence:  120\n",
            "length of the first training sequence (PADDED):  175\n",
            "\n",
            " length of the first test sequence:  165\n",
            "length of the first training sequence (PADDED):  175\n"
          ],
          "name": "stdout"
        }
      ]
    },
    {
      "cell_type": "code",
      "metadata": {
        "id": "wAHP5F6BAFcq",
        "colab_type": "code",
        "outputId": "afe53aa9-0407-4bd6-9416-5769b4900983",
        "colab": {
          "base_uri": "https://localhost:8080/",
          "height": 85
        }
      },
      "source": [
        "print(type(X_train_pad2))\n",
        "print(X_train_pad2.shape)\n",
        "\n",
        "print(type(y_train))\n",
        "print(y_train.shape)"
      ],
      "execution_count": 53,
      "outputs": [
        {
          "output_type": "stream",
          "text": [
            "<class 'numpy.ndarray'>\n",
            "(25000, 175)\n",
            "<class 'numpy.ndarray'>\n",
            "(25000,)\n"
          ],
          "name": "stdout"
        }
      ]
    },
    {
      "cell_type": "code",
      "metadata": {
        "id": "c-JrSHDpCyvg",
        "colab_type": "code",
        "outputId": "3af3b0a8-97ea-4330-ace3-4a7665c6cf03",
        "colab": {
          "base_uri": "https://localhost:8080/",
          "height": 34
        }
      },
      "source": [
        "# DIVIDING THE TEST SET INTO VALIDATION AND TEST SETS\n",
        "\n",
        "print(X_test_pad2.shape)\n",
        "\n",
        "X_val_pad2 = X_test_pad2[0:12500]\n",
        "X_test_pad2 = X_test_pad2[12500:]\n",
        "\n"
      ],
      "execution_count": 54,
      "outputs": [
        {
          "output_type": "stream",
          "text": [
            "(25000, 175)\n"
          ],
          "name": "stdout"
        }
      ]
    },
    {
      "cell_type": "code",
      "metadata": {
        "id": "2rhw0rE-AMe5",
        "colab_type": "code",
        "outputId": "c4e65788-ebcf-43c0-b899-d83861ea3e8b",
        "colab": {
          "base_uri": "https://localhost:8080/",
          "height": 241
        }
      },
      "source": [
        "# RE-IMPLEMENTING THE PREVIOUSLY SPECIFIED MODEL ON CLEANED UP DATA\n",
        "\n",
        "# IMPLEMENT CALLBACKS\n",
        "\n",
        "checkpoint_cb = keras.callbacks.ModelCheckpoint(\"imdb_lstm_best_2.h5\",save_best_only = True)\n",
        "\n",
        "early_stopping_cb = keras.callbacks.EarlyStopping(patience = 4, restore_best_weights = True)\n",
        "\n",
        "\n",
        "\n",
        "\n",
        "# COMPILE AND FIT MODEL\n",
        "\n",
        "lstm_model.compile(optimizer = \"adam\", loss = \"binary_crossentropy\", metrics = ['accuracy'])\n",
        "\n",
        "history_2 = lstm_model.fit(X_train_pad2,y_train, epochs = 20,\n",
        "                            validation_data = (X_val_pad2, y_val),\n",
        "                            callbacks = [checkpoint_cb, early_stopping_cb]\n",
        "                            \n",
        "                            )"
      ],
      "execution_count": 55,
      "outputs": [
        {
          "output_type": "stream",
          "text": [
            "Epoch 1/20\n",
            "782/782 [==============================] - 45s 57ms/step - loss: 0.4813 - accuracy: 0.7756 - val_loss: 0.3864 - val_accuracy: 0.8364\n",
            "Epoch 2/20\n",
            "782/782 [==============================] - 44s 56ms/step - loss: 0.3058 - accuracy: 0.8744 - val_loss: 0.3834 - val_accuracy: 0.8420\n",
            "Epoch 3/20\n",
            "782/782 [==============================] - 44s 56ms/step - loss: 0.2373 - accuracy: 0.9076 - val_loss: 0.4104 - val_accuracy: 0.8384\n",
            "Epoch 4/20\n",
            "782/782 [==============================] - 43s 55ms/step - loss: 0.1920 - accuracy: 0.9283 - val_loss: 0.5302 - val_accuracy: 0.8108\n",
            "Epoch 5/20\n",
            "782/782 [==============================] - 43s 56ms/step - loss: 0.1515 - accuracy: 0.9450 - val_loss: 0.5655 - val_accuracy: 0.8211\n",
            "Epoch 6/20\n",
            "782/782 [==============================] - 43s 54ms/step - loss: 0.1115 - accuracy: 0.9619 - val_loss: 0.6122 - val_accuracy: 0.8222\n"
          ],
          "name": "stdout"
        }
      ]
    },
    {
      "cell_type": "code",
      "metadata": {
        "id": "jvr6r7_IAfWa",
        "colab_type": "code",
        "outputId": "86974ab3-a5bf-411c-ab45-c6fb536bc5b6",
        "colab": {
          "base_uri": "https://localhost:8080/",
          "height": 367
        }
      },
      "source": [
        "history = history_2\n",
        "\n",
        "\n",
        "# BETTER LOOKING PLOTS FOR ACCURACY AND LOSS\n",
        "\n",
        "import matplotlib.pyplot as plt\n",
        "\n",
        "fig,axes = plt.subplots(nrows = 1, ncols = 2, figsize = (12,5))\n",
        "\n",
        "axes[0].plot(history.history['accuracy'])\n",
        "axes[0].plot(history.history['val_accuracy'])\n",
        "axes[0].set_ylim([0.5,1])\n",
        "axes[0].set_title('Model Accuracy')\n",
        "axes[0].set_ylabel('Accuracy')\n",
        "axes[0].set_xlabel('Epoch')\n",
        "axes[0].legend(['Training', 'Validation'], loc='lower right')\n",
        "\n",
        "axes[1].plot(history.history['loss'])\n",
        "axes[1].plot(history.history['val_loss'])\n",
        "axes[1].set_title('Model Loss')\n",
        "axes[1].set_ylabel('Loss')\n",
        "axes[1].set_xlabel('Epoch')\n",
        "axes[1].legend(['Training', 'Validation'], loc='upper left')\n"
      ],
      "execution_count": 56,
      "outputs": [
        {
          "output_type": "execute_result",
          "data": {
            "text/plain": [
              "<matplotlib.legend.Legend at 0x7efd62c93630>"
            ]
          },
          "metadata": {
            "tags": []
          },
          "execution_count": 56
        },
        {
          "output_type": "display_data",
          "data": {
            "image/png": "[encoded data removed]",
            "text/plain": [
              "<Figure size 864x360 with 2 Axes>"
            ]
          },
          "metadata": {
            "tags": [],
            "needs_background": "light"
          }
        }
      ]
    },
    {
      "cell_type": "code",
      "metadata": {
        "id": "7_qvFSkjAqFr",
        "colab_type": "code",
        "outputId": "8c3c4378-f8d3-484b-8d75-ab253bc528da",
        "colab": {
          "base_uri": "https://localhost:8080/",
          "height": 51
        }
      },
      "source": [
        "# LOAD THE BEST PERFORMING MODEL (SO FAR.)\n",
        "best_model = keras.models.load_model('imdb_lstm_best_2.h5')\n",
        "\n",
        "best_model.evaluate(X_test_pad2, y_test)"
      ],
      "execution_count": 57,
      "outputs": [
        {
          "output_type": "stream",
          "text": [
            "391/391 [==============================] - 7s 18ms/step - loss: 0.3883 - accuracy: 0.8378\n"
          ],
          "name": "stdout"
        },
        {
          "output_type": "execute_result",
          "data": {
            "text/plain": [
              "[0.3883105516433716, 0.8378400206565857]"
            ]
          },
          "metadata": {
            "tags": []
          },
          "execution_count": 57
        }
      ]
    },
    {
      "cell_type": "code",
      "metadata": {
        "id": "73KT0U4FBT5y",
        "colab_type": "code",
        "colab": {}
      },
      "source": [
        "# BLANK"
      ],
      "execution_count": 0,
      "outputs": []
    },
    {
      "cell_type": "markdown",
      "metadata": {
        "id": "1PXkSKSTBUKB",
        "colab_type": "text"
      },
      "source": [
        "## LSTM Model with Pre-trained Embeddings "
      ]
    },
    {
      "cell_type": "code",
      "metadata": {
        "id": "0yqRnWO0DA8K",
        "colab_type": "code",
        "outputId": "0f0dc8a8-618a-478d-a7ca-482bd5f93d69",
        "colab": {
          "base_uri": "https://localhost:8080/",
          "height": 71
        }
      },
      "source": [
        "# COVERTING THE embedding_index TO embedding_matrix\n",
        "# NOTE: embedding_index is derived fro external embeddings\n",
        "# AN IMPORTANT PIECE OF CODE\n",
        "# AUTHOR: https://www.kaggle.com/sudalairajkumar/a-look-at-different-embeddings \n",
        "\n",
        "# HYPERPARAMETERS\n",
        "max_features = vocab_size\n",
        "word_index = word_index\n",
        "\n",
        "\n",
        "# CODE\n",
        "all_embs = np.stack(embeddings_index.values())\n",
        "\n",
        "emb_mean,emb_std = all_embs.mean(), all_embs.std()\n",
        "\n",
        "embed_size = all_embs.shape[1]\n",
        "\n",
        "nb_words = min(max_features, len(word_index))\n",
        "\n",
        "embedding_matrix = np.random.normal(emb_mean, emb_std, (nb_words, embed_size))\n",
        "\n",
        "for word, i in word_index.items():\n",
        "    if i >= max_features: continue\n",
        "    embedding_vector = embeddings_index.get(word)\n",
        "    if embedding_vector is not None: embedding_matrix[i] = embedding_vector\n",
        "        \n",
        "#inp = Input(shape=(maxlen,))"
      ],
      "execution_count": 59,
      "outputs": [
        {
          "output_type": "stream",
          "text": [
            "/usr/local/lib/python3.6/dist-packages/IPython/core/interactiveshell.py:2822: FutureWarning: arrays to stack must be passed as a \"sequence\" type such as list or tuple. Support for non-sequence iterables such as generators is deprecated as of NumPy 1.16 and will raise an error in the future.\n",
            "  if self.run_code(code, result):\n"
          ],
          "name": "stderr"
        }
      ]
    },
    {
      "cell_type": "code",
      "metadata": {
        "id": "WwmcQt88Y8dr",
        "colab_type": "code",
        "outputId": "8d48bcb1-85b7-4ce9-d28f-9ed659f7a931",
        "colab": {
          "base_uri": "https://localhost:8080/",
          "height": 51
        }
      },
      "source": [
        "print(\"\\n embed_size = \",embed_size)"
      ],
      "execution_count": 60,
      "outputs": [
        {
          "output_type": "stream",
          "text": [
            "\n",
            " embed_size =  100\n"
          ],
          "name": "stdout"
        }
      ]
    },
    {
      "cell_type": "code",
      "metadata": {
        "colab_type": "code",
        "id": "pxbY7w_yq6U8",
        "colab": {}
      },
      "source": [
        "# INTENTIONALLY LEFT BLANK"
      ],
      "execution_count": 0,
      "outputs": []
    },
    {
      "cell_type": "code",
      "metadata": {
        "colab_type": "code",
        "id": "sY9XimRxq5oh",
        "colab": {}
      },
      "source": [
        "# INTENTIONALLY LEFT BLANK"
      ],
      "execution_count": 0,
      "outputs": []
    },
    {
      "cell_type": "code",
      "metadata": {
        "id": "Bps01LhzBVTs",
        "colab_type": "code",
        "outputId": "92a91739-27a8-4b15-f69a-b1d0ccd64e8f",
        "colab": {
          "base_uri": "https://localhost:8080/",
          "height": 751
        }
      },
      "source": [
        "# CLEAR BACKEND DATA\n",
        "\n",
        "keras.backend.clear_session()\n",
        "np.random.seed(42)\n",
        "tf.random.set_seed(42)\n",
        "\n",
        "\n",
        "# CREATE AN LSTM BASED NEURAL NETWORK IN KERAS\n",
        "\n",
        "#vocab_size = vocab_size   # NUMBER OF UNIQUE WORDS IN VOCAB = 10,000 \n",
        "#embedding_dim = embedding_dim\n",
        "sentence_length = max_length  # LENGTH OF EACH PADDED SENTENCE = 175\n",
        "\n",
        "\n",
        "lstm_emb_model = keras.models.Sequential([\n",
        "                                          \n",
        "                  keras.layers.Embedding(input_dim = vocab_size,\n",
        "                                         output_dim = embed_size,\n",
        "                                         input_length = sentence_length,\n",
        "                                         weights=[embedding_matrix], trainable= True),\n",
        "                          \n",
        "                  keras.layers.Bidirectional(keras.layers.LSTM(128, return_sequences= True, recurrent_dropout = 0.1, dropout = 0.1)),\n",
        "                  #keras.layers.LayerNormalization(),\n",
        "                  keras.layers.Bidirectional(keras.layers.LSTM(128, return_sequences = True, recurrent_dropout= 0.1, dropout = 0.1)),\n",
        "                  #keras.layers.LayerNormalization(),\n",
        "                  keras.layers.Bidirectional(keras.layers.LSTM(64)),\n",
        "\n",
        "\n",
        "                  #keras.layers.GlobalAveragePooling1D(),\n",
        "\n",
        "                  keras.layers.Dense(128, activation = \"relu\"),\n",
        "                  keras.layers.Dropout(rate = 0.1),\n",
        "                  keras.layers.BatchNormalization(),\n",
        "\n",
        "                  keras.layers.Dense(64, activation = \"relu\"),\n",
        "                  keras.layers.Dropout(rate = 0.1),\n",
        "                  keras.layers.BatchNormalization(),\n",
        "\n",
        "                  keras.layers.Dense(1, activation = \"sigmoid\")\n",
        "                  \n",
        "])\n",
        "\n",
        "\n",
        "\n",
        "# VIEW MODEL ARCHITECTURE\n",
        "lstm_emb_model.summary()\n"
      ],
      "execution_count": 0,
      "outputs": [
        {
          "output_type": "stream",
          "text": [
            "WARNING:tensorflow:Layer lstm will not use cuDNN kernel since it doesn't meet the cuDNN kernel criteria. It will use generic GPU kernel as fallback when running on GPU\n"
          ],
          "name": "stdout"
        },
        {
          "output_type": "stream",
          "text": [
            "WARNING:tensorflow:Layer lstm will not use cuDNN kernel since it doesn't meet the cuDNN kernel criteria. It will use generic GPU kernel as fallback when running on GPU\n"
          ],
          "name": "stderr"
        },
        {
          "output_type": "stream",
          "text": [
            "WARNING:tensorflow:Layer lstm will not use cuDNN kernel since it doesn't meet the cuDNN kernel criteria. It will use generic GPU kernel as fallback when running on GPU\n"
          ],
          "name": "stdout"
        },
        {
          "output_type": "stream",
          "text": [
            "WARNING:tensorflow:Layer lstm will not use cuDNN kernel since it doesn't meet the cuDNN kernel criteria. It will use generic GPU kernel as fallback when running on GPU\n"
          ],
          "name": "stderr"
        },
        {
          "output_type": "stream",
          "text": [
            "WARNING:tensorflow:Layer lstm will not use cuDNN kernel since it doesn't meet the cuDNN kernel criteria. It will use generic GPU kernel as fallback when running on GPU\n"
          ],
          "name": "stdout"
        },
        {
          "output_type": "stream",
          "text": [
            "WARNING:tensorflow:Layer lstm will not use cuDNN kernel since it doesn't meet the cuDNN kernel criteria. It will use generic GPU kernel as fallback when running on GPU\n"
          ],
          "name": "stderr"
        },
        {
          "output_type": "stream",
          "text": [
            "WARNING:tensorflow:Layer lstm_1 will not use cuDNN kernel since it doesn't meet the cuDNN kernel criteria. It will use generic GPU kernel as fallback when running on GPU\n"
          ],
          "name": "stdout"
        },
        {
          "output_type": "stream",
          "text": [
            "WARNING:tensorflow:Layer lstm_1 will not use cuDNN kernel since it doesn't meet the cuDNN kernel criteria. It will use generic GPU kernel as fallback when running on GPU\n"
          ],
          "name": "stderr"
        },
        {
          "output_type": "stream",
          "text": [
            "WARNING:tensorflow:Layer lstm_1 will not use cuDNN kernel since it doesn't meet the cuDNN kernel criteria. It will use generic GPU kernel as fallback when running on GPU\n"
          ],
          "name": "stdout"
        },
        {
          "output_type": "stream",
          "text": [
            "WARNING:tensorflow:Layer lstm_1 will not use cuDNN kernel since it doesn't meet the cuDNN kernel criteria. It will use generic GPU kernel as fallback when running on GPU\n"
          ],
          "name": "stderr"
        },
        {
          "output_type": "stream",
          "text": [
            "WARNING:tensorflow:Layer lstm_1 will not use cuDNN kernel since it doesn't meet the cuDNN kernel criteria. It will use generic GPU kernel as fallback when running on GPU\n"
          ],
          "name": "stdout"
        },
        {
          "output_type": "stream",
          "text": [
            "WARNING:tensorflow:Layer lstm_1 will not use cuDNN kernel since it doesn't meet the cuDNN kernel criteria. It will use generic GPU kernel as fallback when running on GPU\n"
          ],
          "name": "stderr"
        },
        {
          "output_type": "stream",
          "text": [
            "Model: \"sequential\"\n",
            "_________________________________________________________________\n",
            "Layer (type)                 Output Shape              Param #   \n",
            "=================================================================\n",
            "embedding (Embedding)        (None, 175, 100)          1000000   \n",
            "_________________________________________________________________\n",
            "bidirectional (Bidirectional (None, 175, 256)          234496    \n",
            "_________________________________________________________________\n",
            "bidirectional_1 (Bidirection (None, 175, 256)          394240    \n",
            "_________________________________________________________________\n",
            "bidirectional_2 (Bidirection (None, 128)               164352    \n",
            "_________________________________________________________________\n",
            "dense (Dense)                (None, 128)               16512     \n",
            "_________________________________________________________________\n",
            "dropout (Dropout)            (None, 128)               0         \n",
            "_________________________________________________________________\n",
            "batch_normalization (BatchNo (None, 128)               512       \n",
            "_________________________________________________________________\n",
            "dense_1 (Dense)              (None, 64)                8256      \n",
            "_________________________________________________________________\n",
            "dropout_1 (Dropout)          (None, 64)                0         \n",
            "_________________________________________________________________\n",
            "batch_normalization_1 (Batch (None, 64)                256       \n",
            "_________________________________________________________________\n",
            "dense_2 (Dense)              (None, 1)                 65        \n",
            "=================================================================\n",
            "Total params: 1,818,689\n",
            "Trainable params: 1,818,305\n",
            "Non-trainable params: 384\n",
            "_________________________________________________________________\n"
          ],
          "name": "stdout"
        }
      ]
    },
    {
      "cell_type": "code",
      "metadata": {
        "id": "IBHPcS3zBVaA",
        "colab_type": "code",
        "outputId": "02dc6c10-826d-46e7-83d3-c6413089b88d",
        "colab": {
          "base_uri": "https://localhost:8080/",
          "height": 255
        }
      },
      "source": [
        "# IMPLEMENT CALLBACKS\n",
        "\n",
        "checkpoint_cb = keras.callbacks.ModelCheckpoint(\"imdb_lstm_emb_best.h5\",save_best_only = True)\n",
        "\n",
        "early_stopping_cb = keras.callbacks.EarlyStopping(patience = 4, restore_best_weights = True)\n",
        "\n",
        "\n",
        "\n",
        "\n",
        "# COMPILE AND FIT MODEL\n",
        "\n",
        "lstm_emb_model.compile(optimizer = \"adam\", loss = \"binary_crossentropy\", metrics = ['accuracy'])\n",
        "\n",
        "history_3 = lstm_emb_model.fit(X_train_pad2,y_train, epochs = 20,\n",
        "                            validation_data = (X_val_pad2, y_val),\n",
        "                            callbacks = [checkpoint_cb, early_stopping_cb]\n",
        "                            \n",
        "                            )"
      ],
      "execution_count": 0,
      "outputs": [
        {
          "output_type": "stream",
          "text": [
            "Epoch 1/20\n",
            "782/782 [==============================] - 1986s 3s/step - loss: 0.7232 - accuracy: 0.5288 - val_loss: 0.8640 - val_accuracy: 0.5537\n",
            "Epoch 2/20\n",
            "782/782 [==============================] - 1957s 3s/step - loss: 0.4565 - accuracy: 0.7797 - val_loss: 0.4415 - val_accuracy: 0.7665\n",
            "Epoch 3/20\n",
            "782/782 [==============================] - 1940s 2s/step - loss: 0.2868 - accuracy: 0.8836 - val_loss: 0.3804 - val_accuracy: 0.8457\n",
            "Epoch 4/20\n",
            "782/782 [==============================] - 1980s 3s/step - loss: 0.2289 - accuracy: 0.9122 - val_loss: 0.4195 - val_accuracy: 0.8386\n",
            "Epoch 5/20\n",
            "782/782 [==============================] - 1993s 3s/step - loss: 0.1854 - accuracy: 0.9333 - val_loss: 0.4303 - val_accuracy: 0.8346\n",
            "Epoch 6/20\n",
            "782/782 [==============================] - 2027s 3s/step - loss: 0.1513 - accuracy: 0.9470 - val_loss: 0.4813 - val_accuracy: 0.8194\n",
            "Epoch 7/20\n",
            "782/782 [==============================] - 2068s 3s/step - loss: 0.1210 - accuracy: 0.9602 - val_loss: 0.5372 - val_accuracy: 0.8228\n"
          ],
          "name": "stdout"
        }
      ]
    },
    {
      "cell_type": "code",
      "metadata": {
        "id": "hr1maTQreY6D",
        "colab_type": "code",
        "outputId": "0b9558b4-ed00-49fb-d427-90321b9b1a22",
        "colab": {
          "base_uri": "https://localhost:8080/",
          "height": 367
        }
      },
      "source": [
        "history = history_3\n",
        "\n",
        "\n",
        "# BETTER LOOKING PLOTS FOR ACCURACY AND LOSS\n",
        "\n",
        "import matplotlib.pyplot as plt\n",
        "\n",
        "fig,axes = plt.subplots(nrows = 1, ncols = 2, figsize = (12,5))\n",
        "\n",
        "axes[0].plot(history.history['accuracy'])\n",
        "axes[0].plot(history.history['val_accuracy'])\n",
        "axes[0].set_ylim([0.5,1])\n",
        "axes[0].set_title('Model Accuracy')\n",
        "axes[0].set_ylabel('Accuracy')\n",
        "axes[0].set_xlabel('Epoch')\n",
        "axes[0].legend(['Training', 'Validation'], loc='lower right')\n",
        "\n",
        "axes[1].plot(history.history['loss'])\n",
        "axes[1].plot(history.history['val_loss'])\n",
        "axes[1].set_title('Model Loss')\n",
        "axes[1].set_ylabel('Loss')\n",
        "axes[1].set_xlabel('Epoch')\n",
        "axes[1].legend(['Training', 'Validation'], loc='upper left')\n"
      ],
      "execution_count": 0,
      "outputs": [
        {
          "output_type": "execute_result",
          "data": {
            "text/plain": [
              "<matplotlib.legend.Legend at 0x7fde0e628588>"
            ]
          },
          "metadata": {
            "tags": []
          },
          "execution_count": 83
        },
        {
          "output_type": "display_data",
          "data": {
            "image/png": "[encoded data removed]",
            "text/plain": [
              "<Figure size 864x360 with 2 Axes>"
            ]
          },
          "metadata": {
            "tags": [],
            "needs_background": "light"
          }
        }
      ]
    },
    {
      "cell_type": "code",
      "metadata": {
        "id": "Ltdo79wOevxZ",
        "colab_type": "code",
        "outputId": "ffd0d020-80b6-4e0b-98bd-84d9348e7eb8",
        "colab": {
          "base_uri": "https://localhost:8080/",
          "height": 255
        }
      },
      "source": [
        "# LOAD THE BEST PERFORMING MODEL (SO FAR.)\n",
        "best_model = keras.models.load_model('imdb_lstm_emb_best.h5')\n",
        "\n",
        "best_model.evaluate(X_test_pad2, y_test)"
      ],
      "execution_count": 0,
      "outputs": [
        {
          "output_type": "stream",
          "text": [
            "WARNING:tensorflow:Layer lstm will not use cuDNN kernel since it doesn't meet the cuDNN kernel criteria. It will use generic GPU kernel as fallback when running on GPU\n"
          ],
          "name": "stdout"
        },
        {
          "output_type": "stream",
          "text": [
            "WARNING:tensorflow:Layer lstm will not use cuDNN kernel since it doesn't meet the cuDNN kernel criteria. It will use generic GPU kernel as fallback when running on GPU\n"
          ],
          "name": "stderr"
        },
        {
          "output_type": "stream",
          "text": [
            "WARNING:tensorflow:Layer lstm will not use cuDNN kernel since it doesn't meet the cuDNN kernel criteria. It will use generic GPU kernel as fallback when running on GPU\n"
          ],
          "name": "stdout"
        },
        {
          "output_type": "stream",
          "text": [
            "WARNING:tensorflow:Layer lstm will not use cuDNN kernel since it doesn't meet the cuDNN kernel criteria. It will use generic GPU kernel as fallback when running on GPU\n"
          ],
          "name": "stderr"
        },
        {
          "output_type": "stream",
          "text": [
            "WARNING:tensorflow:Layer lstm will not use cuDNN kernel since it doesn't meet the cuDNN kernel criteria. It will use generic GPU kernel as fallback when running on GPU\n"
          ],
          "name": "stdout"
        },
        {
          "output_type": "stream",
          "text": [
            "WARNING:tensorflow:Layer lstm will not use cuDNN kernel since it doesn't meet the cuDNN kernel criteria. It will use generic GPU kernel as fallback when running on GPU\n"
          ],
          "name": "stderr"
        },
        {
          "output_type": "stream",
          "text": [
            "WARNING:tensorflow:Layer lstm_1 will not use cuDNN kernel since it doesn't meet the cuDNN kernel criteria. It will use generic GPU kernel as fallback when running on GPU\n"
          ],
          "name": "stdout"
        },
        {
          "output_type": "stream",
          "text": [
            "WARNING:tensorflow:Layer lstm_1 will not use cuDNN kernel since it doesn't meet the cuDNN kernel criteria. It will use generic GPU kernel as fallback when running on GPU\n"
          ],
          "name": "stderr"
        },
        {
          "output_type": "stream",
          "text": [
            "WARNING:tensorflow:Layer lstm_1 will not use cuDNN kernel since it doesn't meet the cuDNN kernel criteria. It will use generic GPU kernel as fallback when running on GPU\n"
          ],
          "name": "stdout"
        },
        {
          "output_type": "stream",
          "text": [
            "WARNING:tensorflow:Layer lstm_1 will not use cuDNN kernel since it doesn't meet the cuDNN kernel criteria. It will use generic GPU kernel as fallback when running on GPU\n"
          ],
          "name": "stderr"
        },
        {
          "output_type": "stream",
          "text": [
            "WARNING:tensorflow:Layer lstm_1 will not use cuDNN kernel since it doesn't meet the cuDNN kernel criteria. It will use generic GPU kernel as fallback when running on GPU\n"
          ],
          "name": "stdout"
        },
        {
          "output_type": "stream",
          "text": [
            "WARNING:tensorflow:Layer lstm_1 will not use cuDNN kernel since it doesn't meet the cuDNN kernel criteria. It will use generic GPU kernel as fallback when running on GPU\n"
          ],
          "name": "stderr"
        },
        {
          "output_type": "stream",
          "text": [
            "391/391 [==============================] - 70s 180ms/step - loss: 0.3834 - accuracy: 0.8426\n"
          ],
          "name": "stdout"
        },
        {
          "output_type": "execute_result",
          "data": {
            "text/plain": [
              "[0.3834415376186371, 0.8426399827003479]"
            ]
          },
          "metadata": {
            "tags": []
          },
          "execution_count": 84
        }
      ]
    },
    {
      "cell_type": "code",
      "metadata": {
        "id": "-A6VPloCeZEh",
        "colab_type": "code",
        "colab": {}
      },
      "source": [
        "# INTENTIONALLY LEFT BLANK"
      ],
      "execution_count": 0,
      "outputs": []
    },
    {
      "cell_type": "code",
      "metadata": {
        "id": "HBtwpg8gmlk9",
        "colab_type": "code",
        "colab": {}
      },
      "source": [
        "# INTENTIONALLY LEFT BLANK"
      ],
      "execution_count": 0,
      "outputs": []
    },
    {
      "cell_type": "markdown",
      "metadata": {
        "id": "xAKdMSVBml6H",
        "colab_type": "text"
      },
      "source": [
        "## Exploring BERT -  a Transformer Based Architecture \n",
        "\n",
        "In late 2018, Google (open-sourced)[https://ai.googleblog.com/2018/11/open-sourcing-bert-state-of-art-pre.html] BERT and heralded a revolution in NLP.\n",
        "\n",
        "BERT stands for Bidirectional Encoder Representations from Transformers. It is a pre-trained architecture that has been trained on a on a HUGE corpus of unlabeled text (including the entire Wikipedia and the Book Corpus)  "
      ]
    },
    {
      "cell_type": "code",
      "metadata": {
        "id": "kYqalEMFpYPf",
        "colab_type": "code",
        "colab": {
          "base_uri": "https://localhost:8080/",
          "height": 683
        },
        "outputId": "aa124cb7-551f-4240-a162-50c81c245269"
      },
      "source": [
        "! pip install transformers"
      ],
      "execution_count": 62,
      "outputs": [
        {
          "output_type": "stream",
          "text": [
            "Collecting transformers\n",
            "\u001b[?25l  Downloading https://files.pythonhosted.org/packages/a3/78/92cedda05552398352ed9784908b834ee32a0bd071a9b32de287327370b7/transformers-2.8.0-py3-none-any.whl (563kB)\n",
            "\r\u001b[K     |▋                               | 10kB 30.4MB/s eta 0:00:01\r\u001b[K     |█▏                              | 20kB 6.5MB/s eta 0:00:01\r\u001b[K     |█▊                              | 30kB 9.2MB/s eta 0:00:01\r\u001b[K     |██▎                             | 40kB 11.7MB/s eta 0:00:01\r\u001b[K     |███                             | 51kB 7.6MB/s eta 0:00:01\r\u001b[K     |███▌                            | 61kB 8.9MB/s eta 0:00:01\r\u001b[K     |████                            | 71kB 10.0MB/s eta 0:00:01\r\u001b[K     |████▋                           | 81kB 11.2MB/s eta 0:00:01\r\u001b[K     |█████▎                          | 92kB 9.0MB/s eta 0:00:01\r\u001b[K     |█████▉                          | 102kB 9.8MB/s eta 0:00:01\r\u001b[K     |██████▍                         | 112kB 9.8MB/s eta 0:00:01\r\u001b[K     |███████                         | 122kB 9.8MB/s eta 0:00:01\r\u001b[K     |███████▋                        | 133kB 9.8MB/s eta 0:00:01\r\u001b[K     |████████▏                       | 143kB 9.8MB/s eta 0:00:01\r\u001b[K     |████████▊                       | 153kB 9.8MB/s eta 0:00:01\r\u001b[K     |█████████▎                      | 163kB 9.8MB/s eta 0:00:01\r\u001b[K     |█████████▉                      | 174kB 9.8MB/s eta 0:00:01\r\u001b[K     |██████████▌                     | 184kB 9.8MB/s eta 0:00:01\r\u001b[K     |███████████                     | 194kB 9.8MB/s eta 0:00:01\r\u001b[K     |███████████▋                    | 204kB 9.8MB/s eta 0:00:01\r\u001b[K     |████████████▏                   | 215kB 9.8MB/s eta 0:00:01\r\u001b[K     |████████████▉                   | 225kB 9.8MB/s eta 0:00:01\r\u001b[K     |█████████████▍                  | 235kB 9.8MB/s eta 0:00:01\r\u001b[K     |██████████████                  | 245kB 9.8MB/s eta 0:00:01\r\u001b[K     |██████████████▌                 | 256kB 9.8MB/s eta 0:00:01\r\u001b[K     |███████████████▏                | 266kB 9.8MB/s eta 0:00:01\r\u001b[K     |███████████████▊                | 276kB 9.8MB/s eta 0:00:01\r\u001b[K     |████████████████▎               | 286kB 9.8MB/s eta 0:00:01\r\u001b[K     |████████████████▉               | 296kB 9.8MB/s eta 0:00:01\r\u001b[K     |█████████████████▍              | 307kB 9.8MB/s eta 0:00:01\r\u001b[K     |██████████████████              | 317kB 9.8MB/s eta 0:00:01\r\u001b[K     |██████████████████▋             | 327kB 9.8MB/s eta 0:00:01\r\u001b[K     |███████████████████▏            | 337kB 9.8MB/s eta 0:00:01\r\u001b[K     |███████████████████▊            | 348kB 9.8MB/s eta 0:00:01\r\u001b[K     |████████████████████▍           | 358kB 9.8MB/s eta 0:00:01\r\u001b[K     |█████████████████████           | 368kB 9.8MB/s eta 0:00:01\r\u001b[K     |█████████████████████▌          | 378kB 9.8MB/s eta 0:00:01\r\u001b[K     |██████████████████████          | 389kB 9.8MB/s eta 0:00:01\r\u001b[K     |██████████████████████▊         | 399kB 9.8MB/s eta 0:00:01\r\u001b[K     |███████████████████████▎        | 409kB 9.8MB/s eta 0:00:01\r\u001b[K     |███████████████████████▉        | 419kB 9.8MB/s eta 0:00:01\r\u001b[K     |████████████████████████▍       | 430kB 9.8MB/s eta 0:00:01\r\u001b[K     |█████████████████████████       | 440kB 9.8MB/s eta 0:00:01\r\u001b[K     |█████████████████████████▋      | 450kB 9.8MB/s eta 0:00:01\r\u001b[K     |██████████████████████████▏     | 460kB 9.8MB/s eta 0:00:01\r\u001b[K     |██████████████████████████▊     | 471kB 9.8MB/s eta 0:00:01\r\u001b[K     |███████████████████████████▎    | 481kB 9.8MB/s eta 0:00:01\r\u001b[K     |████████████████████████████    | 491kB 9.8MB/s eta 0:00:01\r\u001b[K     |████████████████████████████▌   | 501kB 9.8MB/s eta 0:00:01\r\u001b[K     |█████████████████████████████   | 512kB 9.8MB/s eta 0:00:01\r\u001b[K     |█████████████████████████████▋  | 522kB 9.8MB/s eta 0:00:01\r\u001b[K     |██████████████████████████████▎ | 532kB 9.8MB/s eta 0:00:01\r\u001b[K     |██████████████████████████████▉ | 542kB 9.8MB/s eta 0:00:01\r\u001b[K     |███████████████████████████████▍| 552kB 9.8MB/s eta 0:00:01\r\u001b[K     |████████████████████████████████| 563kB 9.8MB/s eta 0:00:01\r\u001b[K     |████████████████████████████████| 573kB 9.8MB/s \n",
            "\u001b[?25hRequirement already satisfied: dataclasses; python_version < \"3.7\" in /usr/local/lib/python3.6/dist-packages (from transformers) (0.7)\n",
            "Requirement already satisfied: boto3 in /usr/local/lib/python3.6/dist-packages (from transformers) (1.12.39)\n",
            "Requirement already satisfied: filelock in /usr/local/lib/python3.6/dist-packages (from transformers) (3.0.12)\n",
            "Requirement already satisfied: requests in /usr/local/lib/python3.6/dist-packages (from transformers) (2.21.0)\n",
            "Requirement already satisfied: tqdm>=4.27 in /usr/local/lib/python3.6/dist-packages (from transformers) (4.38.0)\n",
            "Collecting sentencepiece\n",
            "\u001b[?25l  Downloading https://files.pythonhosted.org/packages/74/f4/2d5214cbf13d06e7cb2c20d84115ca25b53ea76fa1f0ade0e3c9749de214/sentencepiece-0.1.85-cp36-cp36m-manylinux1_x86_64.whl (1.0MB)\n",
            "\r\u001b[K     |▎                               | 10kB 18.4MB/s eta 0:00:01\r\u001b[K     |▋                               | 20kB 26.7MB/s eta 0:00:01\r\u001b[K     |█                               | 30kB 33.4MB/s eta 0:00:01\r\u001b[K     |█▎                              | 40kB 38.9MB/s eta 0:00:01\r\u001b[K     |█▋                              | 51kB 42.8MB/s eta 0:00:01\r\u001b[K     |██                              | 61kB 46.6MB/s eta 0:00:01\r\u001b[K     |██▏                             | 71kB 48.7MB/s eta 0:00:01\r\u001b[K     |██▌                             | 81kB 50.7MB/s eta 0:00:01\r\u001b[K     |██▉                             | 92kB 52.6MB/s eta 0:00:01\r\u001b[K     |███▏                            | 102kB 54.4MB/s eta 0:00:01\r\u001b[K     |███▌                            | 112kB 54.4MB/s eta 0:00:01\r\u001b[K     |███▉                            | 122kB 54.4MB/s eta 0:00:01\r\u001b[K     |████                            | 133kB 54.4MB/s eta 0:00:01\r\u001b[K     |████▍                           | 143kB 54.4MB/s eta 0:00:01\r\u001b[K     |████▊                           | 153kB 54.4MB/s eta 0:00:01\r\u001b[K     |█████                           | 163kB 54.4MB/s eta 0:00:01\r\u001b[K     |█████▍                          | 174kB 54.4MB/s eta 0:00:01\r\u001b[K     |█████▊                          | 184kB 54.4MB/s eta 0:00:01\r\u001b[K     |██████                          | 194kB 54.4MB/s eta 0:00:01\r\u001b[K     |██████▎                         | 204kB 54.4MB/s eta 0:00:01\r\u001b[K     |██████▋                         | 215kB 54.4MB/s eta 0:00:01\r\u001b[K     |███████                         | 225kB 54.4MB/s eta 0:00:01\r\u001b[K     |███████▎                        | 235kB 54.4MB/s eta 0:00:01\r\u001b[K     |███████▋                        | 245kB 54.4MB/s eta 0:00:01\r\u001b[K     |███████▉                        | 256kB 54.4MB/s eta 0:00:01\r\u001b[K     |████████▏                       | 266kB 54.4MB/s eta 0:00:01\r\u001b[K     |████████▌                       | 276kB 54.4MB/s eta 0:00:01\r\u001b[K     |████████▉                       | 286kB 54.4MB/s eta 0:00:01\r\u001b[K     |█████████▏                      | 296kB 54.4MB/s eta 0:00:01\r\u001b[K     |█████████▌                      | 307kB 54.4MB/s eta 0:00:01\r\u001b[K     |█████████▊                      | 317kB 54.4MB/s eta 0:00:01\r\u001b[K     |██████████                      | 327kB 54.4MB/s eta 0:00:01\r\u001b[K     |██████████▍                     | 337kB 54.4MB/s eta 0:00:01\r\u001b[K     |██████████▊                     | 348kB 54.4MB/s eta 0:00:01\r\u001b[K     |███████████                     | 358kB 54.4MB/s eta 0:00:01\r\u001b[K     |███████████▍                    | 368kB 54.4MB/s eta 0:00:01\r\u001b[K     |███████████▋                    | 378kB 54.4MB/s eta 0:00:01\r\u001b[K     |████████████                    | 389kB 54.4MB/s eta 0:00:01\r\u001b[K     |████████████▎                   | 399kB 54.4MB/s eta 0:00:01\r\u001b[K     |████████████▋                   | 409kB 54.4MB/s eta 0:00:01\r\u001b[K     |█████████████                   | 419kB 54.4MB/s eta 0:00:01\r\u001b[K     |█████████████▎                  | 430kB 54.4MB/s eta 0:00:01\r\u001b[K     |█████████████▌                  | 440kB 54.4MB/s eta 0:00:01\r\u001b[K     |█████████████▉                  | 450kB 54.4MB/s eta 0:00:01\r\u001b[K     |██████████████▏                 | 460kB 54.4MB/s eta 0:00:01\r\u001b[K     |██████████████▌                 | 471kB 54.4MB/s eta 0:00:01\r\u001b[K     |██████████████▉                 | 481kB 54.4MB/s eta 0:00:01\r\u001b[K     |███████████████▏                | 491kB 54.4MB/s eta 0:00:01\r\u001b[K     |███████████████▍                | 501kB 54.4MB/s eta 0:00:01\r\u001b[K     |███████████████▊                | 512kB 54.4MB/s eta 0:00:01\r\u001b[K     |████████████████                | 522kB 54.4MB/s eta 0:00:01\r\u001b[K     |████████████████▍               | 532kB 54.4MB/s eta 0:00:01\r\u001b[K     |████████████████▊               | 542kB 54.4MB/s eta 0:00:01\r\u001b[K     |█████████████████               | 552kB 54.4MB/s eta 0:00:01\r\u001b[K     |█████████████████▎              | 563kB 54.4MB/s eta 0:00:01\r\u001b[K     |█████████████████▋              | 573kB 54.4MB/s eta 0:00:01\r\u001b[K     |██████████████████              | 583kB 54.4MB/s eta 0:00:01\r\u001b[K     |██████████████████▎             | 593kB 54.4MB/s eta 0:00:01\r\u001b[K     |██████████████████▋             | 604kB 54.4MB/s eta 0:00:01\r\u001b[K     |███████████████████             | 614kB 54.4MB/s eta 0:00:01\r\u001b[K     |███████████████████▏            | 624kB 54.4MB/s eta 0:00:01\r\u001b[K     |███████████████████▌            | 634kB 54.4MB/s eta 0:00:01\r\u001b[K     |███████████████████▉            | 645kB 54.4MB/s eta 0:00:01\r\u001b[K     |████████████████████▏           | 655kB 54.4MB/s eta 0:00:01\r\u001b[K     |████████████████████▌           | 665kB 54.4MB/s eta 0:00:01\r\u001b[K     |████████████████████▉           | 675kB 54.4MB/s eta 0:00:01\r\u001b[K     |█████████████████████▏          | 686kB 54.4MB/s eta 0:00:01\r\u001b[K     |█████████████████████▍          | 696kB 54.4MB/s eta 0:00:01\r\u001b[K     |█████████████████████▊          | 706kB 54.4MB/s eta 0:00:01\r\u001b[K     |██████████████████████          | 716kB 54.4MB/s eta 0:00:01\r\u001b[K     |██████████████████████▍         | 727kB 54.4MB/s eta 0:00:01\r\u001b[K     |██████████████████████▊         | 737kB 54.4MB/s eta 0:00:01\r\u001b[K     |███████████████████████         | 747kB 54.4MB/s eta 0:00:01\r\u001b[K     |███████████████████████▎        | 757kB 54.4MB/s eta 0:00:01\r\u001b[K     |███████████████████████▋        | 768kB 54.4MB/s eta 0:00:01\r\u001b[K     |████████████████████████        | 778kB 54.4MB/s eta 0:00:01\r\u001b[K     |████████████████████████▎       | 788kB 54.4MB/s eta 0:00:01\r\u001b[K     |████████████████████████▋       | 798kB 54.4MB/s eta 0:00:01\r\u001b[K     |█████████████████████████       | 808kB 54.4MB/s eta 0:00:01\r\u001b[K     |█████████████████████████▏      | 819kB 54.4MB/s eta 0:00:01\r\u001b[K     |█████████████████████████▌      | 829kB 54.4MB/s eta 0:00:01\r\u001b[K     |█████████████████████████▉      | 839kB 54.4MB/s eta 0:00:01\r\u001b[K     |██████████████████████████▏     | 849kB 54.4MB/s eta 0:00:01\r\u001b[K     |██████████████████████████▌     | 860kB 54.4MB/s eta 0:00:01\r\u001b[K     |██████████████████████████▉     | 870kB 54.4MB/s eta 0:00:01\r\u001b[K     |███████████████████████████     | 880kB 54.4MB/s eta 0:00:01\r\u001b[K     |███████████████████████████▍    | 890kB 54.4MB/s eta 0:00:01\r\u001b[K     |███████████████████████████▊    | 901kB 54.4MB/s eta 0:00:01\r\u001b[K     |████████████████████████████    | 911kB 54.4MB/s eta 0:00:01\r\u001b[K     |████████████████████████████▍   | 921kB 54.4MB/s eta 0:00:01\r\u001b[K     |████████████████████████████▊   | 931kB 54.4MB/s eta 0:00:01\r\u001b[K     |█████████████████████████████   | 942kB 54.4MB/s eta 0:00:01\r\u001b[K     |█████████████████████████████▎  | 952kB 54.4MB/s eta 0:00:01\r\u001b[K     |█████████████████████████████▋  | 962kB 54.4MB/s eta 0:00:01\r\u001b[K     |██████████████████████████████  | 972kB 54.4MB/s eta 0:00:01\r\u001b[K     |██████████████████████████████▎ | 983kB 54.4MB/s eta 0:00:01\r\u001b[K     |██████████████████████████████▋ | 993kB 54.4MB/s eta 0:00:01\r\u001b[K     |██████████████████████████████▉ | 1.0MB 54.4MB/s eta 0:00:01\r\u001b[K     |███████████████████████████████▏| 1.0MB 54.4MB/s eta 0:00:01\r\u001b[K     |███████████████████████████████▌| 1.0MB 54.4MB/s eta 0:00:01\r\u001b[K     |███████████████████████████████▉| 1.0MB 54.4MB/s eta 0:00:01\r\u001b[K     |████████████████████████████████| 1.0MB 54.4MB/s \n",
            "\u001b[?25hCollecting sacremoses\n",
            "\u001b[?25l  Downloading https://files.pythonhosted.org/packages/99/50/93509f906a40bffd7d175f97fd75ea328ad9bd91f48f59c4bd084c94a25e/sacremoses-0.0.41.tar.gz (883kB)\n",
            "\u001b[K     |████████████████████████████████| 890kB 42.6MB/s \n",
            "\u001b[?25hCollecting tokenizers==0.5.2\n",
            "\u001b[?25l  Downloading https://files.pythonhosted.org/packages/d1/3f/73c881ea4723e43c1e9acf317cf407fab3a278daab3a69c98dcac511c04f/tokenizers-0.5.2-cp36-cp36m-manylinux1_x86_64.whl (3.7MB)\n",
            "\u001b[K     |████████████████████████████████| 3.7MB 50.2MB/s \n",
            "\u001b[?25hRequirement already satisfied: numpy in /usr/local/lib/python3.6/dist-packages (from transformers) (1.18.2)\n",
            "Requirement already satisfied: regex!=2019.12.17 in /usr/local/lib/python3.6/dist-packages (from transformers) (2019.12.20)\n",
            "Requirement already satisfied: jmespath<1.0.0,>=0.7.1 in /usr/local/lib/python3.6/dist-packages (from boto3->transformers) (0.9.5)\n",
            "Requirement already satisfied: botocore<1.16.0,>=1.15.39 in /usr/local/lib/python3.6/dist-packages (from boto3->transformers) (1.15.39)\n",
            "Requirement already satisfied: s3transfer<0.4.0,>=0.3.0 in /usr/local/lib/python3.6/dist-packages (from boto3->transformers) (0.3.3)\n",
            "Requirement already satisfied: chardet<3.1.0,>=3.0.2 in /usr/local/lib/python3.6/dist-packages (from requests->transformers) (3.0.4)\n",
            "Requirement already satisfied: idna<2.9,>=2.5 in /usr/local/lib/python3.6/dist-packages (from requests->transformers) (2.8)\n",
            "Requirement already satisfied: urllib3<1.25,>=1.21.1 in /usr/local/lib/python3.6/dist-packages (from requests->transformers) (1.24.3)\n",
            "Requirement already satisfied: certifi>=2017.4.17 in /usr/local/lib/python3.6/dist-packages (from requests->transformers) (2020.4.5.1)\n",
            "Requirement already satisfied: six in /usr/local/lib/python3.6/dist-packages (from sacremoses->transformers) (1.12.0)\n",
            "Requirement already satisfied: click in /usr/local/lib/python3.6/dist-packages (from sacremoses->transformers) (7.1.1)\n",
            "Requirement already satisfied: joblib in /usr/local/lib/python3.6/dist-packages (from sacremoses->transformers) (0.14.1)\n",
            "Requirement already satisfied: python-dateutil<3.0.0,>=2.1 in /usr/local/lib/python3.6/dist-packages (from botocore<1.16.0,>=1.15.39->boto3->transformers) (2.8.1)\n",
            "Requirement already satisfied: docutils<0.16,>=0.10 in /usr/local/lib/python3.6/dist-packages (from botocore<1.16.0,>=1.15.39->boto3->transformers) (0.15.2)\n",
            "Building wheels for collected packages: sacremoses\n",
            "  Building wheel for sacremoses (setup.py) ... \u001b[?25l\u001b[?25hdone\n",
            "  Created wheel for sacremoses: filename=sacremoses-0.0.41-cp36-none-any.whl size=893334 sha256=eca2af8be99a14794a343118f5927bc70658ba8914c0aad6051f8e3a8f580930\n",
            "  Stored in directory: /root/.cache/pip/wheels/22/5a/d4/b020a81249de7dc63758a34222feaa668dbe8ebfe9170cc9b1\n",
            "Successfully built sacremoses\n",
            "Installing collected packages: sentencepiece, sacremoses, tokenizers, transformers\n",
            "Successfully installed sacremoses-0.0.41 sentencepiece-0.1.85 tokenizers-0.5.2 transformers-2.8.0\n"
          ],
          "name": "stdout"
        }
      ]
    },
    {
      "cell_type": "code",
      "metadata": {
        "id": "8GsWr5fIqrPi",
        "colab_type": "code",
        "colab": {
          "base_uri": "https://localhost:8080/",
          "height": 164,
          "referenced_widgets": [
            "b11eeaeb917a47c0bc2d04db626cfa1c",
            "ec22645bda364b9eafb5091befacbbc0",
            "d326f015f1cb4ee390c82707657d91cc",
            "2cb54c40e0ea45fab6b0437b63ddb1ca",
            "5c2596517cb14136975ed564069523fa",
            "aa9b31845d634b499b6175397c561b0c",
            "2921409335e9481892edf8b3d553deff",
            "18a0d21e25f446ef8c590d6e70f4a54b",
            "9b7e44bce2d64680a8e169c97c6fabfd",
            "e0e3740c186e44468e45b296c0b96bee",
            "8df4660d0f584046875d8c2713ab03d0",
            "19c25570f3804ea09932311f1e07a0ec",
            "16e7e6b33d61452c9c5bf17d42b1ee8d",
            "de746e0ed63f4017971d2597b70a7795",
            "5f4090ccce464570858033fac8d5c778",
            "d827ee56b2fc40598cb9d00d17977799",
            "9d4a812730fa42e196fa7000ecbc86a2",
            "8740ec25b6594ea89612aae05e23512e",
            "49083763061b4dccbffb68dac138a3f6",
            "45216cc217e94dc0b78f447930c07293",
            "1defc0d4183040ad90c9b8fda911102f",
            "629244edef784e21a783a81c6c93f4f9",
            "d4cbd6a5f4504dfda46beca182a67e95",
            "7e053d0eed044eb88acf17b344072969"
          ]
        },
        "outputId": "5c65551b-0060-4e69-e7d1-ecc84c309bc4"
      },
      "source": [
        "from transformers import (TFBertForSequenceClassification, \n",
        "                          BertTokenizer,\n",
        "                          TFRobertaForSequenceClassification, \n",
        "                          RobertaTokenizer)\n",
        "\n",
        "bert_model = TFBertForSequenceClassification.from_pretrained(\"bert-base-cased\")\n",
        "\n",
        "bert_tokenizer = BertTokenizer.from_pretrained(\"bert-base-cased\")"
      ],
      "execution_count": 63,
      "outputs": [
        {
          "output_type": "display_data",
          "data": {
            "application/vnd.jupyter.widget-view+json": {
              "model_id": "b11eeaeb917a47c0bc2d04db626cfa1c",
              "version_minor": 0,
              "version_major": 2
            },
            "text/plain": [
              "HBox(children=(IntProgress(value=0, description='Downloading', max=361, style=ProgressStyle(description_width=…"
            ]
          },
          "metadata": {
            "tags": []
          }
        },
        {
          "output_type": "stream",
          "text": [
            "\n"
          ],
          "name": "stdout"
        },
        {
          "output_type": "display_data",
          "data": {
            "application/vnd.jupyter.widget-view+json": {
              "model_id": "9b7e44bce2d64680a8e169c97c6fabfd",
              "version_minor": 0,
              "version_major": 2
            },
            "text/plain": [
              "HBox(children=(IntProgress(value=0, description='Downloading', max=526681800, style=ProgressStyle(description_…"
            ]
          },
          "metadata": {
            "tags": []
          }
        },
        {
          "output_type": "stream",
          "text": [
            "\n"
          ],
          "name": "stdout"
        },
        {
          "output_type": "display_data",
          "data": {
            "application/vnd.jupyter.widget-view+json": {
              "model_id": "9d4a812730fa42e196fa7000ecbc86a2",
              "version_minor": 0,
              "version_major": 2
            },
            "text/plain": [
              "HBox(children=(IntProgress(value=0, description='Downloading', max=213450, style=ProgressStyle(description_wid…"
            ]
          },
          "metadata": {
            "tags": []
          }
        },
        {
          "output_type": "stream",
          "text": [
            "\n"
          ],
          "name": "stdout"
        }
      ]
    },
    {
      "cell_type": "code",
      "metadata": {
        "id": "1TCsmjs_2QMn",
        "colab_type": "code",
        "colab": {}
      },
      "source": [
        ""
      ],
      "execution_count": 0,
      "outputs": []
    },
    {
      "cell_type": "markdown",
      "metadata": {
        "id": "V6pV4mCauCN6",
        "colab_type": "text"
      },
      "source": [
        "To recollect, `X_train_pd2` and `X_test_pd2` are the pre-tokenized versions of the data sets"
      ]
    },
    {
      "cell_type": "code",
      "metadata": {
        "id": "mRIzvJLny8ZV",
        "colab_type": "code",
        "colab": {
          "base_uri": "https://localhost:8080/",
          "height": 34
        },
        "outputId": "82954be2-3185-4789-f48f-852a32087691"
      },
      "source": [
        "type(train_data)\n",
        "\n",
        "tf.__version__"
      ],
      "execution_count": 74,
      "outputs": [
        {
          "output_type": "execute_result",
          "data": {
            "text/plain": [
              "'2.2.0-rc3'"
            ]
          },
          "metadata": {
            "tags": []
          },
          "execution_count": 74
        }
      ]
    },
    {
      "cell_type": "code",
      "metadata": {
        "id": "Ms9OgMJCugT9",
        "colab_type": "code",
        "colab": {
          "base_uri": "https://localhost:8080/",
          "height": 446
        },
        "outputId": "05c707cf-1ade-4a0e-9a68-6443ffecdb88"
      },
      "source": [
        "# IMPLEMENT CALLBACKS\n",
        "\n",
        "checkpoint_cb = keras.callbacks.ModelCheckpoint(\"bert_best.h5\",save_best_only = True)\n",
        "\n",
        "early_stopping_cb = keras.callbacks.EarlyStopping(patience = 4, restore_best_weights = True)\n",
        "\n",
        "\n",
        "# COMPILE AND FIT MODEL\n",
        "\n",
        "loss = tf.keras.losses.SparseCategoricalCrossentropy(from_logits=True)\n",
        "\n",
        "\n",
        "bert_model.compile(optimizer=\"adam\", loss= loss, metrics=['accuracy'])\n",
        " \n",
        "history_4 = bert_model.fit(X_train,y_train, epochs = 20,\n",
        "                            validation_data = (X_val_pad2, y_val),\n",
        "                            callbacks = [checkpoint_cb, early_stopping_cb]\n",
        "                            )"
      ],
      "execution_count": 79,
      "outputs": [
        {
          "output_type": "stream",
          "text": [
            "Epoch 1/20\n",
            "782/782 [==============================] - 592s 757ms/step - loss: 0.7220 - accuracy: 0.5010 - val_loss: 0.6937 - val_accuracy: 0.5033\n",
            "Epoch 2/20\n",
            " 59/782 [=>............................] - ETA: 7:36 - loss: 0.7189 - accuracy: 0.5064"
          ],
          "name": "stdout"
        },
        {
          "output_type": "error",
          "ename": "KeyboardInterrupt",
          "evalue": "ignored",
          "traceback": [
            "\u001b[0;31m---------------------------------------------------------------------------\u001b[0m",
            "\u001b[0;31mKeyboardInterrupt\u001b[0m                         Traceback (most recent call last)",
            "\u001b[0;32m<ipython-input-79-2ec5d048da91>\u001b[0m in \u001b[0;36m<module>\u001b[0;34m()\u001b[0m\n\u001b[1;32m     14\u001b[0m history_4 = bert_model.fit(X_train_pad2,y_train, epochs = 20,\n\u001b[1;32m     15\u001b[0m                             \u001b[0mvalidation_data\u001b[0m \u001b[0;34m=\u001b[0m \u001b[0;34m(\u001b[0m\u001b[0mX_val_pad2\u001b[0m\u001b[0;34m,\u001b[0m \u001b[0my_val\u001b[0m\u001b[0;34m)\u001b[0m\u001b[0;34m,\u001b[0m\u001b[0;34m\u001b[0m\u001b[0;34m\u001b[0m\u001b[0m\n\u001b[0;32m---> 16\u001b[0;31m                             \u001b[0mcallbacks\u001b[0m \u001b[0;34m=\u001b[0m \u001b[0;34m[\u001b[0m\u001b[0mcheckpoint_cb\u001b[0m\u001b[0;34m,\u001b[0m \u001b[0mearly_stopping_cb\u001b[0m\u001b[0;34m]\u001b[0m\u001b[0;34m\u001b[0m\u001b[0;34m\u001b[0m\u001b[0m\n\u001b[0m\u001b[1;32m     17\u001b[0m                             )\n",
            "\u001b[0;32m/usr/local/lib/python3.6/dist-packages/tensorflow/python/keras/engine/training.py\u001b[0m in \u001b[0;36m_method_wrapper\u001b[0;34m(self, *args, **kwargs)\u001b[0m\n\u001b[1;32m     64\u001b[0m   \u001b[0;32mdef\u001b[0m \u001b[0m_method_wrapper\u001b[0m\u001b[0;34m(\u001b[0m\u001b[0mself\u001b[0m\u001b[0;34m,\u001b[0m \u001b[0;34m*\u001b[0m\u001b[0margs\u001b[0m\u001b[0;34m,\u001b[0m \u001b[0;34m**\u001b[0m\u001b[0mkwargs\u001b[0m\u001b[0;34m)\u001b[0m\u001b[0;34m:\u001b[0m\u001b[0;34m\u001b[0m\u001b[0;34m\u001b[0m\u001b[0m\n\u001b[1;32m     65\u001b[0m     \u001b[0;32mif\u001b[0m \u001b[0;32mnot\u001b[0m \u001b[0mself\u001b[0m\u001b[0;34m.\u001b[0m\u001b[0m_in_multi_worker_mode\u001b[0m\u001b[0;34m(\u001b[0m\u001b[0;34m)\u001b[0m\u001b[0;34m:\u001b[0m  \u001b[0;31m# pylint: disable=protected-access\u001b[0m\u001b[0;34m\u001b[0m\u001b[0;34m\u001b[0m\u001b[0m\n\u001b[0;32m---> 66\u001b[0;31m       \u001b[0;32mreturn\u001b[0m \u001b[0mmethod\u001b[0m\u001b[0;34m(\u001b[0m\u001b[0mself\u001b[0m\u001b[0;34m,\u001b[0m \u001b[0;34m*\u001b[0m\u001b[0margs\u001b[0m\u001b[0;34m,\u001b[0m \u001b[0;34m**\u001b[0m\u001b[0mkwargs\u001b[0m\u001b[0;34m)\u001b[0m\u001b[0;34m\u001b[0m\u001b[0;34m\u001b[0m\u001b[0m\n\u001b[0m\u001b[1;32m     67\u001b[0m \u001b[0;34m\u001b[0m\u001b[0m\n\u001b[1;32m     68\u001b[0m     \u001b[0;31m# Running inside `run_distribute_coordinator` already.\u001b[0m\u001b[0;34m\u001b[0m\u001b[0;34m\u001b[0m\u001b[0;34m\u001b[0m\u001b[0m\n",
            "\u001b[0;32m/usr/local/lib/python3.6/dist-packages/tensorflow/python/keras/engine/training.py\u001b[0m in \u001b[0;36mfit\u001b[0;34m(self, x, y, batch_size, epochs, verbose, callbacks, validation_split, validation_data, shuffle, class_weight, sample_weight, initial_epoch, steps_per_epoch, validation_steps, validation_batch_size, validation_freq, max_queue_size, workers, use_multiprocessing, **kwargs)\u001b[0m\n\u001b[1;32m    849\u001b[0m                 batch_size=batch_size):\n\u001b[1;32m    850\u001b[0m               \u001b[0mcallbacks\u001b[0m\u001b[0;34m.\u001b[0m\u001b[0mon_train_batch_begin\u001b[0m\u001b[0;34m(\u001b[0m\u001b[0mstep\u001b[0m\u001b[0;34m)\u001b[0m\u001b[0;34m\u001b[0m\u001b[0;34m\u001b[0m\u001b[0m\n\u001b[0;32m--> 851\u001b[0;31m               \u001b[0mtmp_logs\u001b[0m \u001b[0;34m=\u001b[0m \u001b[0mtrain_function\u001b[0m\u001b[0;34m(\u001b[0m\u001b[0miterator\u001b[0m\u001b[0;34m)\u001b[0m\u001b[0;34m\u001b[0m\u001b[0;34m\u001b[0m\u001b[0m\n\u001b[0m\u001b[1;32m    852\u001b[0m               \u001b[0;31m# Catch OutOfRangeError for Datasets of unknown size.\u001b[0m\u001b[0;34m\u001b[0m\u001b[0;34m\u001b[0m\u001b[0;34m\u001b[0m\u001b[0m\n\u001b[1;32m    853\u001b[0m               \u001b[0;31m# This blocks until the batch has finished executing.\u001b[0m\u001b[0;34m\u001b[0m\u001b[0;34m\u001b[0m\u001b[0;34m\u001b[0m\u001b[0m\n",
            "\u001b[0;32m/usr/local/lib/python3.6/dist-packages/tensorflow/python/eager/def_function.py\u001b[0m in \u001b[0;36m__call__\u001b[0;34m(self, *args, **kwds)\u001b[0m\n\u001b[1;32m    578\u001b[0m         \u001b[0mxla_context\u001b[0m\u001b[0;34m.\u001b[0m\u001b[0mExit\u001b[0m\u001b[0;34m(\u001b[0m\u001b[0;34m)\u001b[0m\u001b[0;34m\u001b[0m\u001b[0;34m\u001b[0m\u001b[0m\n\u001b[1;32m    579\u001b[0m     \u001b[0;32melse\u001b[0m\u001b[0;34m:\u001b[0m\u001b[0;34m\u001b[0m\u001b[0;34m\u001b[0m\u001b[0m\n\u001b[0;32m--> 580\u001b[0;31m       \u001b[0mresult\u001b[0m \u001b[0;34m=\u001b[0m \u001b[0mself\u001b[0m\u001b[0;34m.\u001b[0m\u001b[0m_call\u001b[0m\u001b[0;34m(\u001b[0m\u001b[0;34m*\u001b[0m\u001b[0margs\u001b[0m\u001b[0;34m,\u001b[0m \u001b[0;34m**\u001b[0m\u001b[0mkwds\u001b[0m\u001b[0;34m)\u001b[0m\u001b[0;34m\u001b[0m\u001b[0;34m\u001b[0m\u001b[0m\n\u001b[0m\u001b[1;32m    581\u001b[0m \u001b[0;34m\u001b[0m\u001b[0m\n\u001b[1;32m    582\u001b[0m     \u001b[0;32mif\u001b[0m \u001b[0mtracing_count\u001b[0m \u001b[0;34m==\u001b[0m \u001b[0mself\u001b[0m\u001b[0;34m.\u001b[0m\u001b[0m_get_tracing_count\u001b[0m\u001b[0;34m(\u001b[0m\u001b[0;34m)\u001b[0m\u001b[0;34m:\u001b[0m\u001b[0;34m\u001b[0m\u001b[0;34m\u001b[0m\u001b[0m\n",
            "\u001b[0;32m/usr/local/lib/python3.6/dist-packages/tensorflow/python/eager/def_function.py\u001b[0m in \u001b[0;36m_call\u001b[0;34m(self, *args, **kwds)\u001b[0m\n\u001b[1;32m    609\u001b[0m       \u001b[0;31m# In this case we have created variables on the first call, so we run the\u001b[0m\u001b[0;34m\u001b[0m\u001b[0;34m\u001b[0m\u001b[0;34m\u001b[0m\u001b[0m\n\u001b[1;32m    610\u001b[0m       \u001b[0;31m# defunned version which is guaranteed to never create variables.\u001b[0m\u001b[0;34m\u001b[0m\u001b[0;34m\u001b[0m\u001b[0;34m\u001b[0m\u001b[0m\n\u001b[0;32m--> 611\u001b[0;31m       \u001b[0;32mreturn\u001b[0m \u001b[0mself\u001b[0m\u001b[0;34m.\u001b[0m\u001b[0m_stateless_fn\u001b[0m\u001b[0;34m(\u001b[0m\u001b[0;34m*\u001b[0m\u001b[0margs\u001b[0m\u001b[0;34m,\u001b[0m \u001b[0;34m**\u001b[0m\u001b[0mkwds\u001b[0m\u001b[0;34m)\u001b[0m  \u001b[0;31m# pylint: disable=not-callable\u001b[0m\u001b[0;34m\u001b[0m\u001b[0;34m\u001b[0m\u001b[0m\n\u001b[0m\u001b[1;32m    612\u001b[0m     \u001b[0;32melif\u001b[0m \u001b[0mself\u001b[0m\u001b[0;34m.\u001b[0m\u001b[0m_stateful_fn\u001b[0m \u001b[0;32mis\u001b[0m \u001b[0;32mnot\u001b[0m \u001b[0;32mNone\u001b[0m\u001b[0;34m:\u001b[0m\u001b[0;34m\u001b[0m\u001b[0;34m\u001b[0m\u001b[0m\n\u001b[1;32m    613\u001b[0m       \u001b[0;31m# Release the lock early so that multiple threads can perform the call\u001b[0m\u001b[0;34m\u001b[0m\u001b[0;34m\u001b[0m\u001b[0;34m\u001b[0m\u001b[0m\n",
            "\u001b[0;32m/usr/local/lib/python3.6/dist-packages/tensorflow/python/eager/function.py\u001b[0m in \u001b[0;36m__call__\u001b[0;34m(self, *args, **kwargs)\u001b[0m\n\u001b[1;32m   2418\u001b[0m     \u001b[0;32mwith\u001b[0m \u001b[0mself\u001b[0m\u001b[0;34m.\u001b[0m\u001b[0m_lock\u001b[0m\u001b[0;34m:\u001b[0m\u001b[0;34m\u001b[0m\u001b[0;34m\u001b[0m\u001b[0m\n\u001b[1;32m   2419\u001b[0m       \u001b[0mgraph_function\u001b[0m\u001b[0;34m,\u001b[0m \u001b[0margs\u001b[0m\u001b[0;34m,\u001b[0m \u001b[0mkwargs\u001b[0m \u001b[0;34m=\u001b[0m \u001b[0mself\u001b[0m\u001b[0;34m.\u001b[0m\u001b[0m_maybe_define_function\u001b[0m\u001b[0;34m(\u001b[0m\u001b[0margs\u001b[0m\u001b[0;34m,\u001b[0m \u001b[0mkwargs\u001b[0m\u001b[0;34m)\u001b[0m\u001b[0;34m\u001b[0m\u001b[0;34m\u001b[0m\u001b[0m\n\u001b[0;32m-> 2420\u001b[0;31m     \u001b[0;32mreturn\u001b[0m \u001b[0mgraph_function\u001b[0m\u001b[0;34m.\u001b[0m\u001b[0m_filtered_call\u001b[0m\u001b[0;34m(\u001b[0m\u001b[0margs\u001b[0m\u001b[0;34m,\u001b[0m \u001b[0mkwargs\u001b[0m\u001b[0;34m)\u001b[0m  \u001b[0;31m# pylint: disable=protected-access\u001b[0m\u001b[0;34m\u001b[0m\u001b[0;34m\u001b[0m\u001b[0m\n\u001b[0m\u001b[1;32m   2421\u001b[0m \u001b[0;34m\u001b[0m\u001b[0m\n\u001b[1;32m   2422\u001b[0m   \u001b[0;34m@\u001b[0m\u001b[0mproperty\u001b[0m\u001b[0;34m\u001b[0m\u001b[0;34m\u001b[0m\u001b[0m\n",
            "\u001b[0;32m/usr/local/lib/python3.6/dist-packages/tensorflow/python/eager/function.py\u001b[0m in \u001b[0;36m_filtered_call\u001b[0;34m(self, args, kwargs)\u001b[0m\n\u001b[1;32m   1663\u001b[0m          if isinstance(t, (ops.Tensor,\n\u001b[1;32m   1664\u001b[0m                            resource_variable_ops.BaseResourceVariable))),\n\u001b[0;32m-> 1665\u001b[0;31m         self.captured_inputs)\n\u001b[0m\u001b[1;32m   1666\u001b[0m \u001b[0;34m\u001b[0m\u001b[0m\n\u001b[1;32m   1667\u001b[0m   \u001b[0;32mdef\u001b[0m \u001b[0m_call_flat\u001b[0m\u001b[0;34m(\u001b[0m\u001b[0mself\u001b[0m\u001b[0;34m,\u001b[0m \u001b[0margs\u001b[0m\u001b[0;34m,\u001b[0m \u001b[0mcaptured_inputs\u001b[0m\u001b[0;34m,\u001b[0m \u001b[0mcancellation_manager\u001b[0m\u001b[0;34m=\u001b[0m\u001b[0;32mNone\u001b[0m\u001b[0;34m)\u001b[0m\u001b[0;34m:\u001b[0m\u001b[0;34m\u001b[0m\u001b[0;34m\u001b[0m\u001b[0m\n",
            "\u001b[0;32m/usr/local/lib/python3.6/dist-packages/tensorflow/python/eager/function.py\u001b[0m in \u001b[0;36m_call_flat\u001b[0;34m(self, args, captured_inputs, cancellation_manager)\u001b[0m\n\u001b[1;32m   1744\u001b[0m       \u001b[0;31m# No tape is watching; skip to running the function.\u001b[0m\u001b[0;34m\u001b[0m\u001b[0;34m\u001b[0m\u001b[0;34m\u001b[0m\u001b[0m\n\u001b[1;32m   1745\u001b[0m       return self._build_call_outputs(self._inference_function.call(\n\u001b[0;32m-> 1746\u001b[0;31m           ctx, args, cancellation_manager=cancellation_manager))\n\u001b[0m\u001b[1;32m   1747\u001b[0m     forward_backward = self._select_forward_and_backward_functions(\n\u001b[1;32m   1748\u001b[0m         \u001b[0margs\u001b[0m\u001b[0;34m,\u001b[0m\u001b[0;34m\u001b[0m\u001b[0;34m\u001b[0m\u001b[0m\n",
            "\u001b[0;32m/usr/local/lib/python3.6/dist-packages/tensorflow/python/eager/function.py\u001b[0m in \u001b[0;36mcall\u001b[0;34m(self, ctx, args, cancellation_manager)\u001b[0m\n\u001b[1;32m    596\u001b[0m               \u001b[0minputs\u001b[0m\u001b[0;34m=\u001b[0m\u001b[0margs\u001b[0m\u001b[0;34m,\u001b[0m\u001b[0;34m\u001b[0m\u001b[0;34m\u001b[0m\u001b[0m\n\u001b[1;32m    597\u001b[0m               \u001b[0mattrs\u001b[0m\u001b[0;34m=\u001b[0m\u001b[0mattrs\u001b[0m\u001b[0;34m,\u001b[0m\u001b[0;34m\u001b[0m\u001b[0;34m\u001b[0m\u001b[0m\n\u001b[0;32m--> 598\u001b[0;31m               ctx=ctx)\n\u001b[0m\u001b[1;32m    599\u001b[0m         \u001b[0;32melse\u001b[0m\u001b[0;34m:\u001b[0m\u001b[0;34m\u001b[0m\u001b[0;34m\u001b[0m\u001b[0m\n\u001b[1;32m    600\u001b[0m           outputs = execute.execute_with_cancellation(\n",
            "\u001b[0;32m/usr/local/lib/python3.6/dist-packages/tensorflow/python/eager/execute.py\u001b[0m in \u001b[0;36mquick_execute\u001b[0;34m(op_name, num_outputs, inputs, attrs, ctx, name)\u001b[0m\n\u001b[1;32m     58\u001b[0m     \u001b[0mctx\u001b[0m\u001b[0;34m.\u001b[0m\u001b[0mensure_initialized\u001b[0m\u001b[0;34m(\u001b[0m\u001b[0;34m)\u001b[0m\u001b[0;34m\u001b[0m\u001b[0;34m\u001b[0m\u001b[0m\n\u001b[1;32m     59\u001b[0m     tensors = pywrap_tfe.TFE_Py_Execute(ctx._handle, device_name, op_name,\n\u001b[0;32m---> 60\u001b[0;31m                                         inputs, attrs, num_outputs)\n\u001b[0m\u001b[1;32m     61\u001b[0m   \u001b[0;32mexcept\u001b[0m \u001b[0mcore\u001b[0m\u001b[0;34m.\u001b[0m\u001b[0m_NotOkStatusException\u001b[0m \u001b[0;32mas\u001b[0m \u001b[0me\u001b[0m\u001b[0;34m:\u001b[0m\u001b[0;34m\u001b[0m\u001b[0;34m\u001b[0m\u001b[0m\n\u001b[1;32m     62\u001b[0m     \u001b[0;32mif\u001b[0m \u001b[0mname\u001b[0m \u001b[0;32mis\u001b[0m \u001b[0;32mnot\u001b[0m \u001b[0;32mNone\u001b[0m\u001b[0;34m:\u001b[0m\u001b[0;34m\u001b[0m\u001b[0;34m\u001b[0m\u001b[0m\n",
            "\u001b[0;31mKeyboardInterrupt\u001b[0m: "
          ]
        }
      ]
    },
    {
      "cell_type": "code",
      "metadata": {
        "id": "kYUTCt2T4ALy",
        "colab_type": "code",
        "colab": {}
      },
      "source": [
        "history = history_4\n",
        "\n",
        "\n",
        "# BETTER LOOKING PLOTS FOR ACCURACY AND LOSS\n",
        "\n",
        "import matplotlib.pyplot as plt\n",
        "\n",
        "fig,axes = plt.subplots(nrows = 1, ncols = 2, figsize = (12,5))\n",
        "\n",
        "axes[0].plot(history.history['accuracy'])\n",
        "axes[0].plot(history.history['val_accuracy'])\n",
        "axes[0].set_ylim([0.5,1])\n",
        "axes[0].set_title('Model Accuracy')\n",
        "axes[0].set_ylabel('Accuracy')\n",
        "axes[0].set_xlabel('Epoch')\n",
        "axes[0].legend(['Training', 'Validation'], loc='lower right')\n",
        "\n",
        "axes[1].plot(history.history['loss'])\n",
        "axes[1].plot(history.history['val_loss'])\n",
        "axes[1].set_title('Model Loss')\n",
        "axes[1].set_ylabel('Loss')\n",
        "axes[1].set_xlabel('Epoch')\n",
        "axes[1].legend(['Training', 'Validation'], loc='upper left')"
      ],
      "execution_count": 0,
      "outputs": []
    },
    {
      "cell_type": "code",
      "metadata": {
        "id": "1qUz7XBu4GF5",
        "colab_type": "code",
        "colab": {}
      },
      "source": [
        "# LOAD THE BEST PERFORMING MODEL (SO FAR.)\n",
        "best_model = keras.models.load_model('bert_best.h5')\n",
        "\n",
        "best_model.evaluate(X_test_pad2, y_test)"
      ],
      "execution_count": 0,
      "outputs": []
    },
    {
      "cell_type": "code",
      "metadata": {
        "id": "nbPOUBhz4Ap3",
        "colab_type": "code",
        "colab": {}
      },
      "source": [
        ""
      ],
      "execution_count": 0,
      "outputs": []
    },
    {
      "cell_type": "code",
      "metadata": {
        "id": "O6N-dSTfugeU",
        "colab_type": "code",
        "colab": {}
      },
      "source": [
        ""
      ],
      "execution_count": 0,
      "outputs": []
    }
  ]
}